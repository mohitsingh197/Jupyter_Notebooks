{
    "nbformat_minor": 1, 
    "cells": [
        {
            "source": "!pip install --upgrade tensorflow", 
            "cell_type": "code", 
            "metadata": {}, 
            "outputs": [], 
            "execution_count": null
        }, 
        {
            "source": "import tensorflow as tf\ntf.__version__", 
            "cell_type": "code", 
            "metadata": {}, 
            "outputs": [
                {
                    "output_type": "execute_result", 
                    "data": {
                        "text/plain": "'1.3.0'"
                    }, 
                    "execution_count": 1, 
                    "metadata": {}
                }
            ], 
            "execution_count": 1
        }, 
        {
            "source": "a = tf.Variable(10)\nb = tf.Variable(20)\nf = a * b + 100\n\nsess = tf.Session()\nsess.run(a.initializer)\nsess.run(b.initializer)\nsess.run(f)", 
            "cell_type": "code", 
            "metadata": {}, 
            "outputs": [
                {
                    "output_type": "execute_result", 
                    "data": {
                        "text/plain": "300"
                    }, 
                    "execution_count": 7, 
                    "metadata": {}
                }
            ], 
            "execution_count": 7
        }, 
        {
            "source": "with tf.Session() as sess:\n    a.initializer.run()\n    b.initializer.run()\n    result = f.eval()\nresult", 
            "cell_type": "code", 
            "metadata": {}, 
            "outputs": [
                {
                    "output_type": "execute_result", 
                    "data": {
                        "text/plain": "300"
                    }, 
                    "execution_count": 8, 
                    "metadata": {}
                }
            ], 
            "execution_count": 8
        }, 
        {
            "source": "init = tf.global_variables_initializer\nsess = tf.InteractiveSession()\ninit.run()\nresult = f.eval()\nresult", 
            "cell_type": "code", 
            "metadata": {}, 
            "outputs": [
                {
                    "output_type": "execute_result", 
                    "data": {
                        "text/plain": "300"
                    }, 
                    "execution_count": 10, 
                    "metadata": {}
                }
            ], 
            "execution_count": 10
        }, 
        {
            "source": "a.graph is tf.get_default_graph()", 
            "cell_type": "code", 
            "metadata": {}, 
            "outputs": [
                {
                    "output_type": "execute_result", 
                    "data": {
                        "text/plain": "True"
                    }, 
                    "execution_count": 11, 
                    "metadata": {}
                }
            ], 
            "execution_count": 11
        }, 
        {
            "source": "A = tf.placeholder(tf.float32, shape=(None, 3))\nC = tf.placeholder(tf.float32, shape=(None, 3))\nB = A * C\nwith tf.Session() as sess:\n    B_val_1 = B.eval(feed_dict={A: [[1, 2, 3]], C:[[1,4,9]]})\n    B_val_2 = B.eval(feed_dict={A: [[4,5,6],[7,8,9]], C:[[4,5,6],[7,8,9]]})\nprint(B_val_1)\nprint(B_val_2)", 
            "cell_type": "code", 
            "metadata": {}, 
            "outputs": [
                {
                    "output_type": "stream", 
                    "name": "stdout", 
                    "text": "[[  1.   8.  27.]]\n[[ 16.  25.  36.]\n [ 49.  64.  81.]]\n"
                }
            ], 
            "execution_count": 5
        }, 
        {
            "source": "", 
            "cell_type": "code", 
            "metadata": {}, 
            "outputs": [], 
            "execution_count": null
        }
    ], 
    "metadata": {
        "kernelspec": {
            "display_name": "Python 3.5", 
            "name": "python3", 
            "language": "python"
        }, 
        "language_info": {
            "mimetype": "text/x-python", 
            "nbconvert_exporter": "python", 
            "version": "3.5.4", 
            "name": "python", 
            "pygments_lexer": "ipython3", 
            "file_extension": ".py", 
            "codemirror_mode": {
                "version": 3, 
                "name": "ipython"
            }
        }
    }, 
    "nbformat": 4
}