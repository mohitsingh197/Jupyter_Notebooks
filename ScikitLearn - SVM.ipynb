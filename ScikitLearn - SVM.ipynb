{
    "nbformat_minor": 1, 
    "cells": [
        {
            "source": "# Linear Classification", 
            "cell_type": "markdown", 
            "metadata": {}
        }, 
        {
            "source": "import numpy as np\nfrom sklearn import datasets\nfrom sklearn.pipeline import Pipeline\nfrom sklearn.preprocessing import StandardScaler\nfrom sklearn.svm import LinearSVC\nfrom sklearn.metrics import accuracy_score\n\niris = datasets.load_iris()\nX = iris.data\ny = iris['target'].astype('float64')\n\nsvm_clf = Pipeline(( ('scalar', StandardScaler()), \n                    ('linear_svc', LinearSVC(C=5, loss='hinge', multi_class='ovr')),\n                   ))\nsvm_clf.fit(X, y)", 
            "cell_type": "code", 
            "metadata": {}, 
            "outputs": [
                {
                    "output_type": "execute_result", 
                    "data": {
                        "text/plain": "Pipeline(memory=None,\n     steps=[('scalar', StandardScaler(copy=True, with_mean=True, with_std=True)), ('linear_svc', LinearSVC(C=5, class_weight=None, dual=True, fit_intercept=True,\n     intercept_scaling=1, loss='hinge', max_iter=1000, multi_class='ovr',\n     penalty='l2', random_state=None, tol=0.0001, verbose=0))])"
                    }, 
                    "execution_count": 67, 
                    "metadata": {}
                }
            ], 
            "execution_count": 67
        }, 
        {
            "source": "y_p = svm_clf.predict(X)", 
            "cell_type": "code", 
            "metadata": {}, 
            "outputs": [], 
            "execution_count": 68
        }, 
        {
            "source": "accuracy_score(y, y_p)", 
            "cell_type": "code", 
            "metadata": {}, 
            "outputs": [
                {
                    "output_type": "execute_result", 
                    "data": {
                        "text/plain": "0.94666666666666666"
                    }, 
                    "execution_count": 69, 
                    "metadata": {}
                }
            ], 
            "execution_count": 69
        }, 
        {
            "source": "# Non-Linear Classification with PolynomialFeatures", 
            "cell_type": "markdown", 
            "metadata": {}
        }, 
        {
            "source": "from sklearn.datasets import make_moons\nfrom sklearn.preprocessing import PolynomialFeatures\nfrom sklearn.preprocessing import StandardScaler\n  \nX, y = make_moons()\n\npoly_reg = Pipeline(( ('poly_feature', PolynomialFeatures(degree=3)), \n                     ('scaler', StandardScaler()), \n                     ('svc', LinearSVC(C=1, loss='hinge')) \n                    ))\npoly_reg.fit(X,y)\n\ny_poly_pred = poly_reg.predict(X)", 
            "cell_type": "code", 
            "metadata": {}, 
            "outputs": [], 
            "execution_count": 53
        }, 
        {
            "source": "accuracy_score(y, y_poly_pred)", 
            "cell_type": "code", 
            "metadata": {}, 
            "outputs": [
                {
                    "output_type": "execute_result", 
                    "data": {
                        "text/plain": "1.0"
                    }, 
                    "execution_count": 54, 
                    "metadata": {}
                }
            ], 
            "execution_count": 54
        }, 
        {
            "source": "# Non-Linear Kernel", 
            "cell_type": "markdown", 
            "metadata": {}
        }, 
        {
            "source": "from sklearn.datasets import make_moons\nfrom sklearn.svm import SVC\nfrom sklearn.preprocessing import StandardScaler\nfrom sklearn.metrics import accuracy_score\n  \nX, y = make_moons()\n\nX_train, X_test = X[:80], X[-20:]\ny_train, y_test = y[:80], y[-20:]\n\npoly__ker = Pipeline(( \n                     ('scaler', StandardScaler()), \n                     ('svc', SVC(kernel='poly', degree=3, C=5, coef0=1)) \n                    ))\npoly__ker.fit(X_train,y_train)\n", 
            "cell_type": "code", 
            "metadata": {}, 
            "outputs": [
                {
                    "output_type": "execute_result", 
                    "data": {
                        "text/plain": "Pipeline(memory=None,\n     steps=[('scaler', StandardScaler(copy=True, with_mean=True, with_std=True)), ('svc', SVC(C=5, cache_size=200, class_weight=None, coef0=1,\n  decision_function_shape='ovr', degree=3, gamma='auto', kernel='poly',\n  max_iter=-1, probability=False, random_state=None, shrinking=True,\n  tol=0.001, verbose=False))])"
                    }, 
                    "execution_count": 75, 
                    "metadata": {}
                }
            ], 
            "execution_count": 75
        }, 
        {
            "source": "y_pred = poly__ker.predict(X_test)", 
            "cell_type": "code", 
            "metadata": {}, 
            "outputs": [], 
            "execution_count": 76
        }, 
        {
            "source": "accuracy_score(y_test, y_pred)", 
            "cell_type": "code", 
            "metadata": {}, 
            "outputs": [
                {
                    "output_type": "execute_result", 
                    "data": {
                        "text/plain": "1.0"
                    }, 
                    "execution_count": 77, 
                    "metadata": {}
                }
            ], 
            "execution_count": 77
        }, 
        {
            "source": "# Adding Similarity Features - Gaussian Kernel", 
            "cell_type": "markdown", 
            "metadata": {}
        }, 
        {
            "source": "from sklearn.datasets import make_moons\nfrom sklearn.svm import SVC\nfrom sklearn.preprocessing import StandardScaler\nfrom sklearn.metrics import accuracy_score\nfrom sklearn.pipeline import Pipeline\n  \nX, y = make_moons()\n\nX_train, X_test = X[:80], X[-20:]\ny_train, y_test = y[:80], y[-20:]\n\ngaus_ker = Pipeline(( \n                     ('scaler', StandardScaler()), \n                     ('svc', SVC(kernel='rbf', C=5, gamma=5)) \n                    ))\ngaus_ker.fit(X_train,y_train)\n", 
            "cell_type": "code", 
            "metadata": {}, 
            "outputs": [
                {
                    "output_type": "execute_result", 
                    "data": {
                        "text/plain": "Pipeline(memory=None,\n     steps=[('scaler', StandardScaler(copy=True, with_mean=True, with_std=True)), ('svc', SVC(C=5, cache_size=200, class_weight=None, coef0=0.0,\n  decision_function_shape='ovr', degree=3, gamma=5, kernel='rbf',\n  max_iter=-1, probability=False, random_state=None, shrinking=True,\n  tol=0.001, verbose=False))])"
                    }, 
                    "execution_count": 9, 
                    "metadata": {}
                }
            ], 
            "execution_count": 9
        }, 
        {
            "source": "y_gau_pred = gaus_ker.predict(X_test)\naccuracy_score(y_test, y_gau_pred)", 
            "cell_type": "code", 
            "metadata": {}, 
            "outputs": [
                {
                    "output_type": "execute_result", 
                    "data": {
                        "text/plain": "1.0"
                    }, 
                    "execution_count": 10, 
                    "metadata": {}
                }
            ], 
            "execution_count": 10
        }, 
        {
            "source": "", 
            "cell_type": "code", 
            "metadata": {}, 
            "outputs": [], 
            "execution_count": null
        }
    ], 
    "metadata": {
        "kernelspec": {
            "display_name": "Python 3.5", 
            "name": "python3", 
            "language": "python"
        }, 
        "language_info": {
            "mimetype": "text/x-python", 
            "nbconvert_exporter": "python", 
            "version": "3.5.4", 
            "name": "python", 
            "file_extension": ".py", 
            "pygments_lexer": "ipython3", 
            "codemirror_mode": {
                "version": 3, 
                "name": "ipython"
            }
        }
    }, 
    "nbformat": 4
}