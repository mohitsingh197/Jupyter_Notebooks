{
    "nbformat_minor": 1, 
    "cells": [
        {
            "source": "import pandas as pd\nimport numpy as np", 
            "cell_type": "code", 
            "metadata": {}, 
            "outputs": [], 
            "execution_count": 1
        }, 
        {
            "source": "pdf = pd.DataFrame.from_items([('A', [1, 2, 3]), ('B', [4, 5, 6])])\npdf", 
            "cell_type": "code", 
            "metadata": {}, 
            "outputs": [
                {
                    "output_type": "execute_result", 
                    "data": {
                        "text/plain": "   A  B\n0  1  4\n1  2  5\n2  3  6", 
                        "text/html": "<div>\n<style scoped>\n    .dataframe tbody tr th:only-of-type {\n        vertical-align: middle;\n    }\n\n    .dataframe tbody tr th {\n        vertical-align: top;\n    }\n\n    .dataframe thead th {\n        text-align: right;\n    }\n</style>\n<table border=\"1\" class=\"dataframe\">\n  <thead>\n    <tr style=\"text-align: right;\">\n      <th></th>\n      <th>A</th>\n      <th>B</th>\n    </tr>\n  </thead>\n  <tbody>\n    <tr>\n      <th>0</th>\n      <td>1</td>\n      <td>4</td>\n    </tr>\n    <tr>\n      <th>1</th>\n      <td>2</td>\n      <td>5</td>\n    </tr>\n    <tr>\n      <th>2</th>\n      <td>3</td>\n      <td>6</td>\n    </tr>\n  </tbody>\n</table>\n</div>"
                    }, 
                    "execution_count": 3, 
                    "metadata": {}
                }
            ], 
            "execution_count": 3
        }, 
        {
            "source": "pdf.A", 
            "cell_type": "code", 
            "metadata": {}, 
            "outputs": [
                {
                    "output_type": "execute_result", 
                    "data": {
                        "text/plain": "0    1\n1    2\n2    3\nName: A, dtype: int64"
                    }, 
                    "execution_count": 4, 
                    "metadata": {}
                }
            ], 
            "execution_count": 4
        }, 
        {
            "source": "df = spark.createDataFrame([(1, 4), (2, 5), (3, 6)], [\"A\", \"B\"])\ndf.show()                           ", 
            "cell_type": "code", 
            "metadata": {}, 
            "outputs": [
                {
                    "output_type": "stream", 
                    "name": "stdout", 
                    "text": "+---+---+\n|  A|  B|\n+---+---+\n|  1|  4|\n|  2|  5|\n|  3|  6|\n+---+---+\n\n"
                }
            ], 
            "execution_count": 6
        }, 
        {
            "source": "print(pdf.A)\nprint(pdf['A'])\nprint(df.A)\nprint(df['A'])", 
            "cell_type": "code", 
            "metadata": {}, 
            "outputs": [
                {
                    "output_type": "stream", 
                    "name": "stdout", 
                    "text": "0    1\n1    2\n2    3\nName: A, dtype: int64\n0    1\n1    2\n2    3\nName: A, dtype: int64\nColumn<b'A'>\nColumn<b'A'>\n"
                }
            ], 
            "execution_count": 10
        }, 
        {
            "source": "pdf['C'] = 0\npdf", 
            "cell_type": "code", 
            "metadata": {}, 
            "outputs": [
                {
                    "output_type": "execute_result", 
                    "data": {
                        "text/plain": "   A  B  C\n0  1  4  0\n1  2  5  0\n2  3  6  0", 
                        "text/html": "<div>\n<style scoped>\n    .dataframe tbody tr th:only-of-type {\n        vertical-align: middle;\n    }\n\n    .dataframe tbody tr th {\n        vertical-align: top;\n    }\n\n    .dataframe thead th {\n        text-align: right;\n    }\n</style>\n<table border=\"1\" class=\"dataframe\">\n  <thead>\n    <tr style=\"text-align: right;\">\n      <th></th>\n      <th>A</th>\n      <th>B</th>\n      <th>C</th>\n    </tr>\n  </thead>\n  <tbody>\n    <tr>\n      <th>0</th>\n      <td>1</td>\n      <td>4</td>\n      <td>0</td>\n    </tr>\n    <tr>\n      <th>1</th>\n      <td>2</td>\n      <td>5</td>\n      <td>0</td>\n    </tr>\n    <tr>\n      <th>2</th>\n      <td>3</td>\n      <td>6</td>\n      <td>0</td>\n    </tr>\n  </tbody>\n</table>\n</div>"
                    }, 
                    "execution_count": 11, 
                    "metadata": {}
                }
            ], 
            "execution_count": 11
        }, 
        {
            "source": "df = df.withColumn('C', 0)", 
            "cell_type": "code", 
            "metadata": {}, 
            "outputs": [
                {
                    "output_type": "error", 
                    "evalue": "col should be Column", 
                    "traceback": [
                        "\u001b[0;31m---------------------------------------------------------------------------\u001b[0m", 
                        "\u001b[0;31mAssertionError\u001b[0m                            Traceback (most recent call last)", 
                        "\u001b[0;32m<ipython-input-14-262e8af48016>\u001b[0m in \u001b[0;36m<module>\u001b[0;34m()\u001b[0m\n\u001b[0;32m----> 1\u001b[0;31m \u001b[0mdf\u001b[0m \u001b[0;34m=\u001b[0m \u001b[0mdf\u001b[0m\u001b[0;34m.\u001b[0m\u001b[0mwithColumn\u001b[0m\u001b[0;34m(\u001b[0m\u001b[0;34m'C'\u001b[0m\u001b[0;34m,\u001b[0m \u001b[0;36m0\u001b[0m\u001b[0;34m)\u001b[0m\u001b[0;34m\u001b[0m\u001b[0m\n\u001b[0m", 
                        "\u001b[0;32m/usr/local/src/spark21master/spark/python/pyspark/sql/dataframe.py\u001b[0m in \u001b[0;36mwithColumn\u001b[0;34m(self, colName, col)\u001b[0m\n\u001b[1;32m   1499\u001b[0m         \u001b[0;34m[\u001b[0m\u001b[0mRow\u001b[0m\u001b[0;34m(\u001b[0m\u001b[0mage\u001b[0m\u001b[0;34m=\u001b[0m\u001b[0;36m2\u001b[0m\u001b[0;34m,\u001b[0m \u001b[0mname\u001b[0m\u001b[0;34m=\u001b[0m\u001b[0;34mu'Alice'\u001b[0m\u001b[0;34m,\u001b[0m \u001b[0mage2\u001b[0m\u001b[0;34m=\u001b[0m\u001b[0;36m4\u001b[0m\u001b[0;34m)\u001b[0m\u001b[0;34m,\u001b[0m \u001b[0mRow\u001b[0m\u001b[0;34m(\u001b[0m\u001b[0mage\u001b[0m\u001b[0;34m=\u001b[0m\u001b[0;36m5\u001b[0m\u001b[0;34m,\u001b[0m \u001b[0mname\u001b[0m\u001b[0;34m=\u001b[0m\u001b[0;34mu'Bob'\u001b[0m\u001b[0;34m,\u001b[0m \u001b[0mage2\u001b[0m\u001b[0;34m=\u001b[0m\u001b[0;36m7\u001b[0m\u001b[0;34m)\u001b[0m\u001b[0;34m]\u001b[0m\u001b[0;34m\u001b[0m\u001b[0m\n\u001b[1;32m   1500\u001b[0m         \"\"\"\n\u001b[0;32m-> 1501\u001b[0;31m         \u001b[0;32massert\u001b[0m \u001b[0misinstance\u001b[0m\u001b[0;34m(\u001b[0m\u001b[0mcol\u001b[0m\u001b[0;34m,\u001b[0m \u001b[0mColumn\u001b[0m\u001b[0;34m)\u001b[0m\u001b[0;34m,\u001b[0m \u001b[0;34m\"col should be Column\"\u001b[0m\u001b[0;34m\u001b[0m\u001b[0m\n\u001b[0m\u001b[1;32m   1502\u001b[0m         \u001b[0;32mreturn\u001b[0m \u001b[0mDataFrame\u001b[0m\u001b[0;34m(\u001b[0m\u001b[0mself\u001b[0m\u001b[0;34m.\u001b[0m\u001b[0m_jdf\u001b[0m\u001b[0;34m.\u001b[0m\u001b[0mwithColumn\u001b[0m\u001b[0;34m(\u001b[0m\u001b[0mcolName\u001b[0m\u001b[0;34m,\u001b[0m \u001b[0mcol\u001b[0m\u001b[0;34m.\u001b[0m\u001b[0m_jc\u001b[0m\u001b[0;34m)\u001b[0m\u001b[0;34m,\u001b[0m \u001b[0mself\u001b[0m\u001b[0;34m.\u001b[0m\u001b[0msql_ctx\u001b[0m\u001b[0;34m)\u001b[0m\u001b[0;34m\u001b[0m\u001b[0m\n\u001b[1;32m   1503\u001b[0m \u001b[0;34m\u001b[0m\u001b[0m\n", 
                        "\u001b[0;31mAssertionError\u001b[0m: col should be Column"
                    ], 
                    "ename": "AssertionError"
                }
            ], 
            "execution_count": 14
        }, 
        {
            "source": "from pyspark.sql import functions as F\ndf = df.withColumn('C', F.lit(0))\ndf.show()", 
            "cell_type": "code", 
            "metadata": {}, 
            "outputs": [
                {
                    "output_type": "stream", 
                    "name": "stdout", 
                    "text": "+---+---+---+\n|  A|  B|  C|\n+---+---+---+\n|  1|  4|  0|\n|  2|  5|  0|\n|  3|  6|  0|\n+---+---+---+\n\n"
                }
            ], 
            "execution_count": 13
        }, 
        {
            "source": "df.withColumn('C', df.B > 0).show()", 
            "cell_type": "code", 
            "metadata": {}, 
            "outputs": [
                {
                    "output_type": "stream", 
                    "name": "stdout", 
                    "text": "+---+---+----+\n|  A|  B|   C|\n+---+---+----+\n|  1|  4|true|\n|  2|  5|true|\n|  3|  6|true|\n+---+---+----+\n\n"
                }
            ], 
            "execution_count": 15
        }, 
        {
            "source": "df.withColumn('D', df.A * df.B).show()", 
            "cell_type": "code", 
            "metadata": {}, 
            "outputs": [
                {
                    "output_type": "stream", 
                    "name": "stdout", 
                    "text": "+---+---+---+---+\n|  A|  B|  C|  D|\n+---+---+---+---+\n|  1|  4|  0|  4|\n|  2|  5|  0| 10|\n|  3|  6|  0| 18|\n+---+---+---+---+\n\n"
                }
            ], 
            "execution_count": 16
        }, 
        {
            "source": "df.select(df.C > 0).show()", 
            "cell_type": "code", 
            "metadata": {}, 
            "outputs": [
                {
                    "output_type": "stream", 
                    "name": "stdout", 
                    "text": "+-------+\n|(C > 0)|\n+-------+\n|  false|\n|  false|\n|  false|\n+-------+\n\n"
                }
            ], 
            "execution_count": 19
        }, 
        {
            "source": "df.select('B' > 0).show()", 
            "cell_type": "code", 
            "metadata": {}, 
            "outputs": [
                {
                    "output_type": "error", 
                    "evalue": "unorderable types: str() > int()", 
                    "traceback": [
                        "\u001b[0;31m---------------------------------------------------------------------------\u001b[0m", 
                        "\u001b[0;31mTypeError\u001b[0m                                 Traceback (most recent call last)", 
                        "\u001b[0;32m<ipython-input-21-540c11e89c74>\u001b[0m in \u001b[0;36m<module>\u001b[0;34m()\u001b[0m\n\u001b[0;32m----> 1\u001b[0;31m \u001b[0mdf\u001b[0m\u001b[0;34m.\u001b[0m\u001b[0mselect\u001b[0m\u001b[0;34m(\u001b[0m\u001b[0;34m'B'\u001b[0m \u001b[0;34m>\u001b[0m \u001b[0;36m0\u001b[0m\u001b[0;34m)\u001b[0m\u001b[0;34m.\u001b[0m\u001b[0mshow\u001b[0m\u001b[0;34m(\u001b[0m\u001b[0;34m)\u001b[0m\u001b[0;34m\u001b[0m\u001b[0m\n\u001b[0m", 
                        "\u001b[0;31mTypeError\u001b[0m: unorderable types: str() > int()"
                    ], 
                    "ename": "TypeError"
                }
            ], 
            "execution_count": 21
        }, 
        {
            "source": "df.select(df['B'] > 0).show()", 
            "cell_type": "code", 
            "metadata": {}, 
            "outputs": [
                {
                    "output_type": "stream", 
                    "name": "stdout", 
                    "text": "+-------+\n|(B > 0)|\n+-------+\n|   true|\n|   true|\n|   true|\n+-------+\n\n"
                }
            ], 
            "execution_count": 22
        }, 
        {
            "source": "df.select((df.B > 0).alias(\"is_positive\")).show()", 
            "cell_type": "code", 
            "metadata": {}, 
            "outputs": [
                {
                    "output_type": "stream", 
                    "name": "stdout", 
                    "text": "+-----------+\n|is_positive|\n+-----------+\n|       true|\n|       true|\n|       true|\n+-----------+\n\n"
                }
            ], 
            "execution_count": 25
        }, 
        {
            "source": "pdf[(pdf.A > 1) & (pdf.B > 4)]", 
            "cell_type": "code", 
            "metadata": {}, 
            "outputs": [
                {
                    "output_type": "execute_result", 
                    "data": {
                        "text/plain": "   A  B  C\n1  2  5  0\n2  3  6  0", 
                        "text/html": "<div>\n<style scoped>\n    .dataframe tbody tr th:only-of-type {\n        vertical-align: middle;\n    }\n\n    .dataframe tbody tr th {\n        vertical-align: top;\n    }\n\n    .dataframe thead th {\n        text-align: right;\n    }\n</style>\n<table border=\"1\" class=\"dataframe\">\n  <thead>\n    <tr style=\"text-align: right;\">\n      <th></th>\n      <th>A</th>\n      <th>B</th>\n      <th>C</th>\n    </tr>\n  </thead>\n  <tbody>\n    <tr>\n      <th>1</th>\n      <td>2</td>\n      <td>5</td>\n      <td>0</td>\n    </tr>\n    <tr>\n      <th>2</th>\n      <td>3</td>\n      <td>6</td>\n      <td>0</td>\n    </tr>\n  </tbody>\n</table>\n</div>"
                    }, 
                    "execution_count": 27, 
                    "metadata": {}
                }
            ], 
            "execution_count": 27
        }, 
        {
            "source": "df.filter((df.A > 1) & (df.B > 4)).show()", 
            "cell_type": "code", 
            "metadata": {}, 
            "outputs": [
                {
                    "output_type": "stream", 
                    "name": "stdout", 
                    "text": "+---+---+---+\n|  A|  B|  C|\n+---+---+---+\n|  2|  5|  0|\n|  3|  6|  0|\n+---+---+---+\n\n"
                }
            ], 
            "execution_count": 30
        }, 
        {
            "source": "df[(df.A > 1) & (df.B > 4)].show()", 
            "cell_type": "code", 
            "metadata": {}, 
            "outputs": [
                {
                    "output_type": "stream", 
                    "name": "stdout", 
                    "text": "+---+---+---+\n|  A|  B|  C|\n+---+---+---+\n|  2|  5|  0|\n|  3|  6|  0|\n+---+---+---+\n\n"
                }
            ], 
            "execution_count": 33
        }, 
        {
            "source": "spark.createDataFrame(pdf).show()", 
            "cell_type": "code", 
            "metadata": {}, 
            "outputs": [
                {
                    "output_type": "stream", 
                    "name": "stdout", 
                    "text": "+---+---+---+\n|  A|  B|  C|\n+---+---+---+\n|  1|  4|  0|\n|  2|  5|  0|\n|  3|  6|  0|\n+---+---+---+\n\n"
                }
            ], 
            "execution_count": 34
        }, 
        {
            "source": "df.groupBy('A').avg('B').show()", 
            "cell_type": "code", 
            "metadata": {}, 
            "outputs": [
                {
                    "output_type": "stream", 
                    "name": "stdout", 
                    "text": "+---+------+\n|  A|avg(B)|\n+---+------+\n|  1|   4.0|\n|  3|   6.0|\n|  2|   5.0|\n+---+------+\n\n"
                }
            ], 
            "execution_count": 36
        }, 
        {
            "source": "pdf.groupby('A')['B'].mean()", 
            "cell_type": "code", 
            "metadata": {}, 
            "outputs": [
                {
                    "output_type": "execute_result", 
                    "data": {
                        "text/plain": "A\n1    4\n2    5\n3    6\nName: B, dtype: int64"
                    }, 
                    "execution_count": 42, 
                    "metadata": {}
                }
            ], 
            "execution_count": 42
        }, 
        {
            "source": "df.groupby('A').avg('B').describe().show()", 
            "cell_type": "code", 
            "metadata": {}, 
            "outputs": [
                {
                    "output_type": "stream", 
                    "name": "stdout", 
                    "text": "+-------+---+------+\n|summary|  A|avg(B)|\n+-------+---+------+\n|  count|  3|     3|\n|   mean|2.0|   5.0|\n| stddev|1.0|   1.0|\n|    min|  1|   4.0|\n|    max|  3|   6.0|\n+-------+---+------+\n\n"
                }
            ], 
            "execution_count": 48
        }, 
        {
            "source": "df.groupBy('A').agg(F.count('B'), F.max('B'), F.min('C')).show()", 
            "cell_type": "code", 
            "metadata": {}, 
            "outputs": [
                {
                    "output_type": "stream", 
                    "name": "stdout", 
                    "text": "+---+--------+------+------+\n|  A|count(B)|max(B)|min(C)|\n+---+--------+------+------+\n|  1|       1|     4|     0|\n|  3|       1|     6|     0|\n|  2|       1|     5|     0|\n+---+--------+------+------+\n\n"
                }
            ], 
            "execution_count": 49
        }, 
        {
            "source": "pdf.groupby('A')['B'].agg(['count', 'max','mean']) ", 
            "cell_type": "code", 
            "metadata": {}, 
            "outputs": [
                {
                    "output_type": "execute_result", 
                    "data": {
                        "text/plain": "   count  max  mean\nA                  \n1      1    4     4\n2      1    5     5\n3      1    6     6", 
                        "text/html": "<div>\n<style scoped>\n    .dataframe tbody tr th:only-of-type {\n        vertical-align: middle;\n    }\n\n    .dataframe tbody tr th {\n        vertical-align: top;\n    }\n\n    .dataframe thead th {\n        text-align: right;\n    }\n</style>\n<table border=\"1\" class=\"dataframe\">\n  <thead>\n    <tr style=\"text-align: right;\">\n      <th></th>\n      <th>count</th>\n      <th>max</th>\n      <th>mean</th>\n    </tr>\n    <tr>\n      <th>A</th>\n      <th></th>\n      <th></th>\n      <th></th>\n    </tr>\n  </thead>\n  <tbody>\n    <tr>\n      <th>1</th>\n      <td>1</td>\n      <td>4</td>\n      <td>4</td>\n    </tr>\n    <tr>\n      <th>2</th>\n      <td>1</td>\n      <td>5</td>\n      <td>5</td>\n    </tr>\n    <tr>\n      <th>3</th>\n      <td>1</td>\n      <td>6</td>\n      <td>6</td>\n    </tr>\n  </tbody>\n</table>\n</div>"
                    }, 
                    "execution_count": 60, 
                    "metadata": {}
                }
            ], 
            "execution_count": 60
        }, 
        {
            "source": "pdf.groupby('A').agg({'B':'count', 'C':'min'})", 
            "cell_type": "code", 
            "metadata": {}, 
            "outputs": [
                {
                    "output_type": "execute_result", 
                    "data": {
                        "text/plain": "   B  C\nA      \n1  1  0\n2  1  0\n3  1  0", 
                        "text/html": "<div>\n<style scoped>\n    .dataframe tbody tr th:only-of-type {\n        vertical-align: middle;\n    }\n\n    .dataframe tbody tr th {\n        vertical-align: top;\n    }\n\n    .dataframe thead th {\n        text-align: right;\n    }\n</style>\n<table border=\"1\" class=\"dataframe\">\n  <thead>\n    <tr style=\"text-align: right;\">\n      <th></th>\n      <th>B</th>\n      <th>C</th>\n    </tr>\n    <tr>\n      <th>A</th>\n      <th></th>\n      <th></th>\n    </tr>\n  </thead>\n  <tbody>\n    <tr>\n      <th>1</th>\n      <td>1</td>\n      <td>0</td>\n    </tr>\n    <tr>\n      <th>2</th>\n      <td>1</td>\n      <td>0</td>\n    </tr>\n    <tr>\n      <th>3</th>\n      <td>1</td>\n      <td>0</td>\n    </tr>\n  </tbody>\n</table>\n</div>"
                    }, 
                    "execution_count": 64, 
                    "metadata": {}
                }
            ], 
            "execution_count": 64
        }, 
        {
            "source": "df = sqlCtx.createDataFrame([(1, 4), (1, 5), (2, 6), (2, 6), (3, 0)], [\"A\", \"B\"])\npdf = df.toPandas()\npdf", 
            "cell_type": "code", 
            "metadata": {}, 
            "outputs": [
                {
                    "output_type": "execute_result", 
                    "data": {
                        "text/plain": "   A  B\n0  1  4\n1  1  5\n2  2  6\n3  2  6\n4  3  0", 
                        "text/html": "<div>\n<style scoped>\n    .dataframe tbody tr th:only-of-type {\n        vertical-align: middle;\n    }\n\n    .dataframe tbody tr th {\n        vertical-align: top;\n    }\n\n    .dataframe thead th {\n        text-align: right;\n    }\n</style>\n<table border=\"1\" class=\"dataframe\">\n  <thead>\n    <tr style=\"text-align: right;\">\n      <th></th>\n      <th>A</th>\n      <th>B</th>\n    </tr>\n  </thead>\n  <tbody>\n    <tr>\n      <th>0</th>\n      <td>1</td>\n      <td>4</td>\n    </tr>\n    <tr>\n      <th>1</th>\n      <td>1</td>\n      <td>5</td>\n    </tr>\n    <tr>\n      <th>2</th>\n      <td>2</td>\n      <td>6</td>\n    </tr>\n    <tr>\n      <th>3</th>\n      <td>2</td>\n      <td>6</td>\n    </tr>\n    <tr>\n      <th>4</th>\n      <td>3</td>\n      <td>0</td>\n    </tr>\n  </tbody>\n</table>\n</div>"
                    }, 
                    "execution_count": 65, 
                    "metadata": {}
                }
            ], 
            "execution_count": 65
        }, 
        {
            "source": "pdf['diff'] = pdf.B.diff()\npdf", 
            "cell_type": "code", 
            "metadata": {}, 
            "outputs": [
                {
                    "output_type": "execute_result", 
                    "data": {
                        "text/plain": "   A  B  diff\n0  1  4   NaN\n1  1  5   1.0\n2  2  6   1.0\n3  2  6   0.0\n4  3  0  -6.0", 
                        "text/html": "<div>\n<style scoped>\n    .dataframe tbody tr th:only-of-type {\n        vertical-align: middle;\n    }\n\n    .dataframe tbody tr th {\n        vertical-align: top;\n    }\n\n    .dataframe thead th {\n        text-align: right;\n    }\n</style>\n<table border=\"1\" class=\"dataframe\">\n  <thead>\n    <tr style=\"text-align: right;\">\n      <th></th>\n      <th>A</th>\n      <th>B</th>\n      <th>diff</th>\n    </tr>\n  </thead>\n  <tbody>\n    <tr>\n      <th>0</th>\n      <td>1</td>\n      <td>4</td>\n      <td>NaN</td>\n    </tr>\n    <tr>\n      <th>1</th>\n      <td>1</td>\n      <td>5</td>\n      <td>1.0</td>\n    </tr>\n    <tr>\n      <th>2</th>\n      <td>2</td>\n      <td>6</td>\n      <td>1.0</td>\n    </tr>\n    <tr>\n      <th>3</th>\n      <td>2</td>\n      <td>6</td>\n      <td>0.0</td>\n    </tr>\n    <tr>\n      <th>4</th>\n      <td>3</td>\n      <td>0</td>\n      <td>-6.0</td>\n    </tr>\n  </tbody>\n</table>\n</div>"
                    }, 
                    "execution_count": 66, 
                    "metadata": {}
                }
            ], 
            "execution_count": 66
        }, 
        {
            "source": "from pyspark.sql import Window\n\nwindow_over_A = Window.partitionBy('A').orderBy('B')\ndf.withColumn('diff', F.lead('B').over(window_over_A) - df.B).show()", 
            "cell_type": "code", 
            "metadata": {}, 
            "outputs": [
                {
                    "output_type": "stream", 
                    "name": "stdout", 
                    "text": "+---+---+----+\n|  A|  B|diff|\n+---+---+----+\n|  1|  4|   1|\n|  1|  5|null|\n|  3|  0|null|\n|  2|  6|   0|\n|  2|  6|null|\n+---+---+----+\n\n"
                }
            ], 
            "execution_count": 67
        }, 
        {
            "source": "\nimport sys\nimport types\nimport pandas as pd\nfrom botocore.client import Config\nimport ibm_boto3\n\ndef __iter__(self): return 0\n\n# @hidden_cell\n# The following code accesses a file in your IBM Cloud Object Storage. It includes your credentials.\n# You might want to remove those credentials before you share your notebook.\nclient_9fa254825cf748af8c99d9684609cb33 = ibm_boto3.client(service_name='s3',\n    ibm_api_key_id='pGtcK4Cfe0bYhkzj57xpd52SoW35u9AminIgvd2fgQxN',\n    ibm_auth_endpoint=\"https://iam.ng.bluemix.net/oidc/token\",\n    config=Config(signature_version='oauth'),\n    endpoint_url='https://s3-api.us-geo.objectstorage.service.networklayer.com')\n\nbody = client_9fa254825cf748af8c99d9684609cb33.get_object(Bucket='sparkscalapythonplayground-donotdelete-pr-pmmafeibz2hwiv',Key='P00000001-ALL.csv')['Body']\n# add missing __iter__ method, so pandas accepts body as file-like object\nif not hasattr(body, \"__iter__\"): body.__iter__ = types.MethodType( __iter__, body )\n\np_pdf = pd.read_csv(body)\np_pdf.head()\n\n", 
            "cell_type": "code", 
            "metadata": {}, 
            "outputs": [
                {
                    "output_type": "stream", 
                    "name": "stderr", 
                    "text": "/usr/local/src/conda3_runtime/home/envs/DSX-Python35-Spark/lib/python3.5/site-packages/IPython/core/interactiveshell.py:2698: DtypeWarning: Columns (6) have mixed types. Specify dtype option on import or set low_memory=False.\n  interactivity=interactivity, compiler=compiler, result=result)\n"
                }, 
                {
                    "output_type": "execute_result", 
                    "data": {
                        "text/plain": "     cmte_id    cand_id             cand_nm           contbr_nm  \\\n0  C00410118  P20002978  Bachmann, Michelle     HARVEY, WILLIAM   \n1  C00410118  P20002978  Bachmann, Michelle     HARVEY, WILLIAM   \n2  C00410118  P20002978  Bachmann, Michelle       SMITH, LANIER   \n3  C00410118  P20002978  Bachmann, Michelle    BLEVINS, DARONDA   \n4  C00410118  P20002978  Bachmann, Michelle  WARDENBURG, HAROLD   \n\n          contbr_city contbr_st   contbr_zip        contbr_employer  \\\n0              MOBILE        AL   3.6601e+08                RETIRED   \n1              MOBILE        AL   3.6601e+08                RETIRED   \n2              LANETT        AL  3.68633e+08  INFORMATION REQUESTED   \n3             PIGGOTT        AR  7.24548e+08                   NONE   \n4  HOT SPRINGS NATION        AR  7.19016e+08                   NONE   \n\n       contbr_occupation  contb_receipt_amt contb_receipt_dt receipt_desc  \\\n0                RETIRED              250.0        20-JUN-11          NaN   \n1                RETIRED               50.0        23-JUN-11          NaN   \n2  INFORMATION REQUESTED              250.0        05-JUL-11          NaN   \n3                RETIRED              250.0        01-AUG-11          NaN   \n4                RETIRED              300.0        20-JUN-11          NaN   \n\n  memo_cd memo_text form_tp  file_num  \n0     NaN       NaN   SA17A    736166  \n1     NaN       NaN   SA17A    736166  \n2     NaN       NaN   SA17A    749073  \n3     NaN       NaN   SA17A    749073  \n4     NaN       NaN   SA17A    736166  ", 
                        "text/html": "<div>\n<style scoped>\n    .dataframe tbody tr th:only-of-type {\n        vertical-align: middle;\n    }\n\n    .dataframe tbody tr th {\n        vertical-align: top;\n    }\n\n    .dataframe thead th {\n        text-align: right;\n    }\n</style>\n<table border=\"1\" class=\"dataframe\">\n  <thead>\n    <tr style=\"text-align: right;\">\n      <th></th>\n      <th>cmte_id</th>\n      <th>cand_id</th>\n      <th>cand_nm</th>\n      <th>contbr_nm</th>\n      <th>contbr_city</th>\n      <th>contbr_st</th>\n      <th>contbr_zip</th>\n      <th>contbr_employer</th>\n      <th>contbr_occupation</th>\n      <th>contb_receipt_amt</th>\n      <th>contb_receipt_dt</th>\n      <th>receipt_desc</th>\n      <th>memo_cd</th>\n      <th>memo_text</th>\n      <th>form_tp</th>\n      <th>file_num</th>\n    </tr>\n  </thead>\n  <tbody>\n    <tr>\n      <th>0</th>\n      <td>C00410118</td>\n      <td>P20002978</td>\n      <td>Bachmann, Michelle</td>\n      <td>HARVEY, WILLIAM</td>\n      <td>MOBILE</td>\n      <td>AL</td>\n      <td>3.6601e+08</td>\n      <td>RETIRED</td>\n      <td>RETIRED</td>\n      <td>250.0</td>\n      <td>20-JUN-11</td>\n      <td>NaN</td>\n      <td>NaN</td>\n      <td>NaN</td>\n      <td>SA17A</td>\n      <td>736166</td>\n    </tr>\n    <tr>\n      <th>1</th>\n      <td>C00410118</td>\n      <td>P20002978</td>\n      <td>Bachmann, Michelle</td>\n      <td>HARVEY, WILLIAM</td>\n      <td>MOBILE</td>\n      <td>AL</td>\n      <td>3.6601e+08</td>\n      <td>RETIRED</td>\n      <td>RETIRED</td>\n      <td>50.0</td>\n      <td>23-JUN-11</td>\n      <td>NaN</td>\n      <td>NaN</td>\n      <td>NaN</td>\n      <td>SA17A</td>\n      <td>736166</td>\n    </tr>\n    <tr>\n      <th>2</th>\n      <td>C00410118</td>\n      <td>P20002978</td>\n      <td>Bachmann, Michelle</td>\n      <td>SMITH, LANIER</td>\n      <td>LANETT</td>\n      <td>AL</td>\n      <td>3.68633e+08</td>\n      <td>INFORMATION REQUESTED</td>\n      <td>INFORMATION REQUESTED</td>\n      <td>250.0</td>\n      <td>05-JUL-11</td>\n      <td>NaN</td>\n      <td>NaN</td>\n      <td>NaN</td>\n      <td>SA17A</td>\n      <td>749073</td>\n    </tr>\n    <tr>\n      <th>3</th>\n      <td>C00410118</td>\n      <td>P20002978</td>\n      <td>Bachmann, Michelle</td>\n      <td>BLEVINS, DARONDA</td>\n      <td>PIGGOTT</td>\n      <td>AR</td>\n      <td>7.24548e+08</td>\n      <td>NONE</td>\n      <td>RETIRED</td>\n      <td>250.0</td>\n      <td>01-AUG-11</td>\n      <td>NaN</td>\n      <td>NaN</td>\n      <td>NaN</td>\n      <td>SA17A</td>\n      <td>749073</td>\n    </tr>\n    <tr>\n      <th>4</th>\n      <td>C00410118</td>\n      <td>P20002978</td>\n      <td>Bachmann, Michelle</td>\n      <td>WARDENBURG, HAROLD</td>\n      <td>HOT SPRINGS NATION</td>\n      <td>AR</td>\n      <td>7.19016e+08</td>\n      <td>NONE</td>\n      <td>RETIRED</td>\n      <td>300.0</td>\n      <td>20-JUN-11</td>\n      <td>NaN</td>\n      <td>NaN</td>\n      <td>NaN</td>\n      <td>SA17A</td>\n      <td>736166</td>\n    </tr>\n  </tbody>\n</table>\n</div>"
                    }, 
                    "execution_count": 3, 
                    "metadata": {}
                }
            ], 
            "execution_count": 3
        }, 
        {
            "source": "\nimport ibmos2spark\n\n# @hidden_cell\ncredentials = {\n    'endpoint': 'https://s3-api.us-geo.objectstorage.service.networklayer.com',\n    'api_key': 'pGtcK4Cfe0bYhkzj57xpd52SoW35u9AminIgvd2fgQxN',\n    'service_id': 'iam-ServiceId-8270013a-9afb-4c42-9b56-f62850a9c0f4',\n    'iam_service_endpoint': 'https://iam.ng.bluemix.net/oidc/token'}\n\nconfiguration_name = 'os_9fa254825cf748af8c99d9684609cb33_configs'\ncos = ibmos2spark.CloudObjectStorage(sc, credentials, configuration_name, 'bluemix_cos')\n\nfrom pyspark.sql import SparkSession\nspark = SparkSession.builder.getOrCreate()\np_df = spark.read\\\n  .format('org.apache.spark.sql.execution.datasources.csv.CSVFileFormat')\\\n  .option('header', 'true')\\\n  .load(cos.url('P00000001-ALL.csv', 'sparkscalapythonplayground-donotdelete-pr-pmmafeibz2hwiv'))\np_df.take(5)\n", 
            "cell_type": "code", 
            "metadata": {}, 
            "outputs": [
                {
                    "output_type": "execute_result", 
                    "data": {
                        "text/plain": "[Row(cmte_id='C00410118', cand_id='P20002978', cand_nm='Bachmann, Michelle', contbr_nm='HARVEY, WILLIAM', contbr_city='MOBILE', contbr_st='AL', contbr_zip='366010290', contbr_employer='RETIRED', contbr_occupation='RETIRED', contb_receipt_amt='250', contb_receipt_dt='20-JUN-11', receipt_desc=None, memo_cd=None, memo_text=None, form_tp='SA17A', file_num='736166'),\n Row(cmte_id='C00410118', cand_id='P20002978', cand_nm='Bachmann, Michelle', contbr_nm='HARVEY, WILLIAM', contbr_city='MOBILE', contbr_st='AL', contbr_zip='366010290', contbr_employer='RETIRED', contbr_occupation='RETIRED', contb_receipt_amt='50', contb_receipt_dt='23-JUN-11', receipt_desc=None, memo_cd=None, memo_text=None, form_tp='SA17A', file_num='736166'),\n Row(cmte_id='C00410118', cand_id='P20002978', cand_nm='Bachmann, Michelle', contbr_nm='SMITH, LANIER', contbr_city='LANETT', contbr_st='AL', contbr_zip='368633403', contbr_employer='INFORMATION REQUESTED', contbr_occupation='INFORMATION REQUESTED', contb_receipt_amt='250', contb_receipt_dt='05-JUL-11', receipt_desc=None, memo_cd=None, memo_text=None, form_tp='SA17A', file_num='749073'),\n Row(cmte_id='C00410118', cand_id='P20002978', cand_nm='Bachmann, Michelle', contbr_nm='BLEVINS, DARONDA', contbr_city='PIGGOTT', contbr_st='AR', contbr_zip='724548253', contbr_employer='NONE', contbr_occupation='RETIRED', contb_receipt_amt='250', contb_receipt_dt='01-AUG-11', receipt_desc=None, memo_cd=None, memo_text=None, form_tp='SA17A', file_num='749073'),\n Row(cmte_id='C00410118', cand_id='P20002978', cand_nm='Bachmann, Michelle', contbr_nm='WARDENBURG, HAROLD', contbr_city='HOT SPRINGS NATION', contbr_st='AR', contbr_zip='719016467', contbr_employer='NONE', contbr_occupation='RETIRED', contb_receipt_amt='300', contb_receipt_dt='20-JUN-11', receipt_desc=None, memo_cd=None, memo_text=None, form_tp='SA17A', file_num='736166')]"
                    }, 
                    "execution_count": 4, 
                    "metadata": {}
                }
            ], 
            "execution_count": 4
        }, 
        {
            "source": "p_df[p_df.cmte_id == 'C00410118'].count()", 
            "cell_type": "code", 
            "metadata": {}, 
            "outputs": [
                {
                    "output_type": "execute_result", 
                    "data": {
                        "text/plain": "411"
                    }, 
                    "execution_count": 5, 
                    "metadata": {}
                }
            ], 
            "execution_count": 5
        }, 
        {
            "source": "# Cast contb_receipt_amt column to double type", 
            "cell_type": "markdown", 
            "metadata": {}
        }, 
        {
            "source": "from pyspark.sql.types import DoubleType\np_df_cast = p_df.withColumn('contb_receipt_amt_num', p_df.contb_receipt_amt.cast(DoubleType())).drop('contb_receipt_amt')\np_df_cast.show(5)", 
            "cell_type": "code", 
            "metadata": {}, 
            "outputs": [
                {
                    "output_type": "stream", 
                    "name": "stdout", 
                    "text": "+---------+---------+------------------+------------------+------------------+---------+----------+--------------------+--------------------+----------------+------------+-------+---------+-------+--------+---------------------+\n|  cmte_id|  cand_id|           cand_nm|         contbr_nm|       contbr_city|contbr_st|contbr_zip|     contbr_employer|   contbr_occupation|contb_receipt_dt|receipt_desc|memo_cd|memo_text|form_tp|file_num|contb_receipt_amt_num|\n+---------+---------+------------------+------------------+------------------+---------+----------+--------------------+--------------------+----------------+------------+-------+---------+-------+--------+---------------------+\n|C00410118|P20002978|Bachmann, Michelle|   HARVEY, WILLIAM|            MOBILE|       AL| 366010290|             RETIRED|             RETIRED|       20-JUN-11|        null|   null|     null|  SA17A|  736166|                250.0|\n|C00410118|P20002978|Bachmann, Michelle|   HARVEY, WILLIAM|            MOBILE|       AL| 366010290|             RETIRED|             RETIRED|       23-JUN-11|        null|   null|     null|  SA17A|  736166|                 50.0|\n|C00410118|P20002978|Bachmann, Michelle|     SMITH, LANIER|            LANETT|       AL| 368633403|INFORMATION REQUE...|INFORMATION REQUE...|       05-JUL-11|        null|   null|     null|  SA17A|  749073|                250.0|\n|C00410118|P20002978|Bachmann, Michelle|  BLEVINS, DARONDA|           PIGGOTT|       AR| 724548253|                NONE|             RETIRED|       01-AUG-11|        null|   null|     null|  SA17A|  749073|                250.0|\n|C00410118|P20002978|Bachmann, Michelle|WARDENBURG, HAROLD|HOT SPRINGS NATION|       AR| 719016467|                NONE|             RETIRED|       20-JUN-11|        null|   null|     null|  SA17A|  736166|                300.0|\n+---------+---------+------------------+------------------+------------------+---------+----------+--------------------+--------------------+----------------+------------+-------+---------+-------+--------+---------------------+\nonly showing top 5 rows\n\n"
                }
            ], 
            "execution_count": 6
        }, 
        {
            "source": "# Which candidate received the highest amount as contribution", 
            "cell_type": "markdown", 
            "metadata": {}
        }, 
        {
            "source": "summed = p_pdf[['cand_nm', 'contb_receipt_amt']].groupby('cand_nm').sum()\nsummed.loc[summed.idxmax()]", 
            "cell_type": "code", 
            "metadata": {}, 
            "outputs": [
                {
                    "output_type": "execute_result", 
                    "data": {
                        "text/plain": "Index(['contb_receipt_amt'], dtype='object')"
                    }, 
                    "execution_count": 61, 
                    "metadata": {}
                }
            ], 
            "execution_count": 61
        }, 
        {
            "source": "from pyspark.sql import functions as F\np_df_cast_summed = p_df_cast[['cand_nm', 'contb_receipt_amt_num']].groupBy('cand_nm').agg(F.sum('contb_receipt_amt_num').alias('Total'))\nmax_contrib = p_df_cast_summed.withColumn('tempid', F.lit(0)).groupBy('tempid').agg(F.max('Total').alias('Max Contrib')).select('Max Contrib')", 
            "cell_type": "code", 
            "metadata": {}, 
            "outputs": [
                {
                    "output_type": "stream", 
                    "name": "stdout", 
                    "text": "['cand_nm', 'Total']\n"
                }
            ], 
            "execution_count": 76
        }, 
        {
            "source": "#print(max_contrib.first()[0])\np_df_cast_summed.select('cand_nm', 'Total').where(p_df_cast_summed.Total == max_contrib.first()[0]).show()", 
            "cell_type": "code", 
            "metadata": {}, 
            "outputs": [
                {
                    "output_type": "stream", 
                    "name": "stdout", 
                    "text": "+-------------+--------------------+\n|      cand_nm|               Total|\n+-------------+--------------------+\n|Obama, Barack|1.3350228644999972E8|\n+-------------+--------------------+\n\n"
                }
            ], 
            "execution_count": 87
        }, 
        {
            "source": "# Which city contributed the most to Barack Obama", 
            "cell_type": "markdown", 
            "metadata": {}
        }, 
        {
            "source": "p_pdf_summed = p_pdf[p_pdf.cand_nm == 'Obama, Barack'][['contbr_city', 'contb_receipt_amt']].groupby('contbr_city').sum()\np_pdf_summed.loc[p_pdf_summed.idxmax()]", 
            "cell_type": "code", 
            "metadata": {}, 
            "outputs": [
                {
                    "output_type": "execute_result", 
                    "data": {
                        "text/plain": "             contb_receipt_amt\ncontbr_city                   \nCHICAGO            12250782.12", 
                        "text/html": "<div>\n<style scoped>\n    .dataframe tbody tr th:only-of-type {\n        vertical-align: middle;\n    }\n\n    .dataframe tbody tr th {\n        vertical-align: top;\n    }\n\n    .dataframe thead th {\n        text-align: right;\n    }\n</style>\n<table border=\"1\" class=\"dataframe\">\n  <thead>\n    <tr style=\"text-align: right;\">\n      <th></th>\n      <th>contb_receipt_amt</th>\n    </tr>\n    <tr>\n      <th>contbr_city</th>\n      <th></th>\n    </tr>\n  </thead>\n  <tbody>\n    <tr>\n      <th>CHICAGO</th>\n      <td>12250782.12</td>\n    </tr>\n  </tbody>\n</table>\n</div>"
                    }, 
                    "execution_count": 58, 
                    "metadata": {}
                }
            ], 
            "execution_count": 58
        }, 
        {
            "source": "from pyspark.sql import functions as F\ncity_contribs = p_df_cast[p_df_cast.cand_nm == 'Obama, Barack'][['contbr_city', 'contb_receipt_amt_num']].groupBy('contbr_city').agg(F.sum('contb_receipt_amt_num').alias('Total'))\ncity_contribs.cache()", 
            "cell_type": "code", 
            "metadata": {}, 
            "outputs": [], 
            "execution_count": 17
        }, 
        {
            "source": "city_max_contri = city_contribs.withColumn('tempId', F.lit(0)).groupBy('tempId').agg(F.max('Total').alias('Max Contribution')).select('Max Contribution')", 
            "cell_type": "code", 
            "metadata": {}, 
            "outputs": [
                {
                    "output_type": "stream", 
                    "name": "stdout", 
                    "text": "+------+--------------------+\n|tempId|    Max Contribution|\n+------+--------------------+\n|     0|1.2250782119999992E7|\n+------+--------------------+\n\n"
                }
            ], 
            "execution_count": 94
        }, 
        {
            "source": "city_contribs.select(city_contribs.contbr_city, city_contribs.Total).where(city_contribs.Total == city_max_contri.first()[0]).show()", 
            "cell_type": "code", 
            "metadata": {}, 
            "outputs": [
                {
                    "output_type": "stream", 
                    "name": "stdout", 
                    "text": "+--------------+-----+\n|   contbr_city|Total|\n+--------------+-----+\n|  BELLEAIR BLF|  0.0|\n|      RIDGELEY|  0.0|\n|EGGHARBOR CITY|  0.0|\n|      LONGBOAT|  0.0|\n|      AMANHEIM|  0.0|\n|   LITTLE YORK|  0.0|\n|EARLBANKS1935@|  0.0|\n|      FISHTAIL|  0.0|\n|       ANDENNE|  0.0|\n|          DREW|  0.0|\n|       BALDWYN|  0.0|\n|       BIDWELL|  0.0|\n|     CHALMETTE|  0.0|\n+--------------+-----+\n\n"
                }
            ], 
            "execution_count": 96
        }, 
        {
            "source": "", 
            "cell_type": "code", 
            "metadata": {}, 
            "outputs": [], 
            "execution_count": null
        }
    ], 
    "metadata": {
        "kernelspec": {
            "display_name": "Python 3.5 with Spark 2.1", 
            "name": "python3-spark21", 
            "language": "python"
        }, 
        "language_info": {
            "mimetype": "text/x-python", 
            "nbconvert_exporter": "python", 
            "version": "3.5.4", 
            "name": "python", 
            "pygments_lexer": "ipython3", 
            "file_extension": ".py", 
            "codemirror_mode": {
                "version": 3, 
                "name": "ipython"
            }
        }
    }, 
    "nbformat": 4
}