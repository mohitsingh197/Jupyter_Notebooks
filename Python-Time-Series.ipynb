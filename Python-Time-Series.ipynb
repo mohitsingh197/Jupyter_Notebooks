{
    "nbformat_minor": 1, 
    "cells": [
        {
            "source": "import pandas as pd\nimport numpy as np", 
            "cell_type": "code", 
            "metadata": {}, 
            "outputs": [], 
            "execution_count": 1
        }, 
        {
            "source": "from datetime import datetime", 
            "cell_type": "code", 
            "metadata": {}, 
            "outputs": [], 
            "execution_count": null
        }, 
        {
            "source": "now = datetime.now()\nnow", 
            "cell_type": "code", 
            "metadata": {}, 
            "outputs": [
                {
                    "output_type": "execute_result", 
                    "data": {
                        "text/plain": "datetime.datetime(2018, 5, 14, 14, 20, 54, 430897)"
                    }, 
                    "execution_count": 7, 
                    "metadata": {}
                }
            ], 
            "execution_count": 7
        }, 
        {
            "source": "now.date(), now.day, now.dst(), now.hour, now.isoformat(), now.isocalendar(), now.now(), now.minute, now.month, now.second, now.time(), now.weekday(), now.year", 
            "cell_type": "code", 
            "metadata": {}, 
            "outputs": [
                {
                    "output_type": "execute_result", 
                    "data": {
                        "text/plain": "(datetime.date(2018, 5, 14),\n 14,\n None,\n 14,\n '2018-05-14T14:20:54.430897',\n (2018, 20, 1),\n datetime.datetime(2018, 5, 14, 14, 23, 17, 471456),\n 20,\n 5,\n 54,\n datetime.time(14, 20, 54, 430897),\n 0,\n 2018)"
                    }, 
                    "execution_count": 9, 
                    "metadata": {}
                }
            ], 
            "execution_count": 9
        }, 
        {
            "source": "from datetime import timedelta", 
            "cell_type": "code", 
            "metadata": {}, 
            "outputs": [], 
            "execution_count": 10
        }, 
        {
            "source": "start = datetime(2011,1,7)\nstart + timedelta(12)", 
            "cell_type": "code", 
            "metadata": {}, 
            "outputs": [
                {
                    "output_type": "execute_result", 
                    "data": {
                        "text/plain": "datetime.datetime(2011, 1, 19, 0, 0)"
                    }, 
                    "execution_count": 11, 
                    "metadata": {}
                }
            ], 
            "execution_count": 11
        }, 
        {
            "source": "start - 2 * timedelta(12)", 
            "cell_type": "code", 
            "metadata": {}, 
            "outputs": [
                {
                    "output_type": "execute_result", 
                    "data": {
                        "text/plain": "datetime.datetime(2010, 12, 14, 0, 0)"
                    }, 
                    "execution_count": 12, 
                    "metadata": {}
                }
            ], 
            "execution_count": 12
        }, 
        {
            "source": "from dateutil.parser import parse\nparse('2011-11-03')", 
            "cell_type": "code", 
            "metadata": {}, 
            "outputs": [
                {
                    "output_type": "execute_result", 
                    "data": {
                        "text/plain": "datetime.datetime(2011, 11, 3, 0, 0)"
                    }, 
                    "execution_count": 13, 
                    "metadata": {}
                }
            ], 
            "execution_count": 13
        }, 
        {
            "source": "parse('Jan 28 2017 10:45PM')", 
            "cell_type": "code", 
            "metadata": {}, 
            "outputs": [
                {
                    "output_type": "execute_result", 
                    "data": {
                        "text/plain": "datetime.datetime(2017, 1, 28, 22, 45)"
                    }, 
                    "execution_count": 14, 
                    "metadata": {}
                }
            ], 
            "execution_count": 14
        }, 
        {
            "source": "dates = [datetime(2011,1,2), datetime(2011,1,5), datetime(2011,1,7), datetime(2011,1,8), datetime(2011,1,12), datetime(2011,1,10)]\nts = pd.Series(np.random.randn(6), index=dates)\nts, ts.index, ts.index.dtype, ts.index[0]", 
            "cell_type": "code", 
            "metadata": {}, 
            "outputs": [
                {
                    "output_type": "execute_result", 
                    "data": {
                        "text/plain": "(2011-01-02   -0.102233\n 2011-01-05    1.176354\n 2011-01-07    0.212353\n 2011-01-08    0.313466\n 2011-01-12   -1.724339\n 2011-01-10   -0.488725\n dtype: float64,\n DatetimeIndex(['2011-01-02', '2011-01-05', '2011-01-07', '2011-01-08',\n                '2011-01-12', '2011-01-10'],\n               dtype='datetime64[ns]', freq=None),\n dtype('<M8[ns]'),\n Timestamp('2011-01-02 00:00:00'))"
                    }, 
                    "execution_count": 18, 
                    "metadata": {}
                }
            ], 
            "execution_count": 18
        }, 
        {
            "source": "ts['01-07-2011'], ts['01/07/2011'], ts['20110107']", 
            "cell_type": "code", 
            "metadata": {}, 
            "outputs": [
                {
                    "output_type": "execute_result", 
                    "data": {
                        "text/plain": "(2011-01-07    0.212353\n dtype: float64, 2011-01-07    0.212353\n dtype: float64, 2011-01-07    0.212353\n dtype: float64)"
                    }, 
                    "execution_count": 24, 
                    "metadata": {}
                }
            ], 
            "execution_count": 24
        }, 
        {
            "source": "long_ts = pd.Series(np.random.randn(1000), index=pd.date_range('2001-01-01', periods=1000))\nlong_ts.head(5), long_ts.tail(5)", 
            "cell_type": "code", 
            "metadata": {}, 
            "outputs": [
                {
                    "output_type": "execute_result", 
                    "data": {
                        "text/plain": "(2001-01-01    0.269619\n 2001-01-02    0.909360\n 2001-01-03    0.897678\n 2001-01-04    2.223030\n 2001-01-05    0.732295\n Freq: D, dtype: float64, 2003-09-23   -0.806170\n 2003-09-24    1.668520\n 2003-09-25   -1.491009\n 2003-09-26    0.071166\n 2003-09-27   -0.704062\n Freq: D, dtype: float64)"
                    }, 
                    "execution_count": 39, 
                    "metadata": {}
                }
            ], 
            "execution_count": 39
        }, 
        {
            "source": "long_ts['2002'].head(5), long_ts['2002'].size", 
            "cell_type": "code", 
            "metadata": {}, 
            "outputs": [
                {
                    "output_type": "execute_result", 
                    "data": {
                        "text/plain": "(2002-01-01   -0.934945\n 2002-01-02   -0.425979\n 2002-01-03    0.109201\n 2002-01-04   -0.825526\n 2002-01-05    0.078016\n Freq: D, dtype: float64, 365)"
                    }, 
                    "execution_count": 40, 
                    "metadata": {}
                }
            ], 
            "execution_count": 40
        }, 
        {
            "source": "long_ts['2003-06'], long_ts['2003-06'].size", 
            "cell_type": "code", 
            "metadata": {}, 
            "outputs": [
                {
                    "output_type": "execute_result", 
                    "data": {
                        "text/plain": "(2003-06-01    0.474749\n 2003-06-02   -0.686775\n 2003-06-03   -0.632194\n 2003-06-04    1.268784\n 2003-06-05   -0.371611\n 2003-06-06   -0.548017\n 2003-06-07    1.077636\n 2003-06-08   -0.255543\n 2003-06-09   -1.271726\n 2003-06-10   -0.539100\n 2003-06-11   -0.804663\n 2003-06-12   -1.113611\n 2003-06-13   -1.384895\n 2003-06-14   -1.459643\n 2003-06-15    0.509146\n 2003-06-16   -0.038757\n 2003-06-17    0.502723\n 2003-06-18   -0.426177\n 2003-06-19   -1.692776\n 2003-06-20    0.690885\n 2003-06-21    0.630706\n 2003-06-22    0.713233\n 2003-06-23   -0.623256\n 2003-06-24   -0.322007\n 2003-06-25    0.983833\n 2003-06-26    2.220098\n 2003-06-27   -0.858565\n 2003-06-28   -0.198472\n 2003-06-29    0.012225\n 2003-06-30   -1.341184\n Freq: D, dtype: float64, 30)"
                    }, 
                    "execution_count": 42, 
                    "metadata": {}
                }
            ], 
            "execution_count": 42
        }, 
        {
            "source": "long_ts['2001-05-01':'2001-06-01'].size", 
            "cell_type": "code", 
            "metadata": {}, 
            "outputs": [
                {
                    "output_type": "execute_result", 
                    "data": {
                        "text/plain": "32"
                    }, 
                    "execution_count": 44, 
                    "metadata": {}
                }
            ], 
            "execution_count": 44
        }, 
        {
            "source": "long_ts.truncate(after='2001-10-30', before='2001-10-20')", 
            "cell_type": "code", 
            "metadata": {}, 
            "outputs": [
                {
                    "output_type": "execute_result", 
                    "data": {
                        "text/plain": "2001-10-20    0.951769\n2001-10-21    0.783586\n2001-10-22   -0.886776\n2001-10-23    0.686720\n2001-10-24    2.330341\n2001-10-25   -0.362966\n2001-10-26   -0.564449\n2001-10-27   -1.464534\n2001-10-28   -1.084379\n2001-10-29    1.034509\n2001-10-30    1.772280\nFreq: D, dtype: float64"
                    }, 
                    "execution_count": 46, 
                    "metadata": {}
                }
            ], 
            "execution_count": 46
        }, 
        {
            "source": "pdf = pd.DataFrame(np.random.randn(10), index=[1,1,1,1,2,2,3,3,3,4], columns=['Num'])\npdf, pdf.groupby(pdf.index).count()", 
            "cell_type": "code", 
            "metadata": {}, 
            "outputs": [
                {
                    "output_type": "execute_result", 
                    "data": {
                        "text/plain": "(        Num\n 1 -0.267603\n 1 -1.304346\n 1  0.020983\n 1 -0.284044\n 2 -0.573730\n 2  0.103979\n 3  0.573684\n 3  0.169289\n 3 -0.339023\n 4 -1.865631,    Num\n 1    4\n 2    2\n 3    3\n 4    1)"
                    }, 
                    "execution_count": 49, 
                    "metadata": {}
                }
            ], 
            "execution_count": 49
        }, 
        {
            "source": "ts.resample('D')", 
            "cell_type": "code", 
            "metadata": {}, 
            "outputs": [
                {
                    "output_type": "execute_result", 
                    "data": {
                        "text/plain": "DatetimeIndexResampler [freq=<Day>, axis=0, closed=left, label=left, convention=start, base=0]"
                    }, 
                    "execution_count": 51, 
                    "metadata": {}
                }
            ], 
            "execution_count": 51
        }, 
        {
            "source": "pd.date_range('2001-10-10', '2002-10-10', freq='BM'), pd.date_range('2001-10-10', '2001-11-10', freq='B')", 
            "cell_type": "code", 
            "metadata": {}, 
            "outputs": [
                {
                    "output_type": "execute_result", 
                    "data": {
                        "text/plain": "(DatetimeIndex(['2001-10-31', '2001-11-30', '2001-12-31', '2002-01-31',\n                '2002-02-28', '2002-03-29', '2002-04-30', '2002-05-31',\n                '2002-06-28', '2002-07-31', '2002-08-30', '2002-09-30'],\n               dtype='datetime64[ns]', freq='BM'),\n DatetimeIndex(['2001-10-10', '2001-10-11', '2001-10-12', '2001-10-15',\n                '2001-10-16', '2001-10-17', '2001-10-18', '2001-10-19',\n                '2001-10-22', '2001-10-23', '2001-10-24', '2001-10-25',\n                '2001-10-26', '2001-10-29', '2001-10-30', '2001-10-31',\n                '2001-11-01', '2001-11-02', '2001-11-05', '2001-11-06',\n                '2001-11-07', '2001-11-08', '2001-11-09'],\n               dtype='datetime64[ns]', freq='B'))"
                    }, 
                    "execution_count": 53, 
                    "metadata": {}
                }
            ], 
            "execution_count": 53
        }, 
        {
            "source": "", 
            "cell_type": "code", 
            "metadata": {}, 
            "outputs": [], 
            "execution_count": null
        }
    ], 
    "metadata": {
        "kernelspec": {
            "display_name": "Python 3.5", 
            "name": "python3", 
            "language": "python"
        }, 
        "language_info": {
            "mimetype": "text/x-python", 
            "nbconvert_exporter": "python", 
            "version": "3.5.4", 
            "name": "python", 
            "file_extension": ".py", 
            "pygments_lexer": "ipython3", 
            "codemirror_mode": {
                "version": 3, 
                "name": "ipython"
            }
        }
    }, 
    "nbformat": 4
}