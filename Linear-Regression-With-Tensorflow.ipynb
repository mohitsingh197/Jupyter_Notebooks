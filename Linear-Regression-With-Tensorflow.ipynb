{
    "nbformat_minor": 1, 
    "cells": [
        {
            "source": "import numpy as np\nfrom sklearn.datasets import fetch_california_housing", 
            "cell_type": "code", 
            "metadata": {}, 
            "outputs": [], 
            "execution_count": 1
        }, 
        {
            "source": "housing = fetch_california_housing()", 
            "cell_type": "code", 
            "metadata": {}, 
            "outputs": [
                {
                    "output_type": "stream", 
                    "name": "stderr", 
                    "text": "Downloading Cal. housing from https://ndownloader.figshare.com/files/5976036 to /home/dsxuser/scikit_learn_data\n"
                }
            ], 
            "execution_count": 3
        }, 
        {
            "source": "print(housing.feature_names)\ndata = housing.data\ntarget = housing.target\nm, n = data.shape\nprint(data.shape)\nprint(target.shape)", 
            "cell_type": "code", 
            "metadata": {}, 
            "outputs": [
                {
                    "output_type": "stream", 
                    "name": "stdout", 
                    "text": "['MedInc', 'HouseAge', 'AveRooms', 'AveBedrms', 'Population', 'AveOccup', 'Latitude', 'Longitude']\n(20640, 8)\n(20640,)\n"
                }
            ], 
            "execution_count": 4
        }, 
        {
            "source": "bias_arr = np.ones(shape=(m,1), dtype=np.float32)\nhousing_data_plus_bias = np.hstack(( bias_arr, data))\nhousing_data_plus_bias.shape", 
            "cell_type": "code", 
            "metadata": {}, 
            "outputs": [
                {
                    "output_type": "execute_result", 
                    "data": {
                        "text/plain": "(20640, 9)"
                    }, 
                    "execution_count": 5, 
                    "metadata": {}
                }
            ], 
            "execution_count": 5
        }, 
        {
            "source": "import tensorflow as tf", 
            "cell_type": "code", 
            "metadata": {}, 
            "outputs": [], 
            "execution_count": 6
        }, 
        {
            "source": "X = tf.constant(housing_data_plus_bias, dtype='float32', name='X')\ny = tf.constant(target.reshape(m, 1), dtype='float32', name='y')\nXT = tf.transpose(X)\ntheta = tf.matmul(tf.matmul(tf.matrix_inverse(tf.matmul(XT, X)), XT),y) # theta = (inverse(XT.X)).XT.y", 
            "cell_type": "code", 
            "metadata": {}, 
            "outputs": [], 
            "execution_count": 27
        }, 
        {
            "source": "with tf.Session() as sess:\n    theta_value = theta.eval()\n\ntheta_value", 
            "cell_type": "code", 
            "metadata": {}, 
            "outputs": [
                {
                    "output_type": "execute_result", 
                    "data": {
                        "text/plain": "array([[ -3.71851807e+01],\n       [  4.36337471e-01],\n       [  9.39523336e-03],\n       [ -1.07113101e-01],\n       [  6.44792199e-01],\n       [ -4.03380000e-06],\n       [ -3.78137082e-03],\n       [ -4.23484027e-01],\n       [ -4.37219113e-01]], dtype=float32)"
                    }, 
                    "execution_count": 28, 
                    "metadata": {}
                }
            ], 
            "execution_count": 28
        }, 
        {
            "source": "", 
            "cell_type": "code", 
            "metadata": {}, 
            "outputs": [], 
            "execution_count": null
        }
    ], 
    "metadata": {
        "kernelspec": {
            "display_name": "Python 3.5", 
            "name": "python3", 
            "language": "python"
        }, 
        "language_info": {
            "mimetype": "text/x-python", 
            "nbconvert_exporter": "python", 
            "version": "3.5.4", 
            "name": "python", 
            "file_extension": ".py", 
            "pygments_lexer": "ipython3", 
            "codemirror_mode": {
                "version": 3, 
                "name": "ipython"
            }
        }
    }, 
    "nbformat": 4
}