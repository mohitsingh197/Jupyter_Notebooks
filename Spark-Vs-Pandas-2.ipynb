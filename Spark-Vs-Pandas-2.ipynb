{
    "nbformat_minor": 1, 
    "cells": [
        {
            "source": "import pandas as pd\nimport numpy as np", 
            "cell_type": "code", 
            "metadata": {}, 
            "outputs": [], 
            "execution_count": 1
        }, 
        {
            "source": "# Reading files in Spark", 
            "cell_type": "markdown", 
            "metadata": {}
        }, 
        {
            "source": "\nimport ibmos2spark\n\n# @hidden_cell\ncredentials = {\n    'endpoint': 'https://s3-api.us-geo.objectstorage.service.networklayer.com',\n    'api_key': 'pGtcK4Cfe0bYhkzj57xpd52SoW35u9AminIgvd2fgQxN',\n    'service_id': 'iam-ServiceId-8270013a-9afb-4c42-9b56-f62850a9c0f4',\n    'iam_service_endpoint': 'https://iam.ng.bluemix.net/oidc/token'}\n\nconfiguration_name = 'os_9fa254825cf748af8c99d9684609cb33_configs'\ncos = ibmos2spark.CloudObjectStorage(sc, credentials, configuration_name, 'bluemix_cos')\n\nfrom pyspark.sql import SparkSession\nspark = SparkSession.builder.getOrCreate()\n# Please read the documentation of PySpark to learn more about the possibilities to load data files.\n# PySpark documentation: https://spark.apache.org/docs/2.0.1/api/python/pyspark.sql.html#pyspark.sql.SparkSession\n# The SparkSession object is already initialized for you.\n# The following variable contains the path to your file on your IBM Cloud Object Storage.\nmovies_path = cos.url('movielens_movies.dat', 'sparkscalapythonplayground-donotdelete-pr-pmmafeibz2hwiv')\nratings_path = cos.url('movielens_ratings.dat', 'sparkscalapythonplayground-donotdelete-pr-pmmafeibz2hwiv')\nusers_path = cos.url('movielens_users.dat', 'sparkscalapythonplayground-donotdelete-pr-pmmafeibz2hwiv')\n", 
            "cell_type": "code", 
            "metadata": {}, 
            "outputs": [], 
            "execution_count": 17
        }, 
        {
            "source": "# Read movies file", 
            "cell_type": "markdown", 
            "metadata": {}
        }, 
        {
            "source": "movies_df = spark.read.options(delimiter=':').csv(movies_path)", 
            "cell_type": "code", 
            "metadata": {}, 
            "outputs": [], 
            "execution_count": 11
        }, 
        {
            "source": "movies_df.take(1)", 
            "cell_type": "code", 
            "metadata": {}, 
            "outputs": [
                {
                    "output_type": "execute_result", 
                    "data": {
                        "text/plain": "[Row(_c0='1', _c1=None, _c2='Toy Story (1995)', _c3=None, _c4=\"Animation|Children's|Comedy\")]"
                    }, 
                    "execution_count": 12, 
                    "metadata": {}
                }
            ], 
            "execution_count": 12
        }, 
        {
            "source": "movies_df = movies_df.drop('_c1', '_c3')", 
            "cell_type": "code", 
            "metadata": {}, 
            "outputs": [], 
            "execution_count": 15
        }, 
        {
            "source": "movies_df.take(1)", 
            "cell_type": "code", 
            "metadata": {}, 
            "outputs": [
                {
                    "output_type": "execute_result", 
                    "data": {
                        "text/plain": "[Row(_c0='1', _c2='Toy Story (1995)', _c4=\"Animation|Children's|Comedy\")]"
                    }, 
                    "execution_count": 16, 
                    "metadata": {}
                }
            ], 
            "execution_count": 16
        }, 
        {
            "source": "movies_df = movies_df.withColumn('MovieId', movies_df._c0).withColumn('Title', movies_df._c2).withColumn('Genre', movies_df._c4)\nmovies_df.take(1)", 
            "cell_type": "code", 
            "metadata": {}, 
            "outputs": [
                {
                    "output_type": "execute_result", 
                    "data": {
                        "text/plain": "[Row(_c0='1', _c2='Toy Story (1995)', _c4=\"Animation|Children's|Comedy\", MovieId='1', Title='Toy Story (1995)', Genre=\"Animation|Children's|Comedy\")]"
                    }, 
                    "execution_count": 35, 
                    "metadata": {}
                }
            ], 
            "execution_count": 35
        }, 
        {
            "source": "movies_df = movies_df.drop('_c0','_c2','_c4')\nmovies_df.take(1)", 
            "cell_type": "code", 
            "metadata": {}, 
            "outputs": [
                {
                    "output_type": "execute_result", 
                    "data": {
                        "text/plain": "[Row(MovieId='1', Title='Toy Story (1995)', Genre=\"Animation|Children's|Comedy\")]"
                    }, 
                    "execution_count": 36, 
                    "metadata": {}
                }
            ], 
            "execution_count": 36
        }, 
        {
            "source": "ratings_df = spark.read.options(delimiter=':').csv(ratings_path)\nratings_df.take(1)", 
            "cell_type": "code", 
            "metadata": {}, 
            "outputs": [
                {
                    "output_type": "execute_result", 
                    "data": {
                        "text/plain": "[Row(_c0='1', _c1=None, _c2='1193', _c3=None, _c4='5', _c5=None, _c6='978300760')]"
                    }, 
                    "execution_count": 19, 
                    "metadata": {}
                }
            ], 
            "execution_count": 19
        }, 
        {
            "source": "ratings_df = ratings_df.drop('_c1','_c3','_c5')\nratings_df.take(1)", 
            "cell_type": "code", 
            "metadata": {}, 
            "outputs": [
                {
                    "output_type": "execute_result", 
                    "data": {
                        "text/plain": "[Row(_c0='1', _c2='1193', _c4='5', _c6='978300760')]"
                    }, 
                    "execution_count": 20, 
                    "metadata": {}
                }
            ], 
            "execution_count": 20
        }, 
        {
            "source": "ratings_df = ratings_df.withColumn('UserID', ratings_df._c0).withColumn('MoviesId', ratings_df._c2).withColumn('Rating', ratings_df._c4).withColumn('Timestamp', ratings_df._c6)\nratings_df.take(1)", 
            "cell_type": "code", 
            "metadata": {}, 
            "outputs": [
                {
                    "output_type": "execute_result", 
                    "data": {
                        "text/plain": "[Row(_c0='1', _c2='1193', _c4='5', _c6='978300760', UserID_='1', MoviesId='1193', Rating='5', Timestamp='978300760', UserID='1')]"
                    }, 
                    "execution_count": 25, 
                    "metadata": {}
                }
            ], 
            "execution_count": 25
        }, 
        {
            "source": "ratings_df = ratings_df.drop('_c0','_c2','_c4','_c6','UserID_')\nratings_df.take(1)", 
            "cell_type": "code", 
            "metadata": {}, 
            "outputs": [
                {
                    "output_type": "execute_result", 
                    "data": {
                        "text/plain": "[Row(MoviesId='1193', Rating='5', Timestamp='978300760', UserID='1')]"
                    }, 
                    "execution_count": 27, 
                    "metadata": {}
                }
            ], 
            "execution_count": 27
        }, 
        {
            "source": "users_df = spark.read.options(delimiter=':').csv(users_path)\nusers_df.take(1)", 
            "cell_type": "code", 
            "metadata": {}, 
            "outputs": [
                {
                    "output_type": "execute_result", 
                    "data": {
                        "text/plain": "[Row(_c0='1', _c1=None, _c2='F', _c3=None, _c4='1', _c5=None, _c6='10', _c7=None, _c8='48067')]"
                    }, 
                    "execution_count": 30, 
                    "metadata": {}
                }
            ], 
            "execution_count": 30
        }, 
        {
            "source": "users_df = users_df.drop('_c1','_c3','_c5','_c7')\nusers_df.take(1)", 
            "cell_type": "code", 
            "metadata": {}, 
            "outputs": [
                {
                    "output_type": "execute_result", 
                    "data": {
                        "text/plain": "[Row(_c0='1', _c2='F', _c4='1', _c6='10', _c8='48067')]"
                    }, 
                    "execution_count": 31, 
                    "metadata": {}
                }
            ], 
            "execution_count": 31
        }, 
        {
            "source": "users_df = users_df.withColumn('UserId', users_df._c0).withColumn('Gender', users_df._c2).withColumn('Age', users_df._c4).withColumn('Occupation', users_df._c6).withColumn('ZipCode', users_df._c8)\nusers_df.take(1)", 
            "cell_type": "code", 
            "metadata": {}, 
            "outputs": [
                {
                    "output_type": "execute_result", 
                    "data": {
                        "text/plain": "[Row(_c0='1', _c2='F', _c4='1', _c6='10', _c8='48067', UserId='1', Gender='F', Age='1', Occupation='10', ZipCode='48067')]"
                    }, 
                    "execution_count": 32, 
                    "metadata": {}
                }
            ], 
            "execution_count": 32
        }, 
        {
            "source": "users_df = users_df.drop('_c0','_c2','_c4','_c6','_c8')\nusers_df.take(1)", 
            "cell_type": "code", 
            "metadata": {}, 
            "outputs": [
                {
                    "output_type": "execute_result", 
                    "data": {
                        "text/plain": "[Row(UserId='1', Gender='F', Age='1', Occupation='10', ZipCode='48067')]"
                    }, 
                    "execution_count": 34, 
                    "metadata": {}
                }
            ], 
            "execution_count": 34
        }, 
        {
            "source": "age_dict = {\"1\":  \"Under 18\",'18':  \"18-24\",'25':  \"25-34\",'35':  \"35-44\",'45':  \"45-49\",'50':  \"50-55\", '56':  \"56+\"}\nage_dict", 
            "cell_type": "code", 
            "metadata": {}, 
            "outputs": [
                {
                    "output_type": "execute_result", 
                    "data": {
                        "text/plain": "{'1': 'Under 18',\n '18': '18-24',\n '25': '25-34',\n '35': '35-44',\n '45': '45-49',\n '50': '50-55',\n '56': '56+'}"
                    }, 
                    "execution_count": 37, 
                    "metadata": {}
                }
            ], 
            "execution_count": 37
        }, 
        {
            "source": "occ_dict = {'0':  \"other or not specified\", '1':  \"academic/educator\", '2':  \"artist\",'3':  \"clerical/admin\",'4':  \"college/grad student\",\\\n            '5':  \"customer service\",'6':  \"doctor/health care\",'7':  \"executive/managerial\",'8':  \"farmer\",'9':  \"homemaker\",\\\n            '10':  \"K-12 student\",'11':  \"lawyer\",'12':  \"programmer\",'13':  \"retired\",'14':  \"sales/marketing\",'15':  \"scientist\",\\\n            '16':  \"self-employed\",'17':  \"technician/engineer\",'18':  \"tradesman/craftsman\",'19':  \"unemployed\",'20':  \"writer\"}\nocc_dict", 
            "cell_type": "code", 
            "metadata": {}, 
            "outputs": [
                {
                    "output_type": "execute_result", 
                    "data": {
                        "text/plain": "{'0': 'other or not specified',\n '1': 'academic/educator',\n '10': 'K-12 student',\n '11': 'lawyer',\n '12': 'programmer',\n '13': 'retired',\n '14': 'sales/marketing',\n '15': 'scientist',\n '16': 'self-employed',\n '17': 'technician/engineer',\n '18': 'tradesman/craftsman',\n '19': 'unemployed',\n '2': 'artist',\n '20': 'writer',\n '3': 'clerical/admin',\n '4': 'college/grad student',\n '5': 'customer service',\n '6': 'doctor/health care',\n '7': 'executive/managerial',\n '8': 'farmer',\n '9': 'homemaker'}"
                    }, 
                    "execution_count": 38, 
                    "metadata": {}
                }
            ], 
            "execution_count": 38
        }, 
        {
            "source": "print(movies_df.take(1))\nprint(ratings_df.take(1))\nprint(users_df.take(1))\n", 
            "cell_type": "code", 
            "metadata": {
                "scrolled": true
            }, 
            "outputs": [
                {
                    "output_type": "stream", 
                    "name": "stdout", 
                    "text": "[Row(MovieId='1', Title='Toy Story (1995)', Genre=\"Animation|Children's|Comedy\")]\n[Row(MoviesId='1193', Rating='5', Timestamp='978300760', UserID='1')]\n[Row(UserId='1', Gender='F', Age='1', Occupation='10', ZipCode='48067')]\n"
                }
            ], 
            "execution_count": 41
        }, 
        {
            "source": "# Which user gave the max number of Rating 1", 
            "cell_type": "markdown", 
            "metadata": {}
        }, 
        {
            "source": "from pyspark.sql import functions as F", 
            "cell_type": "code", 
            "metadata": {}, 
            "outputs": [], 
            "execution_count": 45
        }, 
        {
            "source": "rating_count = ratings_df[ratings_df.Rating == '1'].groupby('UserId').agg(F.count('Rating').alias('Count'))\nmax_count = rating_count.withColumn('tempId', F.lit(0)).groupBy('tempId').agg(F.max('Count').alias('MaxCount')).select('MaxCount').first()[0]\nrating_count.select('UserId', 'Count').where(rating_count.Count == max_count).show()", 
            "cell_type": "code", 
            "metadata": {}, 
            "outputs": [
                {
                    "output_type": "stream", 
                    "name": "stdout", 
                    "text": "+------+-----+\n|UserId|Count|\n+------+-----+\n|  4227|  401|\n+------+-----+\n\n"
                }
            ], 
            "execution_count": 53
        }, 
        {
            "source": "# Which movie got the max number of 5 rating", 
            "cell_type": "markdown", 
            "metadata": {}
        }, 
        {
            "source": "#[Row(MovieId='1', Title='Toy Story (1995)', Genre=\"Animation|Children's|Comedy\")]\n#[Row(MoviesId='1193', Rating='5', Timestamp='978300760', UserID='1')]\n\nmax_5ratings = ratings_df[ratings_df.Rating == '5'].groupBy(ratings_df.MoviesId).agg(F.count(ratings_df.MoviesId).alias('Max5Ratings'))\nmax_rating_count = max_5ratings.withColumn('tempId', F.lit(0)).groupBy('tempId').agg(F.max('Max5Ratings').alias('Max5Rating')).select('Max5Rating').first()[0]\nmovi_rating_max_5 = max_5ratings.select(max_5ratings.MoviesId, max_5ratings.Max5Ratings).where(max_5ratings.Max5Ratings == max_rating_count)\nmovi_rating_max_5.join(movies_df, movi_rating_max_5.MoviesId == movies_df.MovieId, how='left_outer').select('Title', 'Max5Ratings').show()\n", 
            "cell_type": "code", 
            "metadata": {}, 
            "outputs": [
                {
                    "output_type": "stream", 
                    "name": "stdout", 
                    "text": "+--------------------+-----------+\n|               Title|Max5Ratings|\n+--------------------+-----------+\n|American Beauty (...|       1963|\n+--------------------+-----------+\n\n"
                }
            ], 
            "execution_count": 70
        }, 
        {
            "source": "# People of which occupation gave the maximum number of 3/4/5 ratings to movie American Beauty", 
            "cell_type": "markdown", 
            "metadata": {}
        }, 
        {
            "source": "american_beauty = movies_df.select('Title', 'MovieId').where(movies_df.Title.like('American Beauty%')).first()\namerican_beauty_name, american_beauty_id = american_beauty[0], american_beauty[1]", 
            "cell_type": "code", 
            "metadata": {}, 
            "outputs": [], 
            "execution_count": 105
        }, 
        {
            "source": "#[Row(MoviesId='1193', Rating='5', Timestamp='978300760', UserID='1')]\n#[Row(UserId='1', Gender='F', Age='1', Occupation='10', ZipCode='48067')]\n\nab_max_ratings = ratings_df[((ratings_df.Rating == 3) | (ratings_df.Rating == 4) | (ratings_df.Rating == 5)) & \\\n                            (ratings_df.MoviesId == american_beauty_id)].groupBy('UserId').agg(F.count('UserId').alias('num_of_ratings'))\n", 
            "cell_type": "code", 
            "metadata": {}, 
            "outputs": [], 
            "execution_count": 107
        }, 
        {
            "source": "ab_max_ratings.show()", 
            "cell_type": "code", 
            "metadata": {}, 
            "outputs": [
                {
                    "output_type": "stream", 
                    "name": "stdout", 
                    "text": "+------+--------------+\n|UserId|num_of_ratings|\n+------+--------------+\n|  5645|             1|\n|   675|             1|\n|   829|             1|\n|  1159|             1|\n|  1436|             1|\n|  1512|             1|\n|  1572|             1|\n|  3606|             1|\n|  4937|             1|\n|  2904|             1|\n|  3210|             1|\n|  5613|             1|\n|  5657|             1|\n|   125|             1|\n|   451|             1|\n|   944|             1|\n|  1372|             1|\n|  1669|             1|\n|  2110|             1|\n|  2464|             1|\n+------+--------------+\nonly showing top 20 rows\n\n"
                }
            ], 
            "execution_count": 110
        }, 
        {
            "source": "ab_ratings_users = ab_max_ratings.join(users_df, ab_max_ratings.UserId == users_df.UserId, how='left_outer')\noccupations_count = ab_ratings_users.groupby('Occupation').agg(F.count('Occupation').alias('num_occupations'))\nmax_occupations_count = occupations_count.withColumn('tempid', F.lit(0)).groupBy('tempid').agg(F.max('num_occupations').alias('max_num_occupations')).select('max_num_occupations').first()[0]\noccupation_id = occupations_count.select('Occupation').where(occupations_count.num_occupations == max_occupations_count).first()[0]\nocc_dict[occupation_id]", 
            "cell_type": "code", 
            "metadata": {}, 
            "outputs": [
                {
                    "output_type": "execute_result", 
                    "data": {
                        "text/plain": "'college/grad student'"
                    }, 
                    "execution_count": 116, 
                    "metadata": {}
                }
            ], 
            "execution_count": 116
        }, 
        {
            "source": "# Reading files in Pandas", 
            "cell_type": "markdown", 
            "metadata": {}
        }, 
        {
            "source": "!wget https://raw.githubusercontent.com/wesm/pydata-book/2nd-edition/datasets/movielens/movies.dat\n!wget https://raw.githubusercontent.com/wesm/pydata-book/2nd-edition/datasets/movielens/users.dat\n!wget https://raw.githubusercontent.com/wesm/pydata-book/2nd-edition/datasets/movielens/ratings.dat", 
            "cell_type": "code", 
            "metadata": {}, 
            "outputs": [], 
            "execution_count": null
        }, 
        {
            "source": "movies_pdf = pd.read_csv('movies.dat', delimiter='::', header=None)\nratings_pdf = pd.read_csv('ratings.dat', delimiter='::', header=None)\nusers_pdf = pd.read_csv('users.dat', delimiter='::', header=None)\nprint(movies_pdf.head(1))\nprint(ratings_pdf.head(1))\nprint(users_pdf.head(1))", 
            "cell_type": "code", 
            "metadata": {}, 
            "outputs": [
                {
                    "output_type": "stream", 
                    "name": "stderr", 
                    "text": "/usr/local/src/conda3_runtime/home/envs/DSX-Python35-Spark/lib/python3.5/site-packages/ipykernel/__main__.py:1: ParserWarning: Falling back to the 'python' engine because the 'c' engine does not support regex separators (separators > 1 char and different from '\\s+' are interpreted as regex); you can avoid this warning by specifying engine='python'.\n  if __name__ == '__main__':\n/usr/local/src/conda3_runtime/home/envs/DSX-Python35-Spark/lib/python3.5/site-packages/ipykernel/__main__.py:2: ParserWarning: Falling back to the 'python' engine because the 'c' engine does not support regex separators (separators > 1 char and different from '\\s+' are interpreted as regex); you can avoid this warning by specifying engine='python'.\n  from ipykernel import kernelapp as app\n"
                }, 
                {
                    "output_type": "stream", 
                    "name": "stdout", 
                    "text": "   0                 1                            2\n0  1  Toy Story (1995)  Animation|Children's|Comedy\n   0     1  2          3\n0  1  1193  5  978300760\n   0  1  2   3      4\n0  1  F  1  10  48067\n"
                }, 
                {
                    "output_type": "stream", 
                    "name": "stderr", 
                    "text": "/usr/local/src/conda3_runtime/home/envs/DSX-Python35-Spark/lib/python3.5/site-packages/ipykernel/__main__.py:3: ParserWarning: Falling back to the 'python' engine because the 'c' engine does not support regex separators (separators > 1 char and different from '\\s+' are interpreted as regex); you can avoid this warning by specifying engine='python'.\n  app.launch_new_instance()\n"
                }
            ], 
            "execution_count": 76
        }, 
        {
            "source": "movies_pdf.rename(columns={'0': 'MovieId', '1': 'Title', '2': 'Genre'})\nmovies_pdf.head(1)", 
            "cell_type": "code", 
            "metadata": {}, 
            "outputs": [
                {
                    "output_type": "execute_result", 
                    "data": {
                        "text/plain": "   0                 1                            2\n0  1  Toy Story (1995)  Animation|Children's|Comedy", 
                        "text/html": "<div>\n<style scoped>\n    .dataframe tbody tr th:only-of-type {\n        vertical-align: middle;\n    }\n\n    .dataframe tbody tr th {\n        vertical-align: top;\n    }\n\n    .dataframe thead th {\n        text-align: right;\n    }\n</style>\n<table border=\"1\" class=\"dataframe\">\n  <thead>\n    <tr style=\"text-align: right;\">\n      <th></th>\n      <th>0</th>\n      <th>1</th>\n      <th>2</th>\n    </tr>\n  </thead>\n  <tbody>\n    <tr>\n      <th>0</th>\n      <td>1</td>\n      <td>Toy Story (1995)</td>\n      <td>Animation|Children's|Comedy</td>\n    </tr>\n  </tbody>\n</table>\n</div>"
                    }, 
                    "execution_count": 85, 
                    "metadata": {}
                }
            ], 
            "execution_count": 85
        }, 
        {
            "source": "ratings_pdf.columns = ['UserID','MovieID','Rating','Timestamp']\nratings_pdf.head(1)", 
            "cell_type": "code", 
            "metadata": {}, 
            "outputs": [
                {
                    "output_type": "execute_result", 
                    "data": {
                        "text/plain": "   UserID  MovieID  Rating  Timestamp\n0       1     1193       5  978300760", 
                        "text/html": "<div>\n<style scoped>\n    .dataframe tbody tr th:only-of-type {\n        vertical-align: middle;\n    }\n\n    .dataframe tbody tr th {\n        vertical-align: top;\n    }\n\n    .dataframe thead th {\n        text-align: right;\n    }\n</style>\n<table border=\"1\" class=\"dataframe\">\n  <thead>\n    <tr style=\"text-align: right;\">\n      <th></th>\n      <th>UserID</th>\n      <th>MovieID</th>\n      <th>Rating</th>\n      <th>Timestamp</th>\n    </tr>\n  </thead>\n  <tbody>\n    <tr>\n      <th>0</th>\n      <td>1</td>\n      <td>1193</td>\n      <td>5</td>\n      <td>978300760</td>\n    </tr>\n  </tbody>\n</table>\n</div>"
                    }, 
                    "execution_count": 86, 
                    "metadata": {}
                }
            ], 
            "execution_count": 86
        }, 
        {
            "source": "users_pdf.columns = ['UserID','Gender','Age','Occupation','Zip-code']\nusers_pdf.head(1)", 
            "cell_type": "code", 
            "metadata": {}, 
            "outputs": [
                {
                    "output_type": "execute_result", 
                    "data": {
                        "text/plain": "   UserID Gender  Age  Occupation Zip-code\n0       1      F    1          10    48067", 
                        "text/html": "<div>\n<style scoped>\n    .dataframe tbody tr th:only-of-type {\n        vertical-align: middle;\n    }\n\n    .dataframe tbody tr th {\n        vertical-align: top;\n    }\n\n    .dataframe thead th {\n        text-align: right;\n    }\n</style>\n<table border=\"1\" class=\"dataframe\">\n  <thead>\n    <tr style=\"text-align: right;\">\n      <th></th>\n      <th>UserID</th>\n      <th>Gender</th>\n      <th>Age</th>\n      <th>Occupation</th>\n      <th>Zip-code</th>\n    </tr>\n  </thead>\n  <tbody>\n    <tr>\n      <th>0</th>\n      <td>1</td>\n      <td>F</td>\n      <td>1</td>\n      <td>10</td>\n      <td>48067</td>\n    </tr>\n  </tbody>\n</table>\n</div>"
                    }, 
                    "execution_count": 87, 
                    "metadata": {}
                }
            ], 
            "execution_count": 87
        }, 
        {
            "source": "", 
            "cell_type": "code", 
            "metadata": {}, 
            "outputs": [], 
            "execution_count": null
        }
    ], 
    "metadata": {
        "kernelspec": {
            "display_name": "Python 3.5 with Spark 2.1", 
            "name": "python3-spark21", 
            "language": "python"
        }, 
        "language_info": {
            "mimetype": "text/x-python", 
            "nbconvert_exporter": "python", 
            "version": "3.5.4", 
            "name": "python", 
            "pygments_lexer": "ipython3", 
            "file_extension": ".py", 
            "codemirror_mode": {
                "version": 3, 
                "name": "ipython"
            }
        }
    }, 
    "nbformat": 4
}