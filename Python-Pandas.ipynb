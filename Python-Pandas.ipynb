{
    "nbformat_minor": 1, 
    "cells": [
        {
            "source": "import pandas as pd\nimport numpy as np", 
            "cell_type": "code", 
            "metadata": {}, 
            "outputs": [], 
            "execution_count": 2
        }, 
        {
            "source": "data = pd.DataFrame(np.random.randn(1000, 4))\ndata.describe()", 
            "cell_type": "code", 
            "metadata": {}, 
            "outputs": [
                {
                    "output_type": "execute_result", 
                    "data": {
                        "text/html": "<div>\n<style scoped>\n    .dataframe tbody tr th:only-of-type {\n        vertical-align: middle;\n    }\n\n    .dataframe tbody tr th {\n        vertical-align: top;\n    }\n\n    .dataframe thead th {\n        text-align: right;\n    }\n</style>\n<table border=\"1\" class=\"dataframe\">\n  <thead>\n    <tr style=\"text-align: right;\">\n      <th></th>\n      <th>0</th>\n      <th>1</th>\n      <th>2</th>\n      <th>3</th>\n    </tr>\n  </thead>\n  <tbody>\n    <tr>\n      <th>count</th>\n      <td>1000.000000</td>\n      <td>1000.000000</td>\n      <td>1000.000000</td>\n      <td>1000.000000</td>\n    </tr>\n    <tr>\n      <th>mean</th>\n      <td>-0.026482</td>\n      <td>-0.011178</td>\n      <td>0.087651</td>\n      <td>0.029170</td>\n    </tr>\n    <tr>\n      <th>std</th>\n      <td>1.009362</td>\n      <td>0.989843</td>\n      <td>1.024993</td>\n      <td>0.986273</td>\n    </tr>\n    <tr>\n      <th>min</th>\n      <td>-3.745355</td>\n      <td>-3.308862</td>\n      <td>-2.933194</td>\n      <td>-3.708711</td>\n    </tr>\n    <tr>\n      <th>25%</th>\n      <td>-0.691910</td>\n      <td>-0.701062</td>\n      <td>-0.649489</td>\n      <td>-0.620698</td>\n    </tr>\n    <tr>\n      <th>50%</th>\n      <td>0.017996</td>\n      <td>0.000290</td>\n      <td>0.084141</td>\n      <td>0.047662</td>\n    </tr>\n    <tr>\n      <th>75%</th>\n      <td>0.677825</td>\n      <td>0.703716</td>\n      <td>0.808746</td>\n      <td>0.653672</td>\n    </tr>\n    <tr>\n      <th>max</th>\n      <td>3.003509</td>\n      <td>2.700092</td>\n      <td>3.034024</td>\n      <td>3.042847</td>\n    </tr>\n  </tbody>\n</table>\n</div>", 
                        "text/plain": "                 0            1            2            3\ncount  1000.000000  1000.000000  1000.000000  1000.000000\nmean     -0.026482    -0.011178     0.087651     0.029170\nstd       1.009362     0.989843     1.024993     0.986273\nmin      -3.745355    -3.308862    -2.933194    -3.708711\n25%      -0.691910    -0.701062    -0.649489    -0.620698\n50%       0.017996     0.000290     0.084141     0.047662\n75%       0.677825     0.703716     0.808746     0.653672\nmax       3.003509     2.700092     3.034024     3.042847"
                    }, 
                    "execution_count": 3, 
                    "metadata": {}
                }
            ], 
            "execution_count": 3
        }, 
        {
            "source": "data[2][np.abs(data[2]) > 3]", 
            "cell_type": "code", 
            "metadata": {}, 
            "outputs": [
                {
                    "output_type": "execute_result", 
                    "data": {
                        "text/plain": "705    3.034024\nName: 2, dtype: float64"
                    }, 
                    "execution_count": 8, 
                    "metadata": {}
                }
            ], 
            "execution_count": 8
        }, 
        {
            "source": "data[np.abs(data[2]) > 3]", 
            "cell_type": "code", 
            "metadata": {}, 
            "outputs": [
                {
                    "output_type": "execute_result", 
                    "data": {
                        "text/html": "<div>\n<style scoped>\n    .dataframe tbody tr th:only-of-type {\n        vertical-align: middle;\n    }\n\n    .dataframe tbody tr th {\n        vertical-align: top;\n    }\n\n    .dataframe thead th {\n        text-align: right;\n    }\n</style>\n<table border=\"1\" class=\"dataframe\">\n  <thead>\n    <tr style=\"text-align: right;\">\n      <th></th>\n      <th>0</th>\n      <th>1</th>\n      <th>2</th>\n      <th>3</th>\n    </tr>\n  </thead>\n  <tbody>\n    <tr>\n      <th>705</th>\n      <td>1.147045</td>\n      <td>0.578633</td>\n      <td>3.034024</td>\n      <td>-0.738669</td>\n    </tr>\n  </tbody>\n</table>\n</div>", 
                        "text/plain": "            0         1         2         3\n705  1.147045  0.578633  3.034024 -0.738669"
                    }, 
                    "execution_count": 7, 
                    "metadata": {}
                }
            ], 
            "execution_count": 7
        }, 
        {
            "source": "data[np.abs(data) > 3].dropna(how='all')", 
            "cell_type": "code", 
            "metadata": {}, 
            "outputs": [
                {
                    "output_type": "execute_result", 
                    "data": {
                        "text/html": "<div>\n<style scoped>\n    .dataframe tbody tr th:only-of-type {\n        vertical-align: middle;\n    }\n\n    .dataframe tbody tr th {\n        vertical-align: top;\n    }\n\n    .dataframe thead th {\n        text-align: right;\n    }\n</style>\n<table border=\"1\" class=\"dataframe\">\n  <thead>\n    <tr style=\"text-align: right;\">\n      <th></th>\n      <th>0</th>\n      <th>1</th>\n      <th>2</th>\n      <th>3</th>\n    </tr>\n  </thead>\n  <tbody>\n    <tr>\n      <th>29</th>\n      <td>-3.745355</td>\n      <td>NaN</td>\n      <td>NaN</td>\n      <td>NaN</td>\n    </tr>\n    <tr>\n      <th>379</th>\n      <td>NaN</td>\n      <td>-3.115336</td>\n      <td>NaN</td>\n      <td>NaN</td>\n    </tr>\n    <tr>\n      <th>694</th>\n      <td>-3.225832</td>\n      <td>NaN</td>\n      <td>NaN</td>\n      <td>NaN</td>\n    </tr>\n    <tr>\n      <th>705</th>\n      <td>NaN</td>\n      <td>NaN</td>\n      <td>3.034024</td>\n      <td>NaN</td>\n    </tr>\n    <tr>\n      <th>790</th>\n      <td>3.003509</td>\n      <td>NaN</td>\n      <td>NaN</td>\n      <td>NaN</td>\n    </tr>\n    <tr>\n      <th>863</th>\n      <td>NaN</td>\n      <td>NaN</td>\n      <td>NaN</td>\n      <td>3.042847</td>\n    </tr>\n    <tr>\n      <th>947</th>\n      <td>NaN</td>\n      <td>NaN</td>\n      <td>NaN</td>\n      <td>-3.708711</td>\n    </tr>\n    <tr>\n      <th>991</th>\n      <td>NaN</td>\n      <td>-3.308862</td>\n      <td>NaN</td>\n      <td>NaN</td>\n    </tr>\n    <tr>\n      <th>999</th>\n      <td>-3.471016</td>\n      <td>NaN</td>\n      <td>NaN</td>\n      <td>NaN</td>\n    </tr>\n  </tbody>\n</table>\n</div>", 
                        "text/plain": "            0         1         2         3\n29  -3.745355       NaN       NaN       NaN\n379       NaN -3.115336       NaN       NaN\n694 -3.225832       NaN       NaN       NaN\n705       NaN       NaN  3.034024       NaN\n790  3.003509       NaN       NaN       NaN\n863       NaN       NaN       NaN  3.042847\n947       NaN       NaN       NaN -3.708711\n991       NaN -3.308862       NaN       NaN\n999 -3.471016       NaN       NaN       NaN"
                    }, 
                    "execution_count": 13, 
                    "metadata": {}
                }
            ], 
            "execution_count": 13
        }, 
        {
            "source": "data[(np.abs(data) > 3).any(1)]", 
            "cell_type": "code", 
            "metadata": {}, 
            "outputs": [
                {
                    "output_type": "execute_result", 
                    "data": {
                        "text/html": "<div>\n<style scoped>\n    .dataframe tbody tr th:only-of-type {\n        vertical-align: middle;\n    }\n\n    .dataframe tbody tr th {\n        vertical-align: top;\n    }\n\n    .dataframe thead th {\n        text-align: right;\n    }\n</style>\n<table border=\"1\" class=\"dataframe\">\n  <thead>\n    <tr style=\"text-align: right;\">\n      <th></th>\n      <th>0</th>\n      <th>1</th>\n      <th>2</th>\n      <th>3</th>\n    </tr>\n  </thead>\n  <tbody>\n    <tr>\n      <th>29</th>\n      <td>-3.745355</td>\n      <td>-0.071735</td>\n      <td>1.292147</td>\n      <td>0.027236</td>\n    </tr>\n    <tr>\n      <th>379</th>\n      <td>0.082163</td>\n      <td>-3.115336</td>\n      <td>1.311606</td>\n      <td>-0.054100</td>\n    </tr>\n    <tr>\n      <th>694</th>\n      <td>-3.225832</td>\n      <td>0.016580</td>\n      <td>-0.315323</td>\n      <td>-1.133913</td>\n    </tr>\n    <tr>\n      <th>705</th>\n      <td>1.147045</td>\n      <td>0.578633</td>\n      <td>3.034024</td>\n      <td>-0.738669</td>\n    </tr>\n    <tr>\n      <th>790</th>\n      <td>3.003509</td>\n      <td>0.895881</td>\n      <td>0.283892</td>\n      <td>0.333406</td>\n    </tr>\n    <tr>\n      <th>863</th>\n      <td>0.846003</td>\n      <td>0.415128</td>\n      <td>-0.193898</td>\n      <td>3.042847</td>\n    </tr>\n    <tr>\n      <th>947</th>\n      <td>0.003653</td>\n      <td>0.273841</td>\n      <td>-1.020826</td>\n      <td>-3.708711</td>\n    </tr>\n    <tr>\n      <th>991</th>\n      <td>1.171041</td>\n      <td>-3.308862</td>\n      <td>0.482298</td>\n      <td>0.495329</td>\n    </tr>\n    <tr>\n      <th>999</th>\n      <td>-3.471016</td>\n      <td>-0.444859</td>\n      <td>-0.285077</td>\n      <td>0.485756</td>\n    </tr>\n  </tbody>\n</table>\n</div>", 
                        "text/plain": "            0         1         2         3\n29  -3.745355 -0.071735  1.292147  0.027236\n379  0.082163 -3.115336  1.311606 -0.054100\n694 -3.225832  0.016580 -0.315323 -1.133913\n705  1.147045  0.578633  3.034024 -0.738669\n790  3.003509  0.895881  0.283892  0.333406\n863  0.846003  0.415128 -0.193898  3.042847\n947  0.003653  0.273841 -1.020826 -3.708711\n991  1.171041 -3.308862  0.482298  0.495329\n999 -3.471016 -0.444859 -0.285077  0.485756"
                    }, 
                    "execution_count": 15, 
                    "metadata": {}
                }
            ], 
            "execution_count": 15
        }
    ], 
    "metadata": {
        "kernelspec": {
            "display_name": "Python 3.5", 
            "name": "python3", 
            "language": "python"
        }, 
        "language_info": {
            "mimetype": "text/x-python", 
            "nbconvert_exporter": "python", 
            "version": "3.5.4", 
            "name": "python", 
            "pygments_lexer": "ipython3", 
            "file_extension": ".py", 
            "codemirror_mode": {
                "version": 3, 
                "name": "ipython"
            }
        }
    }, 
    "nbformat": 4
}