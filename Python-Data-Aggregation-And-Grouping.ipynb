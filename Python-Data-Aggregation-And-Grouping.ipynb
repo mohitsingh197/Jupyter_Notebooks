{
    "nbformat_minor": 1, 
    "cells": [
        {
            "source": "import pandas as pd\nfrom sklearn.preprocessing import MinMaxScaler\nimport numpy as np", 
            "cell_type": "code", 
            "metadata": {}, 
            "outputs": [], 
            "execution_count": 1
        }, 
        {
            "source": "df = pd.DataFrame(np.arange(2000000).reshape(100000,20))", 
            "cell_type": "code", 
            "metadata": {}, 
            "outputs": [], 
            "execution_count": 4
        }, 
        {
            "source": "sc = MinMaxScaler()\nsc.fit(df)\ndf_scaled = pd.DataFrame(sc.transform(df))\ndf_scaled.head()", 
            "cell_type": "code", 
            "metadata": {}, 
            "outputs": [
                {
                    "output_type": "execute_result", 
                    "data": {
                        "text/html": "<div>\n<style scoped>\n    .dataframe tbody tr th:only-of-type {\n        vertical-align: middle;\n    }\n\n    .dataframe tbody tr th {\n        vertical-align: top;\n    }\n\n    .dataframe thead th {\n        text-align: right;\n    }\n</style>\n<table border=\"1\" class=\"dataframe\">\n  <thead>\n    <tr style=\"text-align: right;\">\n      <th></th>\n      <th>0</th>\n      <th>1</th>\n      <th>2</th>\n      <th>3</th>\n      <th>4</th>\n      <th>5</th>\n      <th>6</th>\n      <th>7</th>\n      <th>8</th>\n      <th>9</th>\n      <th>10</th>\n      <th>11</th>\n      <th>12</th>\n      <th>13</th>\n      <th>14</th>\n      <th>15</th>\n      <th>16</th>\n      <th>17</th>\n      <th>18</th>\n      <th>19</th>\n    </tr>\n  </thead>\n  <tbody>\n    <tr>\n      <th>0</th>\n      <td>0.00000</td>\n      <td>0.00000</td>\n      <td>0.00000</td>\n      <td>0.00000</td>\n      <td>0.00000</td>\n      <td>0.00000</td>\n      <td>0.00000</td>\n      <td>0.00000</td>\n      <td>0.00000</td>\n      <td>0.00000</td>\n      <td>0.00000</td>\n      <td>0.00000</td>\n      <td>0.00000</td>\n      <td>0.00000</td>\n      <td>0.00000</td>\n      <td>0.00000</td>\n      <td>0.00000</td>\n      <td>0.00000</td>\n      <td>0.00000</td>\n      <td>0.00000</td>\n    </tr>\n    <tr>\n      <th>1</th>\n      <td>0.00001</td>\n      <td>0.00001</td>\n      <td>0.00001</td>\n      <td>0.00001</td>\n      <td>0.00001</td>\n      <td>0.00001</td>\n      <td>0.00001</td>\n      <td>0.00001</td>\n      <td>0.00001</td>\n      <td>0.00001</td>\n      <td>0.00001</td>\n      <td>0.00001</td>\n      <td>0.00001</td>\n      <td>0.00001</td>\n      <td>0.00001</td>\n      <td>0.00001</td>\n      <td>0.00001</td>\n      <td>0.00001</td>\n      <td>0.00001</td>\n      <td>0.00001</td>\n    </tr>\n    <tr>\n      <th>2</th>\n      <td>0.00002</td>\n      <td>0.00002</td>\n      <td>0.00002</td>\n      <td>0.00002</td>\n      <td>0.00002</td>\n      <td>0.00002</td>\n      <td>0.00002</td>\n      <td>0.00002</td>\n      <td>0.00002</td>\n      <td>0.00002</td>\n      <td>0.00002</td>\n      <td>0.00002</td>\n      <td>0.00002</td>\n      <td>0.00002</td>\n      <td>0.00002</td>\n      <td>0.00002</td>\n      <td>0.00002</td>\n      <td>0.00002</td>\n      <td>0.00002</td>\n      <td>0.00002</td>\n    </tr>\n    <tr>\n      <th>3</th>\n      <td>0.00003</td>\n      <td>0.00003</td>\n      <td>0.00003</td>\n      <td>0.00003</td>\n      <td>0.00003</td>\n      <td>0.00003</td>\n      <td>0.00003</td>\n      <td>0.00003</td>\n      <td>0.00003</td>\n      <td>0.00003</td>\n      <td>0.00003</td>\n      <td>0.00003</td>\n      <td>0.00003</td>\n      <td>0.00003</td>\n      <td>0.00003</td>\n      <td>0.00003</td>\n      <td>0.00003</td>\n      <td>0.00003</td>\n      <td>0.00003</td>\n      <td>0.00003</td>\n    </tr>\n    <tr>\n      <th>4</th>\n      <td>0.00004</td>\n      <td>0.00004</td>\n      <td>0.00004</td>\n      <td>0.00004</td>\n      <td>0.00004</td>\n      <td>0.00004</td>\n      <td>0.00004</td>\n      <td>0.00004</td>\n      <td>0.00004</td>\n      <td>0.00004</td>\n      <td>0.00004</td>\n      <td>0.00004</td>\n      <td>0.00004</td>\n      <td>0.00004</td>\n      <td>0.00004</td>\n      <td>0.00004</td>\n      <td>0.00004</td>\n      <td>0.00004</td>\n      <td>0.00004</td>\n      <td>0.00004</td>\n    </tr>\n  </tbody>\n</table>\n</div>", 
                        "text/plain": "        0        1        2        3        4        5        6        7   \\\n0  0.00000  0.00000  0.00000  0.00000  0.00000  0.00000  0.00000  0.00000   \n1  0.00001  0.00001  0.00001  0.00001  0.00001  0.00001  0.00001  0.00001   \n2  0.00002  0.00002  0.00002  0.00002  0.00002  0.00002  0.00002  0.00002   \n3  0.00003  0.00003  0.00003  0.00003  0.00003  0.00003  0.00003  0.00003   \n4  0.00004  0.00004  0.00004  0.00004  0.00004  0.00004  0.00004  0.00004   \n\n        8        9        10       11       12       13       14       15  \\\n0  0.00000  0.00000  0.00000  0.00000  0.00000  0.00000  0.00000  0.00000   \n1  0.00001  0.00001  0.00001  0.00001  0.00001  0.00001  0.00001  0.00001   \n2  0.00002  0.00002  0.00002  0.00002  0.00002  0.00002  0.00002  0.00002   \n3  0.00003  0.00003  0.00003  0.00003  0.00003  0.00003  0.00003  0.00003   \n4  0.00004  0.00004  0.00004  0.00004  0.00004  0.00004  0.00004  0.00004   \n\n        16       17       18       19  \n0  0.00000  0.00000  0.00000  0.00000  \n1  0.00001  0.00001  0.00001  0.00001  \n2  0.00002  0.00002  0.00002  0.00002  \n3  0.00003  0.00003  0.00003  0.00003  \n4  0.00004  0.00004  0.00004  0.00004  "
                    }, 
                    "execution_count": 11, 
                    "metadata": {}
                }
            ], 
            "execution_count": 11
        }, 
        {
            "source": "MinMaxScaler?", 
            "cell_type": "code", 
            "metadata": {}, 
            "outputs": [], 
            "execution_count": 7
        }, 
        {
            "source": "df = pd.DataFrame({'key1': ['a','a','b','b','a'],\n                  'key2': ['one','two','one','two','one'],\n                  'data1': np.random.randn(5),\n                  'data2': np.random.randn(5)})\ndf", 
            "cell_type": "code", 
            "metadata": {}, 
            "outputs": [
                {
                    "output_type": "execute_result", 
                    "data": {
                        "text/html": "<div>\n<style scoped>\n    .dataframe tbody tr th:only-of-type {\n        vertical-align: middle;\n    }\n\n    .dataframe tbody tr th {\n        vertical-align: top;\n    }\n\n    .dataframe thead th {\n        text-align: right;\n    }\n</style>\n<table border=\"1\" class=\"dataframe\">\n  <thead>\n    <tr style=\"text-align: right;\">\n      <th></th>\n      <th>data1</th>\n      <th>data2</th>\n      <th>key1</th>\n      <th>key2</th>\n    </tr>\n  </thead>\n  <tbody>\n    <tr>\n      <th>0</th>\n      <td>1.209185</td>\n      <td>1.213627</td>\n      <td>a</td>\n      <td>one</td>\n    </tr>\n    <tr>\n      <th>1</th>\n      <td>-0.853930</td>\n      <td>-1.153370</td>\n      <td>a</td>\n      <td>two</td>\n    </tr>\n    <tr>\n      <th>2</th>\n      <td>0.081252</td>\n      <td>-0.176865</td>\n      <td>b</td>\n      <td>one</td>\n    </tr>\n    <tr>\n      <th>3</th>\n      <td>1.433953</td>\n      <td>-0.826558</td>\n      <td>b</td>\n      <td>two</td>\n    </tr>\n    <tr>\n      <th>4</th>\n      <td>-0.528700</td>\n      <td>-1.481427</td>\n      <td>a</td>\n      <td>one</td>\n    </tr>\n  </tbody>\n</table>\n</div>", 
                        "text/plain": "      data1     data2 key1 key2\n0  1.209185  1.213627    a  one\n1 -0.853930 -1.153370    a  two\n2  0.081252 -0.176865    b  one\n3  1.433953 -0.826558    b  two\n4 -0.528700 -1.481427    a  one"
                    }, 
                    "execution_count": 14, 
                    "metadata": {}
                }
            ], 
            "execution_count": 14
        }, 
        {
            "source": "groupd = df['data1'].groupby(df['key1'])\ngroupd", 
            "cell_type": "code", 
            "metadata": {}, 
            "outputs": [
                {
                    "output_type": "execute_result", 
                    "data": {
                        "text/plain": "<pandas.core.groupby.SeriesGroupBy object at 0x2b4b52f13208>"
                    }, 
                    "execution_count": 13, 
                    "metadata": {}
                }
            ], 
            "execution_count": 13
        }, 
        {
            "source": "print(groupd.mean())\nprint(groupd.max())\nprint(groupd.cumsum())\nprint(groupd.median())\n#print(groupd.agg(lambda x, y: x*y))", 
            "cell_type": "code", 
            "metadata": {}, 
            "outputs": [
                {
                    "output_type": "stream", 
                    "name": "stdout", 
                    "text": "key1\na    0.754353\nb   -2.024171\nName: data1, dtype: float64\nkey1\na    1.634553\nb   -1.882514\nName: data1, dtype: float64\n0   -0.053094\n1    0.628504\n2   -1.882514\n3   -4.048342\n4    2.263058\nName: data1, dtype: float64\nkey1\na    0.681599\nb   -2.024171\nName: data1, dtype: float64\n"
                }
            ], 
            "execution_count": 20
        }, 
        {
            "source": "means = df['data2'].groupby([df['key1'], df['key2']]).mean()\nmeans", 
            "cell_type": "code", 
            "metadata": {}, 
            "outputs": [
                {
                    "output_type": "execute_result", 
                    "data": {
                        "text/plain": "key1  key2\na     one     0.427780\n      two     0.978915\nb     one    -0.452092\n      two     1.116717\nName: data2, dtype: float64"
                    }, 
                    "execution_count": 23, 
                    "metadata": {}
                }
            ], 
            "execution_count": 23
        }, 
        {
            "source": "means.unstack()", 
            "cell_type": "code", 
            "metadata": {}, 
            "outputs": [
                {
                    "output_type": "execute_result", 
                    "data": {
                        "text/html": "<div>\n<style scoped>\n    .dataframe tbody tr th:only-of-type {\n        vertical-align: middle;\n    }\n\n    .dataframe tbody tr th {\n        vertical-align: top;\n    }\n\n    .dataframe thead th {\n        text-align: right;\n    }\n</style>\n<table border=\"1\" class=\"dataframe\">\n  <thead>\n    <tr style=\"text-align: right;\">\n      <th>key2</th>\n      <th>one</th>\n      <th>two</th>\n    </tr>\n    <tr>\n      <th>key1</th>\n      <th></th>\n      <th></th>\n    </tr>\n  </thead>\n  <tbody>\n    <tr>\n      <th>a</th>\n      <td>0.427780</td>\n      <td>0.978915</td>\n    </tr>\n    <tr>\n      <th>b</th>\n      <td>-0.452092</td>\n      <td>1.116717</td>\n    </tr>\n  </tbody>\n</table>\n</div>", 
                        "text/plain": "key2       one       two\nkey1                    \na     0.427780  0.978915\nb    -0.452092  1.116717"
                    }, 
                    "execution_count": 24, 
                    "metadata": {}
                }
            ], 
            "execution_count": 24
        }, 
        {
            "source": "df.groupby(['key1', 'key2']).mean()", 
            "cell_type": "code", 
            "metadata": {}, 
            "outputs": [
                {
                    "output_type": "execute_result", 
                    "data": {
                        "text/html": "<div>\n<style scoped>\n    .dataframe tbody tr th:only-of-type {\n        vertical-align: middle;\n    }\n\n    .dataframe tbody tr th {\n        vertical-align: top;\n    }\n\n    .dataframe thead th {\n        text-align: right;\n    }\n</style>\n<table border=\"1\" class=\"dataframe\">\n  <thead>\n    <tr style=\"text-align: right;\">\n      <th></th>\n      <th></th>\n      <th>data1</th>\n      <th>data2</th>\n    </tr>\n    <tr>\n      <th>key1</th>\n      <th>key2</th>\n      <th></th>\n      <th></th>\n    </tr>\n  </thead>\n  <tbody>\n    <tr>\n      <th rowspan=\"2\" valign=\"top\">a</th>\n      <th>one</th>\n      <td>0.790729</td>\n      <td>0.427780</td>\n    </tr>\n    <tr>\n      <th>two</th>\n      <td>0.681599</td>\n      <td>0.978915</td>\n    </tr>\n    <tr>\n      <th rowspan=\"2\" valign=\"top\">b</th>\n      <th>one</th>\n      <td>-1.882514</td>\n      <td>-0.452092</td>\n    </tr>\n    <tr>\n      <th>two</th>\n      <td>-2.165828</td>\n      <td>1.116717</td>\n    </tr>\n  </tbody>\n</table>\n</div>", 
                        "text/plain": "              data1     data2\nkey1 key2                    \na    one   0.790729  0.427780\n     two   0.681599  0.978915\nb    one  -1.882514 -0.452092\n     two  -2.165828  1.116717"
                    }, 
                    "execution_count": 32, 
                    "metadata": {}
                }
            ], 
            "execution_count": 32
        }, 
        {
            "source": "df.groupby(['key1', 'key2']).mean()['data2']", 
            "cell_type": "code", 
            "metadata": {}, 
            "outputs": [
                {
                    "output_type": "execute_result", 
                    "data": {
                        "text/plain": "key1  key2\na     one     0.427780\n      two     0.978915\nb     one    -0.452092\n      two     1.116717\nName: data2, dtype: float64"
                    }, 
                    "execution_count": 31, 
                    "metadata": {}
                }
            ], 
            "execution_count": 31
        }, 
        {
            "source": "df['data2'].groupby([df['key1'], df['key2']]).mean()", 
            "cell_type": "code", 
            "metadata": {}, 
            "outputs": [
                {
                    "output_type": "execute_result", 
                    "data": {
                        "text/plain": "key1  key2\na     one     0.427780\n      two     0.978915\nb     one    -0.452092\n      two     1.116717\nName: data2, dtype: float64"
                    }, 
                    "execution_count": 48, 
                    "metadata": {}
                }
            ], 
            "execution_count": 48
        }, 
        {
            "source": "df.groupby(['key1', 'key2'])['data2'].mean()", 
            "cell_type": "code", 
            "metadata": {}, 
            "outputs": [
                {
                    "output_type": "execute_result", 
                    "data": {
                        "text/plain": "key1  key2\na     one     0.427780\n      two     0.978915\nb     one    -0.452092\n      two     1.116717\nName: data2, dtype: float64"
                    }, 
                    "execution_count": 46, 
                    "metadata": {}
                }
            ], 
            "execution_count": 46
        }, 
        {
            "source": "df.groupby(['key1', 'key2']).mean()[['data2']]", 
            "cell_type": "code", 
            "metadata": {}, 
            "outputs": [
                {
                    "output_type": "execute_result", 
                    "data": {
                        "text/html": "<div>\n<style scoped>\n    .dataframe tbody tr th:only-of-type {\n        vertical-align: middle;\n    }\n\n    .dataframe tbody tr th {\n        vertical-align: top;\n    }\n\n    .dataframe thead th {\n        text-align: right;\n    }\n</style>\n<table border=\"1\" class=\"dataframe\">\n  <thead>\n    <tr style=\"text-align: right;\">\n      <th></th>\n      <th></th>\n      <th>data2</th>\n    </tr>\n    <tr>\n      <th>key1</th>\n      <th>key2</th>\n      <th></th>\n    </tr>\n  </thead>\n  <tbody>\n    <tr>\n      <th rowspan=\"2\" valign=\"top\">a</th>\n      <th>one</th>\n      <td>0.427780</td>\n    </tr>\n    <tr>\n      <th>two</th>\n      <td>0.978915</td>\n    </tr>\n    <tr>\n      <th rowspan=\"2\" valign=\"top\">b</th>\n      <th>one</th>\n      <td>-0.452092</td>\n    </tr>\n    <tr>\n      <th>two</th>\n      <td>1.116717</td>\n    </tr>\n  </tbody>\n</table>\n</div>", 
                        "text/plain": "              data2\nkey1 key2          \na    one   0.427780\n     two   0.978915\nb    one  -0.452092\n     two   1.116717"
                    }, 
                    "execution_count": 42, 
                    "metadata": {}
                }
            ], 
            "execution_count": 42
        }, 
        {
            "source": "print(df.groupby(['key1', 'key2']).size())\nprint(df.groupby(['key1', 'key2']).count())", 
            "cell_type": "code", 
            "metadata": {}, 
            "outputs": [
                {
                    "output_type": "stream", 
                    "name": "stdout", 
                    "text": "key1  key2\na     one     2\n      two     1\nb     one     1\n      two     1\ndtype: int64\n           data1  data2\nkey1 key2              \na    one       2      2\n     two       1      1\nb    one       1      1\n     two       1      1\n"
                }
            ], 
            "execution_count": 33
        }, 
        {
            "source": "for name, group in df.groupby('key1'):\n    print(name)\n    print(group)\n    print(type(group))", 
            "cell_type": "code", 
            "metadata": {}, 
            "outputs": [
                {
                    "output_type": "stream", 
                    "name": "stdout", 
                    "text": "a\n      data1     data2 key1 key2\n0 -0.053094  1.586662    a  one\n1  0.681599  0.978915    a  two\n4  1.634553 -0.731102    a  one\n<class 'pandas.core.frame.DataFrame'>\nb\n      data1     data2 key1 key2\n2 -1.882514 -0.452092    b  one\n3 -2.165828  1.116717    b  two\n<class 'pandas.core.frame.DataFrame'>\n"
                }
            ], 
            "execution_count": 41
        }, 
        {
            "source": "for (k1, k2), group in df.groupby(['key1', 'key2']):\n    print((k1, k2))\n    print(group)", 
            "cell_type": "code", 
            "metadata": {}, 
            "outputs": [
                {
                    "output_type": "stream", 
                    "name": "stdout", 
                    "text": "('a', 'one')\n      data1     data2 key1 key2\n0 -0.053094  1.586662    a  one\n4  1.634553 -0.731102    a  one\n('a', 'two')\n      data1     data2 key1 key2\n1  0.681599  0.978915    a  two\n('b', 'one')\n      data1     data2 key1 key2\n2 -1.882514 -0.452092    b  one\n('b', 'two')\n      data1     data2 key1 key2\n3 -2.165828  1.116717    b  two\n"
                }
            ], 
            "execution_count": 40
        }, 
        {
            "source": "people = pd.DataFrame(np.random.randn(5, 5),\n                      columns=['a', 'b', 'c', 'd', 'e'],\n                      index=['Joe','Steve','Wes','Jim','Travis'])\npeople", 
            "cell_type": "code", 
            "metadata": {}, 
            "outputs": [
                {
                    "output_type": "execute_result", 
                    "data": {
                        "text/html": "<div>\n<style scoped>\n    .dataframe tbody tr th:only-of-type {\n        vertical-align: middle;\n    }\n\n    .dataframe tbody tr th {\n        vertical-align: top;\n    }\n\n    .dataframe thead th {\n        text-align: right;\n    }\n</style>\n<table border=\"1\" class=\"dataframe\">\n  <thead>\n    <tr style=\"text-align: right;\">\n      <th></th>\n      <th>a</th>\n      <th>b</th>\n      <th>c</th>\n      <th>d</th>\n      <th>e</th>\n    </tr>\n  </thead>\n  <tbody>\n    <tr>\n      <th>Joe</th>\n      <td>0.500316</td>\n      <td>-0.712970</td>\n      <td>-0.521388</td>\n      <td>-2.362654</td>\n      <td>0.440293</td>\n    </tr>\n    <tr>\n      <th>Steve</th>\n      <td>-0.222897</td>\n      <td>-1.246790</td>\n      <td>-0.700501</td>\n      <td>1.269692</td>\n      <td>1.274544</td>\n    </tr>\n    <tr>\n      <th>Wes</th>\n      <td>-0.743937</td>\n      <td>1.147002</td>\n      <td>-0.076556</td>\n      <td>1.434797</td>\n      <td>-0.425078</td>\n    </tr>\n    <tr>\n      <th>Jim</th>\n      <td>0.752874</td>\n      <td>0.420150</td>\n      <td>-1.324232</td>\n      <td>0.299086</td>\n      <td>-1.756486</td>\n    </tr>\n    <tr>\n      <th>Travis</th>\n      <td>-0.284217</td>\n      <td>0.769275</td>\n      <td>-0.842308</td>\n      <td>0.883708</td>\n      <td>-0.638489</td>\n    </tr>\n  </tbody>\n</table>\n</div>", 
                        "text/plain": "               a         b         c         d         e\nJoe     0.500316 -0.712970 -0.521388 -2.362654  0.440293\nSteve  -0.222897 -1.246790 -0.700501  1.269692  1.274544\nWes    -0.743937  1.147002 -0.076556  1.434797 -0.425078\nJim     0.752874  0.420150 -1.324232  0.299086 -1.756486\nTravis -0.284217  0.769275 -0.842308  0.883708 -0.638489"
                    }, 
                    "execution_count": 5, 
                    "metadata": {}
                }
            ], 
            "execution_count": 5
        }, 
        {
            "source": "mapping = {'a':'red', 'b':'red', 'c':'blue', 'd':'blue', 'e':'red', 'f':'orange'}\npeople.groupby(mapping, axis=1).sum()", 
            "cell_type": "code", 
            "metadata": {}, 
            "outputs": [
                {
                    "output_type": "execute_result", 
                    "data": {
                        "text/html": "<div>\n<style scoped>\n    .dataframe tbody tr th:only-of-type {\n        vertical-align: middle;\n    }\n\n    .dataframe tbody tr th {\n        vertical-align: top;\n    }\n\n    .dataframe thead th {\n        text-align: right;\n    }\n</style>\n<table border=\"1\" class=\"dataframe\">\n  <thead>\n    <tr style=\"text-align: right;\">\n      <th></th>\n      <th>blue</th>\n      <th>red</th>\n    </tr>\n  </thead>\n  <tbody>\n    <tr>\n      <th>Joe</th>\n      <td>-2.884043</td>\n      <td>0.227638</td>\n    </tr>\n    <tr>\n      <th>Steve</th>\n      <td>0.569191</td>\n      <td>-0.195143</td>\n    </tr>\n    <tr>\n      <th>Wes</th>\n      <td>1.358241</td>\n      <td>-0.022013</td>\n    </tr>\n    <tr>\n      <th>Jim</th>\n      <td>-1.025146</td>\n      <td>-0.583463</td>\n    </tr>\n    <tr>\n      <th>Travis</th>\n      <td>0.041400</td>\n      <td>-0.153431</td>\n    </tr>\n  </tbody>\n</table>\n</div>", 
                        "text/plain": "            blue       red\nJoe    -2.884043  0.227638\nSteve   0.569191 -0.195143\nWes     1.358241 -0.022013\nJim    -1.025146 -0.583463\nTravis  0.041400 -0.153431"
                    }, 
                    "execution_count": 9, 
                    "metadata": {}
                }
            ], 
            "execution_count": 9
        }, 
        {
            "source": "people.groupby(len).sum() # passed function is called once per index", 
            "cell_type": "code", 
            "metadata": {}, 
            "outputs": [
                {
                    "output_type": "execute_result", 
                    "data": {
                        "text/html": "<div>\n<style scoped>\n    .dataframe tbody tr th:only-of-type {\n        vertical-align: middle;\n    }\n\n    .dataframe tbody tr th {\n        vertical-align: top;\n    }\n\n    .dataframe thead th {\n        text-align: right;\n    }\n</style>\n<table border=\"1\" class=\"dataframe\">\n  <thead>\n    <tr style=\"text-align: right;\">\n      <th></th>\n      <th>a</th>\n      <th>b</th>\n      <th>c</th>\n      <th>d</th>\n      <th>e</th>\n    </tr>\n  </thead>\n  <tbody>\n    <tr>\n      <th>3</th>\n      <td>0.509252</td>\n      <td>0.854182</td>\n      <td>-1.922176</td>\n      <td>-0.628771</td>\n      <td>-1.741272</td>\n    </tr>\n    <tr>\n      <th>5</th>\n      <td>-0.222897</td>\n      <td>-1.246790</td>\n      <td>-0.700501</td>\n      <td>1.269692</td>\n      <td>1.274544</td>\n    </tr>\n    <tr>\n      <th>6</th>\n      <td>-0.284217</td>\n      <td>0.769275</td>\n      <td>-0.842308</td>\n      <td>0.883708</td>\n      <td>-0.638489</td>\n    </tr>\n  </tbody>\n</table>\n</div>", 
                        "text/plain": "          a         b         c         d         e\n3  0.509252  0.854182 -1.922176 -0.628771 -1.741272\n5 -0.222897 -1.246790 -0.700501  1.269692  1.274544\n6 -0.284217  0.769275 -0.842308  0.883708 -0.638489"
                    }, 
                    "execution_count": 6, 
                    "metadata": {}
                }
            ], 
            "execution_count": 6
        }, 
        {
            "source": "key_list = ['one', 'one', 'one', 'two', 'two']\npeople.groupby([len, key_list]).min()", 
            "cell_type": "code", 
            "metadata": {}, 
            "outputs": [
                {
                    "output_type": "execute_result", 
                    "data": {
                        "text/html": "<div>\n<style scoped>\n    .dataframe tbody tr th:only-of-type {\n        vertical-align: middle;\n    }\n\n    .dataframe tbody tr th {\n        vertical-align: top;\n    }\n\n    .dataframe thead th {\n        text-align: right;\n    }\n</style>\n<table border=\"1\" class=\"dataframe\">\n  <thead>\n    <tr style=\"text-align: right;\">\n      <th></th>\n      <th></th>\n      <th>a</th>\n      <th>b</th>\n      <th>c</th>\n      <th>d</th>\n      <th>e</th>\n    </tr>\n  </thead>\n  <tbody>\n    <tr>\n      <th rowspan=\"2\" valign=\"top\">3</th>\n      <th>one</th>\n      <td>-0.743937</td>\n      <td>-0.712970</td>\n      <td>-0.521388</td>\n      <td>-2.362654</td>\n      <td>-0.425078</td>\n    </tr>\n    <tr>\n      <th>two</th>\n      <td>0.752874</td>\n      <td>0.420150</td>\n      <td>-1.324232</td>\n      <td>0.299086</td>\n      <td>-1.756486</td>\n    </tr>\n    <tr>\n      <th>5</th>\n      <th>one</th>\n      <td>-0.222897</td>\n      <td>-1.246790</td>\n      <td>-0.700501</td>\n      <td>1.269692</td>\n      <td>1.274544</td>\n    </tr>\n    <tr>\n      <th>6</th>\n      <th>two</th>\n      <td>-0.284217</td>\n      <td>0.769275</td>\n      <td>-0.842308</td>\n      <td>0.883708</td>\n      <td>-0.638489</td>\n    </tr>\n  </tbody>\n</table>\n</div>", 
                        "text/plain": "              a         b         c         d         e\n3 one -0.743937 -0.712970 -0.521388 -2.362654 -0.425078\n  two  0.752874  0.420150 -1.324232  0.299086 -1.756486\n5 one -0.222897 -1.246790 -0.700501  1.269692  1.274544\n6 two -0.284217  0.769275 -0.842308  0.883708 -0.638489"
                    }, 
                    "execution_count": 7, 
                    "metadata": {}
                }
            ], 
            "execution_count": 7
        }, 
        {
            "source": "columns = pd.MultiIndex.from_arrays([['US','US','US','JP','JP'],\n                                    [1,3,5,1,3]],\n                                   names=['cty', 'tenor'])\nhier_df = pd.DataFrame(np.random.randn(5,5), columns=columns)\nhier_df", 
            "cell_type": "code", 
            "metadata": {}, 
            "outputs": [
                {
                    "output_type": "execute_result", 
                    "data": {
                        "text/html": "<div>\n<style scoped>\n    .dataframe tbody tr th:only-of-type {\n        vertical-align: middle;\n    }\n\n    .dataframe tbody tr th {\n        vertical-align: top;\n    }\n\n    .dataframe thead tr th {\n        text-align: left;\n    }\n</style>\n<table border=\"1\" class=\"dataframe\">\n  <thead>\n    <tr>\n      <th>cty</th>\n      <th colspan=\"3\" halign=\"left\">US</th>\n      <th colspan=\"2\" halign=\"left\">JP</th>\n    </tr>\n    <tr>\n      <th>tenor</th>\n      <th>1</th>\n      <th>3</th>\n      <th>5</th>\n      <th>1</th>\n      <th>3</th>\n    </tr>\n  </thead>\n  <tbody>\n    <tr>\n      <th>0</th>\n      <td>-1.607065</td>\n      <td>-0.609037</td>\n      <td>-0.658986</td>\n      <td>0.298049</td>\n      <td>1.998461</td>\n    </tr>\n    <tr>\n      <th>1</th>\n      <td>1.310782</td>\n      <td>0.706777</td>\n      <td>-1.287094</td>\n      <td>0.602343</td>\n      <td>-0.926904</td>\n    </tr>\n    <tr>\n      <th>2</th>\n      <td>-0.560889</td>\n      <td>0.600629</td>\n      <td>-0.668006</td>\n      <td>0.212567</td>\n      <td>-0.595610</td>\n    </tr>\n    <tr>\n      <th>3</th>\n      <td>0.004130</td>\n      <td>0.799713</td>\n      <td>-0.342444</td>\n      <td>-1.650681</td>\n      <td>-0.803132</td>\n    </tr>\n    <tr>\n      <th>4</th>\n      <td>-0.598876</td>\n      <td>0.225560</td>\n      <td>-0.987650</td>\n      <td>1.226207</td>\n      <td>-0.036213</td>\n    </tr>\n  </tbody>\n</table>\n</div>", 
                        "text/plain": "cty          US                            JP          \ntenor         1         3         5         1         3\n0     -1.607065 -0.609037 -0.658986  0.298049  1.998461\n1      1.310782  0.706777 -1.287094  0.602343 -0.926904\n2     -0.560889  0.600629 -0.668006  0.212567 -0.595610\n3      0.004130  0.799713 -0.342444 -1.650681 -0.803132\n4     -0.598876  0.225560 -0.987650  1.226207 -0.036213"
                    }, 
                    "execution_count": 10, 
                    "metadata": {}
                }
            ], 
            "execution_count": 10
        }, 
        {
            "source": "print(hier_df.groupby(level='tenor', axis=1).min())\nprint(hier_df.groupby(level='cty', axis=1).min())", 
            "cell_type": "code", 
            "metadata": {}, 
            "outputs": [
                {
                    "output_type": "stream", 
                    "name": "stdout", 
                    "text": "tenor         1         3         5\n0     -1.607065 -0.609037 -0.658986\n1      0.602343 -0.926904 -1.287094\n2     -0.560889 -0.595610 -0.668006\n3     -1.650681 -0.803132 -0.342444\n4     -0.598876 -0.036213 -0.987650\ncty        JP        US\n0    0.298049 -1.607065\n1   -0.926904 -1.287094\n2   -0.595610 -0.668006\n3   -1.650681 -0.342444\n4   -0.036213 -0.987650\n"
                }
            ], 
            "execution_count": 13
        }, 
        {
            "source": "df.groupby('key1').quantile(0.9)", 
            "cell_type": "code", 
            "metadata": {}, 
            "outputs": [
                {
                    "output_type": "execute_result", 
                    "data": {
                        "text/html": "<div>\n<style scoped>\n    .dataframe tbody tr th:only-of-type {\n        vertical-align: middle;\n    }\n\n    .dataframe tbody tr th {\n        vertical-align: top;\n    }\n\n    .dataframe thead th {\n        text-align: right;\n    }\n</style>\n<table border=\"1\" class=\"dataframe\">\n  <thead>\n    <tr style=\"text-align: right;\">\n      <th>0.9</th>\n      <th>data1</th>\n      <th>data2</th>\n    </tr>\n    <tr>\n      <th>key1</th>\n      <th></th>\n      <th></th>\n    </tr>\n  </thead>\n  <tbody>\n    <tr>\n      <th>a</th>\n      <td>0.861608</td>\n      <td>0.740228</td>\n    </tr>\n    <tr>\n      <th>b</th>\n      <td>1.298683</td>\n      <td>-0.241835</td>\n    </tr>\n  </tbody>\n</table>\n</div>", 
                        "text/plain": "0.9      data1     data2\nkey1                    \na     0.861608  0.740228\nb     1.298683 -0.241835"
                    }, 
                    "execution_count": 15, 
                    "metadata": {}
                }
            ], 
            "execution_count": 15
        }, 
        {
            "source": "df.groupby('key1').agg(lambda a: a.max() - a.min())", 
            "cell_type": "code", 
            "metadata": {}, 
            "outputs": [
                {
                    "output_type": "execute_result", 
                    "data": {
                        "text/html": "<div>\n<style scoped>\n    .dataframe tbody tr th:only-of-type {\n        vertical-align: middle;\n    }\n\n    .dataframe tbody tr th {\n        vertical-align: top;\n    }\n\n    .dataframe thead th {\n        text-align: right;\n    }\n</style>\n<table border=\"1\" class=\"dataframe\">\n  <thead>\n    <tr style=\"text-align: right;\">\n      <th></th>\n      <th>data1</th>\n      <th>data2</th>\n    </tr>\n    <tr>\n      <th>key1</th>\n      <th></th>\n      <th></th>\n    </tr>\n  </thead>\n  <tbody>\n    <tr>\n      <th>a</th>\n      <td>2.063115</td>\n      <td>2.695054</td>\n    </tr>\n    <tr>\n      <th>b</th>\n      <td>1.352702</td>\n      <td>0.649693</td>\n    </tr>\n  </tbody>\n</table>\n</div>", 
                        "text/plain": "         data1     data2\nkey1                    \na     2.063115  2.695054\nb     1.352702  0.649693"
                    }, 
                    "execution_count": 16, 
                    "metadata": {}
                }
            ], 
            "execution_count": 16
        }, 
        {
            "source": "df.groupby('key1').describe()", 
            "cell_type": "code", 
            "metadata": {}, 
            "outputs": [
                {
                    "output_type": "execute_result", 
                    "data": {
                        "text/html": "<div>\n<style scoped>\n    .dataframe tbody tr th:only-of-type {\n        vertical-align: middle;\n    }\n\n    .dataframe tbody tr th {\n        vertical-align: top;\n    }\n\n    .dataframe thead tr th {\n        text-align: left;\n    }\n\n    .dataframe thead tr:last-of-type th {\n        text-align: right;\n    }\n</style>\n<table border=\"1\" class=\"dataframe\">\n  <thead>\n    <tr>\n      <th></th>\n      <th colspan=\"8\" halign=\"left\">data1</th>\n      <th colspan=\"8\" halign=\"left\">data2</th>\n    </tr>\n    <tr>\n      <th></th>\n      <th>count</th>\n      <th>mean</th>\n      <th>std</th>\n      <th>min</th>\n      <th>25%</th>\n      <th>50%</th>\n      <th>75%</th>\n      <th>max</th>\n      <th>count</th>\n      <th>mean</th>\n      <th>std</th>\n      <th>min</th>\n      <th>25%</th>\n      <th>50%</th>\n      <th>75%</th>\n      <th>max</th>\n    </tr>\n    <tr>\n      <th>key1</th>\n      <th></th>\n      <th></th>\n      <th></th>\n      <th></th>\n      <th></th>\n      <th></th>\n      <th></th>\n      <th></th>\n      <th></th>\n      <th></th>\n      <th></th>\n      <th></th>\n      <th></th>\n      <th></th>\n      <th></th>\n      <th></th>\n    </tr>\n  </thead>\n  <tbody>\n    <tr>\n      <th>a</th>\n      <td>3.0</td>\n      <td>-0.057815</td>\n      <td>1.109239</td>\n      <td>-0.853930</td>\n      <td>-0.691315</td>\n      <td>-0.528700</td>\n      <td>0.340243</td>\n      <td>1.209185</td>\n      <td>3.0</td>\n      <td>-0.473723</td>\n      <td>1.470465</td>\n      <td>-1.481427</td>\n      <td>-1.317398</td>\n      <td>-1.153370</td>\n      <td>0.030129</td>\n      <td>1.213627</td>\n    </tr>\n    <tr>\n      <th>b</th>\n      <td>2.0</td>\n      <td>0.757602</td>\n      <td>0.956504</td>\n      <td>0.081252</td>\n      <td>0.419427</td>\n      <td>0.757602</td>\n      <td>1.095778</td>\n      <td>1.433953</td>\n      <td>2.0</td>\n      <td>-0.501712</td>\n      <td>0.459402</td>\n      <td>-0.826558</td>\n      <td>-0.664135</td>\n      <td>-0.501712</td>\n      <td>-0.339289</td>\n      <td>-0.176865</td>\n    </tr>\n  </tbody>\n</table>\n</div>", 
                        "text/plain": "     data1                                                              \\\n     count      mean       std       min       25%       50%       75%   \nkey1                                                                     \na      3.0 -0.057815  1.109239 -0.853930 -0.691315 -0.528700  0.340243   \nb      2.0  0.757602  0.956504  0.081252  0.419427  0.757602  1.095778   \n\n               data2                                                    \\\n           max count      mean       std       min       25%       50%   \nkey1                                                                     \na     1.209185   3.0 -0.473723  1.470465 -1.481427 -1.317398 -1.153370   \nb     1.433953   2.0 -0.501712  0.459402 -0.826558 -0.664135 -0.501712   \n\n                          \n           75%       max  \nkey1                      \na     0.030129  1.213627  \nb    -0.339289 -0.176865  "
                    }, 
                    "execution_count": 18, 
                    "metadata": {}
                }
            ], 
            "execution_count": 18
        }, 
        {
            "source": "\nimport sys\nimport types\nimport pandas as pd\nfrom botocore.client import Config\nimport ibm_boto3\n\ndef __iter__(self): return 0\n\n# @hidden_cell\n# The following code accesses a file in your IBM Cloud Object Storage. It includes your credentials.\n# You might want to remove those credentials before you share your notebook.\nclient_9fa254825cf748af8c99d9684609cb33 = ibm_boto3.client(service_name='s3',\n    ibm_api_key_id='pGtcK4Cfe0bYhkzj57xpd52SoW35u9AminIgvd2fgQxN',\n    ibm_auth_endpoint=\"https://iam.ng.bluemix.net/oidc/token\",\n    config=Config(signature_version='oauth'),\n    endpoint_url='https://s3-api.us-geo.objectstorage.service.networklayer.com')\n\nbody = client_9fa254825cf748af8c99d9684609cb33.get_object(Bucket='sparkscalapythonplayground-donotdelete-pr-pmmafeibz2hwiv',Key='tips.csv')['Body']\n# add missing __iter__ method, so pandas accepts body as file-like object\nif not hasattr(body, \"__iter__\"): body.__iter__ = types.MethodType( __iter__, body )\n\ntips = pd.read_csv(body)\ntips.head()\n\n", 
            "cell_type": "code", 
            "metadata": {}, 
            "outputs": [
                {
                    "output_type": "execute_result", 
                    "data": {
                        "text/plain": "   total_bill   tip smoker  day    time  size\n0       16.99  1.01     No  Sun  Dinner     2\n1       10.34  1.66     No  Sun  Dinner     3\n2       21.01  3.50     No  Sun  Dinner     3\n3       23.68  3.31     No  Sun  Dinner     2\n4       24.59  3.61     No  Sun  Dinner     4", 
                        "text/html": "<div>\n<style scoped>\n    .dataframe tbody tr th:only-of-type {\n        vertical-align: middle;\n    }\n\n    .dataframe tbody tr th {\n        vertical-align: top;\n    }\n\n    .dataframe thead th {\n        text-align: right;\n    }\n</style>\n<table border=\"1\" class=\"dataframe\">\n  <thead>\n    <tr style=\"text-align: right;\">\n      <th></th>\n      <th>total_bill</th>\n      <th>tip</th>\n      <th>smoker</th>\n      <th>day</th>\n      <th>time</th>\n      <th>size</th>\n    </tr>\n  </thead>\n  <tbody>\n    <tr>\n      <th>0</th>\n      <td>16.99</td>\n      <td>1.01</td>\n      <td>No</td>\n      <td>Sun</td>\n      <td>Dinner</td>\n      <td>2</td>\n    </tr>\n    <tr>\n      <th>1</th>\n      <td>10.34</td>\n      <td>1.66</td>\n      <td>No</td>\n      <td>Sun</td>\n      <td>Dinner</td>\n      <td>3</td>\n    </tr>\n    <tr>\n      <th>2</th>\n      <td>21.01</td>\n      <td>3.50</td>\n      <td>No</td>\n      <td>Sun</td>\n      <td>Dinner</td>\n      <td>3</td>\n    </tr>\n    <tr>\n      <th>3</th>\n      <td>23.68</td>\n      <td>3.31</td>\n      <td>No</td>\n      <td>Sun</td>\n      <td>Dinner</td>\n      <td>2</td>\n    </tr>\n    <tr>\n      <th>4</th>\n      <td>24.59</td>\n      <td>3.61</td>\n      <td>No</td>\n      <td>Sun</td>\n      <td>Dinner</td>\n      <td>4</td>\n    </tr>\n  </tbody>\n</table>\n</div>"
                    }, 
                    "execution_count": 2, 
                    "metadata": {}
                }
            ], 
            "execution_count": 2
        }, 
        {
            "source": "tips['tips_pct'] = tips['tip'] / (tips['total_bill'] - tips['tip'])\ntips.head()", 
            "cell_type": "code", 
            "metadata": {}, 
            "outputs": [
                {
                    "output_type": "execute_result", 
                    "data": {
                        "text/plain": "   total_bill   tip smoker  day    time  size  tips_pct\n0       16.99  1.01     No  Sun  Dinner     2  0.063204\n1       10.34  1.66     No  Sun  Dinner     3  0.191244\n2       21.01  3.50     No  Sun  Dinner     3  0.199886\n3       23.68  3.31     No  Sun  Dinner     2  0.162494\n4       24.59  3.61     No  Sun  Dinner     4  0.172069", 
                        "text/html": "<div>\n<style scoped>\n    .dataframe tbody tr th:only-of-type {\n        vertical-align: middle;\n    }\n\n    .dataframe tbody tr th {\n        vertical-align: top;\n    }\n\n    .dataframe thead th {\n        text-align: right;\n    }\n</style>\n<table border=\"1\" class=\"dataframe\">\n  <thead>\n    <tr style=\"text-align: right;\">\n      <th></th>\n      <th>total_bill</th>\n      <th>tip</th>\n      <th>smoker</th>\n      <th>day</th>\n      <th>time</th>\n      <th>size</th>\n      <th>tips_pct</th>\n    </tr>\n  </thead>\n  <tbody>\n    <tr>\n      <th>0</th>\n      <td>16.99</td>\n      <td>1.01</td>\n      <td>No</td>\n      <td>Sun</td>\n      <td>Dinner</td>\n      <td>2</td>\n      <td>0.063204</td>\n    </tr>\n    <tr>\n      <th>1</th>\n      <td>10.34</td>\n      <td>1.66</td>\n      <td>No</td>\n      <td>Sun</td>\n      <td>Dinner</td>\n      <td>3</td>\n      <td>0.191244</td>\n    </tr>\n    <tr>\n      <th>2</th>\n      <td>21.01</td>\n      <td>3.50</td>\n      <td>No</td>\n      <td>Sun</td>\n      <td>Dinner</td>\n      <td>3</td>\n      <td>0.199886</td>\n    </tr>\n    <tr>\n      <th>3</th>\n      <td>23.68</td>\n      <td>3.31</td>\n      <td>No</td>\n      <td>Sun</td>\n      <td>Dinner</td>\n      <td>2</td>\n      <td>0.162494</td>\n    </tr>\n    <tr>\n      <th>4</th>\n      <td>24.59</td>\n      <td>3.61</td>\n      <td>No</td>\n      <td>Sun</td>\n      <td>Dinner</td>\n      <td>4</td>\n      <td>0.172069</td>\n    </tr>\n  </tbody>\n</table>\n</div>"
                    }, 
                    "execution_count": 5, 
                    "metadata": {}
                }
            ], 
            "execution_count": 5
        }, 
        {
            "source": "def top(df, n=5, column='tips_pct'):\n    return df.sort_values(by=column)[-n:]", 
            "cell_type": "code", 
            "metadata": {}, 
            "outputs": [], 
            "execution_count": 6
        }, 
        {
            "source": "top(tips, n=6)", 
            "cell_type": "code", 
            "metadata": {}, 
            "outputs": [
                {
                    "output_type": "execute_result", 
                    "data": {
                        "text/plain": "     total_bill   tip smoker  day    time  size  tips_pct\n109       14.31  4.00    Yes  Sat  Dinner     2  0.387973\n183       23.17  6.50    Yes  Sun  Dinner     4  0.389922\n232       11.61  3.39     No  Sat  Dinner     2  0.412409\n67         3.07  1.00    Yes  Sat  Dinner     1  0.483092\n178        9.60  4.00    Yes  Sun  Dinner     2  0.714286\n172        7.25  5.15    Yes  Sun  Dinner     2  2.452381", 
                        "text/html": "<div>\n<style scoped>\n    .dataframe tbody tr th:only-of-type {\n        vertical-align: middle;\n    }\n\n    .dataframe tbody tr th {\n        vertical-align: top;\n    }\n\n    .dataframe thead th {\n        text-align: right;\n    }\n</style>\n<table border=\"1\" class=\"dataframe\">\n  <thead>\n    <tr style=\"text-align: right;\">\n      <th></th>\n      <th>total_bill</th>\n      <th>tip</th>\n      <th>smoker</th>\n      <th>day</th>\n      <th>time</th>\n      <th>size</th>\n      <th>tips_pct</th>\n    </tr>\n  </thead>\n  <tbody>\n    <tr>\n      <th>109</th>\n      <td>14.31</td>\n      <td>4.00</td>\n      <td>Yes</td>\n      <td>Sat</td>\n      <td>Dinner</td>\n      <td>2</td>\n      <td>0.387973</td>\n    </tr>\n    <tr>\n      <th>183</th>\n      <td>23.17</td>\n      <td>6.50</td>\n      <td>Yes</td>\n      <td>Sun</td>\n      <td>Dinner</td>\n      <td>4</td>\n      <td>0.389922</td>\n    </tr>\n    <tr>\n      <th>232</th>\n      <td>11.61</td>\n      <td>3.39</td>\n      <td>No</td>\n      <td>Sat</td>\n      <td>Dinner</td>\n      <td>2</td>\n      <td>0.412409</td>\n    </tr>\n    <tr>\n      <th>67</th>\n      <td>3.07</td>\n      <td>1.00</td>\n      <td>Yes</td>\n      <td>Sat</td>\n      <td>Dinner</td>\n      <td>1</td>\n      <td>0.483092</td>\n    </tr>\n    <tr>\n      <th>178</th>\n      <td>9.60</td>\n      <td>4.00</td>\n      <td>Yes</td>\n      <td>Sun</td>\n      <td>Dinner</td>\n      <td>2</td>\n      <td>0.714286</td>\n    </tr>\n    <tr>\n      <th>172</th>\n      <td>7.25</td>\n      <td>5.15</td>\n      <td>Yes</td>\n      <td>Sun</td>\n      <td>Dinner</td>\n      <td>2</td>\n      <td>2.452381</td>\n    </tr>\n  </tbody>\n</table>\n</div>"
                    }, 
                    "execution_count": 7, 
                    "metadata": {}
                }
            ], 
            "execution_count": 7
        }, 
        {
            "source": "tips.groupby('smoker').apply(top)", 
            "cell_type": "code", 
            "metadata": {}, 
            "outputs": [
                {
                    "output_type": "execute_result", 
                    "data": {
                        "text/plain": "            total_bill   tip smoker   day    time  size  tips_pct\nsmoker                                                           \nNo     88        24.71  5.85     No  Thur   Lunch     2  0.310180\n       185       20.69  5.00     No   Sun  Dinner     5  0.318674\n       51        10.29  2.60     No   Sun  Dinner     2  0.338101\n       149        7.51  2.00     No  Thur   Lunch     2  0.362976\n       232       11.61  3.39     No   Sat  Dinner     2  0.412409\nYes    109       14.31  4.00    Yes   Sat  Dinner     2  0.387973\n       183       23.17  6.50    Yes   Sun  Dinner     4  0.389922\n       67         3.07  1.00    Yes   Sat  Dinner     1  0.483092\n       178        9.60  4.00    Yes   Sun  Dinner     2  0.714286\n       172        7.25  5.15    Yes   Sun  Dinner     2  2.452381", 
                        "text/html": "<div>\n<style scoped>\n    .dataframe tbody tr th:only-of-type {\n        vertical-align: middle;\n    }\n\n    .dataframe tbody tr th {\n        vertical-align: top;\n    }\n\n    .dataframe thead th {\n        text-align: right;\n    }\n</style>\n<table border=\"1\" class=\"dataframe\">\n  <thead>\n    <tr style=\"text-align: right;\">\n      <th></th>\n      <th></th>\n      <th>total_bill</th>\n      <th>tip</th>\n      <th>smoker</th>\n      <th>day</th>\n      <th>time</th>\n      <th>size</th>\n      <th>tips_pct</th>\n    </tr>\n    <tr>\n      <th>smoker</th>\n      <th></th>\n      <th></th>\n      <th></th>\n      <th></th>\n      <th></th>\n      <th></th>\n      <th></th>\n      <th></th>\n    </tr>\n  </thead>\n  <tbody>\n    <tr>\n      <th rowspan=\"5\" valign=\"top\">No</th>\n      <th>88</th>\n      <td>24.71</td>\n      <td>5.85</td>\n      <td>No</td>\n      <td>Thur</td>\n      <td>Lunch</td>\n      <td>2</td>\n      <td>0.310180</td>\n    </tr>\n    <tr>\n      <th>185</th>\n      <td>20.69</td>\n      <td>5.00</td>\n      <td>No</td>\n      <td>Sun</td>\n      <td>Dinner</td>\n      <td>5</td>\n      <td>0.318674</td>\n    </tr>\n    <tr>\n      <th>51</th>\n      <td>10.29</td>\n      <td>2.60</td>\n      <td>No</td>\n      <td>Sun</td>\n      <td>Dinner</td>\n      <td>2</td>\n      <td>0.338101</td>\n    </tr>\n    <tr>\n      <th>149</th>\n      <td>7.51</td>\n      <td>2.00</td>\n      <td>No</td>\n      <td>Thur</td>\n      <td>Lunch</td>\n      <td>2</td>\n      <td>0.362976</td>\n    </tr>\n    <tr>\n      <th>232</th>\n      <td>11.61</td>\n      <td>3.39</td>\n      <td>No</td>\n      <td>Sat</td>\n      <td>Dinner</td>\n      <td>2</td>\n      <td>0.412409</td>\n    </tr>\n    <tr>\n      <th rowspan=\"5\" valign=\"top\">Yes</th>\n      <th>109</th>\n      <td>14.31</td>\n      <td>4.00</td>\n      <td>Yes</td>\n      <td>Sat</td>\n      <td>Dinner</td>\n      <td>2</td>\n      <td>0.387973</td>\n    </tr>\n    <tr>\n      <th>183</th>\n      <td>23.17</td>\n      <td>6.50</td>\n      <td>Yes</td>\n      <td>Sun</td>\n      <td>Dinner</td>\n      <td>4</td>\n      <td>0.389922</td>\n    </tr>\n    <tr>\n      <th>67</th>\n      <td>3.07</td>\n      <td>1.00</td>\n      <td>Yes</td>\n      <td>Sat</td>\n      <td>Dinner</td>\n      <td>1</td>\n      <td>0.483092</td>\n    </tr>\n    <tr>\n      <th>178</th>\n      <td>9.60</td>\n      <td>4.00</td>\n      <td>Yes</td>\n      <td>Sun</td>\n      <td>Dinner</td>\n      <td>2</td>\n      <td>0.714286</td>\n    </tr>\n    <tr>\n      <th>172</th>\n      <td>7.25</td>\n      <td>5.15</td>\n      <td>Yes</td>\n      <td>Sun</td>\n      <td>Dinner</td>\n      <td>2</td>\n      <td>2.452381</td>\n    </tr>\n  </tbody>\n</table>\n</div>"
                    }, 
                    "execution_count": 8, 
                    "metadata": {}
                }
            ], 
            "execution_count": 8
        }, 
        {
            "source": "", 
            "cell_type": "code", 
            "metadata": {}, 
            "outputs": [], 
            "execution_count": null
        }
    ], 
    "metadata": {
        "kernelspec": {
            "display_name": "Python 3.5", 
            "name": "python3", 
            "language": "python"
        }, 
        "language_info": {
            "mimetype": "text/x-python", 
            "nbconvert_exporter": "python", 
            "version": "3.5.4", 
            "name": "python", 
            "pygments_lexer": "ipython3", 
            "file_extension": ".py", 
            "codemirror_mode": {
                "version": 3, 
                "name": "ipython"
            }
        }
    }, 
    "nbformat": 4
}