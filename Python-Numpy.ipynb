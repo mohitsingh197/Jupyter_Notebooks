{
    "nbformat_minor": 1, 
    "cells": [
        {
            "source": "import pandas as pd\nimport numpy as np", 
            "cell_type": "code", 
            "metadata": {}, 
            "outputs": [], 
            "execution_count": 1
        }, 
        {
            "source": "frame = pd.DataFrame({'a': range(7), 'b': range(7,0,-1), 'c': ['one','one','one','two','two','two','two'], 'd': [0,1,2,0,1,2,3]})\n#frame = pd.DataFrame({'a': range(7), 'b': range(7,0,-1), 'c': ['one','two','three','four','five','six','seven'], 'd': [0,1,2,3,4,5,6]})\nprint('frame')\nprint(frame)\nprint(\"\\nframe.set_index(['c','d'])\")\nprint(frame.set_index(['c','d']))", 
            "cell_type": "code", 
            "metadata": {}, 
            "outputs": [], 
            "execution_count": 2
        }, 
        {
            "source": "frame2 = frame.set_index(['c','d'])\nprint(\"frame2 \\n\")\nprint( frame2)\nprint('frame2.reset_index()')\nprint(frame2.reset_index())", 
            "cell_type": "code", 
            "metadata": {}, 
            "outputs": [], 
            "execution_count": 3
        }, 
        {
            "source": "df1 = pd.DataFrame({'key': ['b','b','a','c','a','a','b'], 'data1': range(7)})\nprint('df1')\nprint(df1)\ndf2 = pd.DataFrame({'key': ['a','b','c'], 'data2': range(3)})\nprint('\\ndf2')\nprint(df2)\nprint('\\nmerge()')\nprint(pd.merge(df1,df2))", 
            "cell_type": "code", 
            "metadata": {}, 
            "outputs": [], 
            "execution_count": 4
        }, 
        {
            "source": "print('df1')\nprint(df1)\ndf3 = pd.DataFrame({'key1': ['a','b','c'], 'data2': range(3)})\nprint('\\ndf3')\nprint(df3)\nprint('\\nmerge()')\nprint(pd.merge(df1,df3, left_on='key', right_on='key1'))\nprint(pd.merge(df1,df3, left_on='key', right_on='key1', how='outer'))", 
            "cell_type": "code", 
            "metadata": {}, 
            "outputs": [], 
            "execution_count": 5
        }, 
        {
            "source": "print(range(12))\nprint(np.arange(12).reshape(3,4))\nprint(np.random.rand(12).reshape(3,4))\nprint(np.random.randn(12).reshape(3,4))", 
            "cell_type": "code", 
            "metadata": {}, 
            "outputs": [], 
            "execution_count": 6
        }, 
        {
            "source": "import pip\npip.main(['install', 'tensorflow'])", 
            "cell_type": "code", 
            "metadata": {}, 
            "outputs": [], 
            "execution_count": 7
        }, 
        {
            "source": "pip.main(['install', 'keras'])", 
            "cell_type": "code", 
            "metadata": {}, 
            "outputs": [], 
            "execution_count": 8
        }, 
        {
            "source": "import tensorflow as tf\nfrom keras.models import Sequential", 
            "cell_type": "code", 
            "metadata": {}, 
            "outputs": [], 
            "execution_count": 9
        }, 
        {
            "source": "arr = np.arange(1000000)\narr1 = list(range(1000000))", 
            "cell_type": "code", 
            "metadata": {}, 
            "outputs": [], 
            "execution_count": 10
        }, 
        {
            "source": "%time for _ in range(10): arr = arr * 2\n%time for _ in range(10): list2 = [x * 2 for x in arr1] ", 
            "cell_type": "code", 
            "metadata": {}, 
            "outputs": [], 
            "execution_count": 11
        }, 
        {
            "source": "naar = np.ndarray(12)\nprint(naar.shape)\nprint(naar.reshape(3,4).shape)", 
            "cell_type": "code", 
            "metadata": {}, 
            "outputs": [], 
            "execution_count": 12
        }, 
        {
            "source": "data = np.arange(12).reshape(1,12)\ndata1 = data.reshape(12,1)\nprint(data)\nprint(data1)", 
            "cell_type": "code", 
            "metadata": {}, 
            "outputs": [], 
            "execution_count": 13
        }, 
        {
            "source": "print(data * data1)\nprint(data1 * data)", 
            "cell_type": "code", 
            "metadata": {}, 
            "outputs": [], 
            "execution_count": 14
        }, 
        {
            "source": "print(data.dot(data1))\nprint(data1.dot(data))", 
            "cell_type": "code", 
            "metadata": {}, 
            "outputs": [], 
            "execution_count": 15
        }, 
        {
            "source": "data.reshape(2,3,2)", 
            "cell_type": "code", 
            "metadata": {}, 
            "outputs": [], 
            "execution_count": 16
        }, 
        {
            "source": "import tensorflow as tf", 
            "cell_type": "code", 
            "metadata": {}, 
            "outputs": [], 
            "execution_count": 17
        }, 
        {
            "source": "np.empty([8, 4])", 
            "cell_type": "code", 
            "metadata": {}, 
            "outputs": [
                {
                    "output_type": "execute_result", 
                    "data": {
                        "text/plain": "array([[  2.34918446e-310,   2.34918446e-310,   4.65441005e-310,\n          1.97626258e-323],\n       [  4.65441224e-310,   2.34920006e-310,   2.34922556e-310,\n          0.00000000e+000],\n       [  0.00000000e+000,   0.00000000e+000,   1.31099792e+203,\n          0.00000000e+000],\n       [  0.00000000e+000,   1.00639034e-115,   0.00000000e+000,\n          0.00000000e+000],\n       [ -2.16423973e-075,   0.00000000e+000,   0.00000000e+000,\n          0.00000000e+000],\n       [  0.00000000e+000,   0.00000000e+000,  -2.90529324e+151,\n          0.00000000e+000],\n       [  0.00000000e+000,  -8.09537565e+154,   0.00000000e+000,\n          0.00000000e+000],\n       [  2.34922557e-310,   7.16395186e-322,   4.65441117e-310,\n          2.34918446e-310]])"
                    }, 
                    "execution_count": 4, 
                    "metadata": {}
                }
            ], 
            "execution_count": 4
        }, 
        {
            "source": "arr3d = np.arange(12).reshape(2,2,3)\narr3d", 
            "cell_type": "code", 
            "metadata": {}, 
            "outputs": [
                {
                    "output_type": "execute_result", 
                    "data": {
                        "text/plain": "array([[[ 0,  1,  2],\n        [ 3,  4,  5]],\n\n       [[ 6,  7,  8],\n        [ 9, 10, 11]]])"
                    }, 
                    "execution_count": 8, 
                    "metadata": {}
                }
            ], 
            "execution_count": 8
        }, 
        {
            "source": "arr3d[1,0]", 
            "cell_type": "code", 
            "metadata": {}, 
            "outputs": [
                {
                    "output_type": "execute_result", 
                    "data": {
                        "text/plain": "array([6, 7, 8])"
                    }, 
                    "execution_count": 3, 
                    "metadata": {}
                }
            ], 
            "execution_count": 3
        }, 
        {
            "source": "arr3d[1:, 1:, 1:3]", 
            "cell_type": "code", 
            "metadata": {}, 
            "outputs": [
                {
                    "output_type": "execute_result", 
                    "data": {
                        "text/plain": "array([[[10, 11]]])"
                    }, 
                    "execution_count": 4, 
                    "metadata": {}
                }
            ], 
            "execution_count": 4
        }, 
        {
            "source": "arr3d[0:, 1:, 1:3]", 
            "cell_type": "code", 
            "metadata": {}, 
            "outputs": [
                {
                    "output_type": "execute_result", 
                    "data": {
                        "text/plain": "array([[[ 4,  5]],\n\n       [[10, 11]]])"
                    }, 
                    "execution_count": 5, 
                    "metadata": {}
                }
            ], 
            "execution_count": 5
        }, 
        {
            "source": "arr3d = np.arange(96).reshape(8,4,3)\nprint(arr3d)\nprint(arr3d[1,0])\nprint(arr3d[[1,0],[2,3]])", 
            "cell_type": "code", 
            "metadata": {}, 
            "outputs": [
                {
                    "output_type": "stream", 
                    "name": "stdout", 
                    "text": "[[[ 0  1  2]\n  [ 3  4  5]\n  [ 6  7  8]\n  [ 9 10 11]]\n\n [[12 13 14]\n  [15 16 17]\n  [18 19 20]\n  [21 22 23]]\n\n [[24 25 26]\n  [27 28 29]\n  [30 31 32]\n  [33 34 35]]\n\n [[36 37 38]\n  [39 40 41]\n  [42 43 44]\n  [45 46 47]]\n\n [[48 49 50]\n  [51 52 53]\n  [54 55 56]\n  [57 58 59]]\n\n [[60 61 62]\n  [63 64 65]\n  [66 67 68]\n  [69 70 71]]\n\n [[72 73 74]\n  [75 76 77]\n  [78 79 80]\n  [81 82 83]]\n\n [[84 85 86]\n  [87 88 89]\n  [90 91 92]\n  [93 94 95]]]\n[12 13 14]\n[[18 19 20]\n [ 9 10 11]]\n"
                }
            ], 
            "execution_count": 14
        }, 
        {
            "source": "point1 = np.arange(-5, 5, 0.01)\npoint1.shape", 
            "cell_type": "code", 
            "metadata": {}, 
            "outputs": [
                {
                    "output_type": "execute_result", 
                    "data": {
                        "text/plain": "(1000,)"
                    }, 
                    "execution_count": 18, 
                    "metadata": {}
                }
            ], 
            "execution_count": 18
        }, 
        {
            "source": "point2 = np.arange(-4, 4, 0.01)\npoint2.shape", 
            "cell_type": "code", 
            "metadata": {}, 
            "outputs": [
                {
                    "output_type": "execute_result", 
                    "data": {
                        "text/plain": "(800,)"
                    }, 
                    "execution_count": 17, 
                    "metadata": {}
                }
            ], 
            "execution_count": 17
        }, 
        {
            "source": "lst = np.meshgrid(point1, point2)\nprint(lst)\nprint(lst[0].shape)\nprint(lst[1].shape)", 
            "cell_type": "code", 
            "metadata": {}, 
            "outputs": [
                {
                    "output_type": "stream", 
                    "name": "stdout", 
                    "text": "[array([[-5.  , -4.99, -4.98, ...,  4.97,  4.98,  4.99],\n       [-5.  , -4.99, -4.98, ...,  4.97,  4.98,  4.99],\n       [-5.  , -4.99, -4.98, ...,  4.97,  4.98,  4.99],\n       ..., \n       [-5.  , -4.99, -4.98, ...,  4.97,  4.98,  4.99],\n       [-5.  , -4.99, -4.98, ...,  4.97,  4.98,  4.99],\n       [-5.  , -4.99, -4.98, ...,  4.97,  4.98,  4.99]]), array([[-4.  , -4.  , -4.  , ..., -4.  , -4.  , -4.  ],\n       [-3.99, -3.99, -3.99, ..., -3.99, -3.99, -3.99],\n       [-3.98, -3.98, -3.98, ..., -3.98, -3.98, -3.98],\n       ..., \n       [ 3.97,  3.97,  3.97, ...,  3.97,  3.97,  3.97],\n       [ 3.98,  3.98,  3.98, ...,  3.98,  3.98,  3.98],\n       [ 3.99,  3.99,  3.99, ...,  3.99,  3.99,  3.99]])]\n(800, 1000)\n(800, 1000)\n"
                }
            ], 
            "execution_count": 22
        }, 
        {
            "source": "points = np.arange(-5, 5, 0.01)\nxs, ys = np.meshgrid(points, points)\nprint(xs.shape)\nprint(ys.shape)", 
            "cell_type": "code", 
            "metadata": {}, 
            "outputs": [
                {
                    "output_type": "stream", 
                    "name": "stdout", 
                    "text": "(1000, 1000)\n(1000, 1000)\n"
                }
            ], 
            "execution_count": 23
        }, 
        {
            "source": "z = np.sqrt(xs**2 + ys**2)\nprint(z.shape)\nz", 
            "cell_type": "code", 
            "metadata": {}, 
            "outputs": [
                {
                    "output_type": "stream", 
                    "name": "stdout", 
                    "text": "(1000, 1000)\n"
                }, 
                {
                    "output_type": "execute_result", 
                    "data": {
                        "text/plain": "array([[ 7.07106781,  7.06400028,  7.05693985, ...,  7.04988652,\n         7.05693985,  7.06400028],\n       [ 7.06400028,  7.05692568,  7.04985815, ...,  7.04279774,\n         7.04985815,  7.05692568],\n       [ 7.05693985,  7.04985815,  7.04278354, ...,  7.03571603,\n         7.04278354,  7.04985815],\n       ..., \n       [ 7.04988652,  7.04279774,  7.03571603, ...,  7.0286414 ,\n         7.03571603,  7.04279774],\n       [ 7.05693985,  7.04985815,  7.04278354, ...,  7.03571603,\n         7.04278354,  7.04985815],\n       [ 7.06400028,  7.05692568,  7.04985815, ...,  7.04279774,\n         7.04985815,  7.05692568]])"
                    }, 
                    "execution_count": 26, 
                    "metadata": {}
                }
            ], 
            "execution_count": 26
        }, 
        {
            "source": "import matplotlib.pyplot as plt\nplt.imshow(z, cmap=plt.cm.Blues)\nplt.colorbar()\nplt.title(\"Image plot\")", 
            "cell_type": "code", 
            "metadata": {}, 
            "outputs": [
                {
                    "output_type": "execute_result", 
                    "data": {
                        "text/plain": "Text(0.5,1,'Image plot')"
                    }, 
                    "execution_count": 30, 
                    "metadata": {}
                }, 
                {
                    "output_type": "display_data", 
                    "data": {
                        "image/png": "[encoded data removed]", 
                        "text/plain": "<matplotlib.figure.Figure at 0x2b56bf343400>"
                    }, 
                    "metadata": {}
                }
            ], 
            "execution_count": 30
        }, 
        {
            "source": "arr = np.random.randn(6,4)\narr", 
            "cell_type": "code", 
            "metadata": {}, 
            "outputs": [
                {
                    "output_type": "execute_result", 
                    "data": {
                        "text/plain": "array([[ 0.9393508 , -0.07337886,  2.55321212, -0.01037819],\n       [ 1.31794415, -0.34678386, -0.14182026,  1.87453258],\n       [-1.31224212,  2.09215858,  0.10394349,  0.93408331],\n       [-0.08744286, -0.13947615, -1.29704963, -0.22674227],\n       [-1.96481067,  0.61902012, -0.40816055, -1.22387786],\n       [-0.0787512 , -0.26686508, -0.58042317,  1.51272335]])"
                    }, 
                    "execution_count": 43, 
                    "metadata": {}
                }
            ], 
            "execution_count": 43
        }, 
        {
            "source": "np.where(arr > 0, 2, -2) # Replace all negative values to -2 and positive to 2", 
            "cell_type": "code", 
            "metadata": {}, 
            "outputs": [
                {
                    "output_type": "execute_result", 
                    "data": {
                        "text/plain": "array([[ 2, -2,  2, -2],\n       [ 2, -2, -2,  2],\n       [-2,  2,  2,  2],\n       [-2, -2, -2, -2],\n       [-2,  2, -2, -2],\n       [-2, -2, -2,  2]])"
                    }, 
                    "execution_count": 44, 
                    "metadata": {}
                }
            ], 
            "execution_count": 44
        }, 
        {
            "source": "np.where(arr > 0, 2, arr) # replace only positive values by 2", 
            "cell_type": "code", 
            "metadata": {}, 
            "outputs": [
                {
                    "output_type": "execute_result", 
                    "data": {
                        "text/plain": "array([[ 2.        , -0.07337886,  2.        , -0.01037819],\n       [ 2.        , -0.34678386, -0.14182026,  2.        ],\n       [-1.31224212,  2.        ,  2.        ,  2.        ],\n       [-0.08744286, -0.13947615, -1.29704963, -0.22674227],\n       [-1.96481067,  2.        , -0.40816055, -1.22387786],\n       [-0.0787512 , -0.26686508, -0.58042317,  2.        ]])"
                    }, 
                    "execution_count": 45, 
                    "metadata": {}
                }
            ], 
            "execution_count": 45
        }, 
        {
            "source": "arrStd = np.std(arr)\narrVar = arrStd ** 2\nprint(arrStd)\nprint(arrVar)", 
            "cell_type": "code", 
            "metadata": {}, 
            "outputs": [
                {
                    "output_type": "stream", 
                    "name": "stdout", 
                    "text": "1.10969072407\n1.23141350309\n"
                }
            ], 
            "execution_count": 46
        }, 
        {
            "source": "print(np.mean(arr))\nprint(np.mean(arr, axis=0))\nprint(np.mean(arr, axis=1))", 
            "cell_type": "code", 
            "metadata": {}, 
            "outputs": [
                {
                    "output_type": "stream", 
                    "name": "stdout", 
                    "text": "0.157865240684\n[-0.19765865  0.31411246  0.03828367  0.47672349]\n[ 0.85220147  0.67596815  0.45448581 -0.43767773 -0.74445724  0.14667098]\n"
                }
            ], 
            "execution_count": 47
        }, 
        {
            "source": "print(np.max(arr))\nprint(np.max(arr, axis=0))\nprint(np.max(arr, axis=1))", 
            "cell_type": "code", 
            "metadata": {}, 
            "outputs": [
                {
                    "output_type": "stream", 
                    "name": "stdout", 
                    "text": "2.55321211651\n[ 1.31794415  2.09215858  2.55321212  1.87453258]\n[ 2.55321212  1.87453258  2.09215858 -0.08744286  0.61902012  1.51272335]\n"
                }
            ], 
            "execution_count": 48
        }, 
        {
            "source": "x = np.random.randn(48).reshape(4,3,4)\nx", 
            "cell_type": "code", 
            "metadata": {}, 
            "outputs": [
                {
                    "output_type": "execute_result", 
                    "data": {
                        "text/plain": "array([[[ -2.80808696e-01,  -1.18129787e+00,   1.11093153e-01,\n          -7.18115008e-01],\n        [  1.44351545e+00,   2.72327325e+00,  -1.29975178e+00,\n          -3.96606482e-02],\n        [  9.28587310e-01,   9.39948742e-01,  -1.61454672e+00,\n           8.67330015e-03]],\n\n       [[  2.33719165e-01,  -1.66796790e+00,  -2.78973471e-01,\n           2.94625926e-01],\n        [  3.52778976e-04,  -5.53819901e-01,  -1.15203883e+00,\n          -5.59856382e-01],\n        [  9.98792522e-01,  -2.27643676e-01,   4.86574164e-01,\n           6.75637324e-01]],\n\n       [[  8.77462609e-01,   9.29887136e-01,   3.61697601e-01,\n           2.36087873e-01],\n        [ -1.80514743e+00,  -9.82109945e-01,  -1.00794564e+00,\n           7.77311026e-01],\n        [ -1.65145650e+00,   9.50630050e-01,  -1.92790891e-01,\n          -1.58331948e-01]],\n\n       [[ -3.29186353e-01,   1.28914982e+00,   7.31129727e-01,\n          -6.19672803e-01],\n        [ -1.36232800e+00,   2.66437390e-01,   1.36750920e+00,\n           7.84702524e-01],\n        [ -8.55869476e-01,   6.29909087e-01,  -3.10574378e-02,\n           2.21335075e-02]]])"
                    }, 
                    "execution_count": 55, 
                    "metadata": {}
                }
            ], 
            "execution_count": 55
        }, 
        {
            "source": "print(x.max())\nprint(x.max(0))\nprint(x.max(1))\nprint(x.max(2))", 
            "cell_type": "code", 
            "metadata": {}, 
            "outputs": [
                {
                    "output_type": "stream", 
                    "name": "stdout", 
                    "text": "2.72327324787\n[[ 0.87746261  1.28914982  0.73112973  0.29462593]\n [ 1.44351545  2.72327325  1.3675092   0.78470252]\n [ 0.99879252  0.95063005  0.48657416  0.67563732]]\n[[ 1.44351545  2.72327325  0.11109315  0.0086733 ]\n [ 0.99879252 -0.22764368  0.48657416  0.67563732]\n [ 0.87746261  0.95063005  0.3616976   0.77731103]\n [-0.32918635  1.28914982  1.3675092   0.78470252]]\n[[  1.11093153e-01   2.72327325e+00   9.39948742e-01]\n [  2.94625926e-01   3.52778976e-04   9.98792522e-01]\n [  9.29887136e-01   7.77311026e-01   9.50630050e-01]\n [  1.28914982e+00   1.36750920e+00   6.29909087e-01]]\n"
                }
            ], 
            "execution_count": 56
        }, 
        {
            "source": "(x > 0).sum()", 
            "cell_type": "code", 
            "metadata": {}, 
            "outputs": [
                {
                    "output_type": "execute_result", 
                    "data": {
                        "text/plain": "25"
                    }, 
                    "execution_count": 57, 
                    "metadata": {}
                }
            ], 
            "execution_count": 57
        }, 
        {
            "source": "s = np.arange(20).reshape(5,4)[[0,2,1,4,3]]\nprint(s)\ns.sort()\nprint(s)\ns = np.arange(20).reshape(5,4)[[0,2,1,4,3]]\ns.sort(0)\nprint(s)\ns = np.arange(20).reshape(5,4)[[0,2,1,4,3]]\ns.sort(1)\nprint(s)", 
            "cell_type": "code", 
            "metadata": {}, 
            "outputs": [
                {
                    "output_type": "stream", 
                    "name": "stdout", 
                    "text": "[[ 0  1  2  3]\n [ 8  9 10 11]\n [ 4  5  6  7]\n [16 17 18 19]\n [12 13 14 15]]\n[[ 0  1  2  3]\n [ 8  9 10 11]\n [ 4  5  6  7]\n [16 17 18 19]\n [12 13 14 15]]\n[[ 0  1  2  3]\n [ 4  5  6  7]\n [ 8  9 10 11]\n [12 13 14 15]\n [16 17 18 19]]\n[[ 0  1  2  3]\n [ 8  9 10 11]\n [ 4  5  6  7]\n [16 17 18 19]\n [12 13 14 15]]\n"
                }
            ], 
            "execution_count": 71
        }, 
        {
            "source": "large_arr = np.random.randn(1000)\nlarge_arr.sort()\nprint(large_arr[int(0.05 * len(large_arr))]) #5% quantile", 
            "cell_type": "code", 
            "metadata": {}, 
            "outputs": [
                {
                    "output_type": "stream", 
                    "name": "stdout", 
                    "text": "-1.68291473421\n"
                }
            ], 
            "execution_count": 74
        }, 
        {
            "source": "from numpy.linalg import inv, qr, svd\n\nX = np.random.randn(5, 5)\nmat = X.T.dot(X)\nmat", 
            "cell_type": "code", 
            "metadata": {}, 
            "outputs": [
                {
                    "output_type": "execute_result", 
                    "data": {
                        "text/plain": "array([[ 1.35883685, -0.10520836,  2.19005413,  0.12054769,  0.86329949],\n       [-0.10520836,  3.0734317 ,  1.24557838, -1.98730734, -0.15762609],\n       [ 2.19005413,  1.24557838,  5.50775335, -3.29482949, -0.74990879],\n       [ 0.12054769, -1.98730734, -3.29482949,  8.02890107,  2.88762962],\n       [ 0.86329949, -0.15762609, -0.74990879,  2.88762962,  6.13646564]])"
                    }, 
                    "execution_count": 84, 
                    "metadata": {}
                }
            ], 
            "execution_count": 84
        }, 
        {
            "source": "xinv = inv(mat)\nxinv", 
            "cell_type": "code", 
            "metadata": {}, 
            "outputs": [
                {
                    "output_type": "execute_result", 
                    "data": {
                        "text/plain": "array([[ 35.41172051,   5.22196254, -19.13908985,  -5.42706715,\n         -4.63279947],\n       [  5.22196254,   1.17244654,  -2.85970266,  -0.70136558,\n         -0.72395771],\n       [-19.13908985,  -2.85970266,  10.5904439 ,   3.03109037,   2.4869696 ],\n       [ -5.42706715,  -0.70136558,   3.03109037,   1.05321436,\n          0.62028851],\n       [ -4.63279947,  -0.72395771,   2.4869696 ,   0.62028851,\n          0.80815505]])"
                    }, 
                    "execution_count": 85, 
                    "metadata": {}
                }
            ], 
            "execution_count": 85
        }, 
        {
            "source": "mat.dot(xinv)", 
            "cell_type": "code", 
            "metadata": {}, 
            "outputs": [
                {
                    "output_type": "execute_result", 
                    "data": {
                        "text/plain": "array([[  1.00000000e+00,  -4.29023460e-16,  -1.98402347e-15,\n          3.82712298e-16,  -2.41131197e-18],\n       [ -2.96107422e-15,   1.00000000e+00,   1.57472200e-16,\n          3.60505040e-17,   3.60403555e-16],\n       [  8.30378614e-15,  -4.29039095e-16,   1.00000000e+00,\n         -5.00918026e-16,   1.93002095e-16],\n       [ -3.25468414e-15,  -1.74878856e-15,   3.55076849e-15,\n          1.00000000e+00,   1.25070746e-15],\n       [  3.22700811e-15,  -1.16987191e-15,  -4.33724599e-15,\n         -4.68011628e-16,   1.00000000e+00]])"
                    }, 
                    "execution_count": 86, 
                    "metadata": {}
                }
            ], 
            "execution_count": 86
        }, 
        {
            "source": "q, r = qr(mat) # QR decomposition\nprint(q)\nprint(r)", 
            "cell_type": "code", 
            "metadata": {}, 
            "outputs": [
                {
                    "output_type": "stream", 
                    "name": "stdout", 
                    "text": "[[-0.49905791  0.11839382 -0.02342533 -0.03993003 -0.85719365]\n [ 0.03863971 -0.81406693  0.47683601 -0.30080947 -0.13395183]\n [-0.8043378  -0.1807798  -0.24980243 -0.21497385  0.46015688]\n [-0.04427336  0.52989084  0.53018861 -0.65037174  0.11477021]\n [-0.31706267  0.09905705  0.65465828  0.662361    0.14953062]]\n[[-2.72280393 -0.69264206 -5.09128802  1.24218064 -1.90723635]\n [ 0.         -3.80828047 -3.57056957  6.76819311  2.50408454]\n [ 0.          0.         -3.07103133  6.01985536  5.64022054]\n [ 0.          0.          0.         -2.00782757  2.36067742]\n [ 0.          0.          0.          0.          0.18502714]]\n"
                }
            ], 
            "execution_count": 87
        }, 
        {
            "source": "svd(mat)", 
            "cell_type": "code", 
            "metadata": {}, 
            "outputs": [
                {
                    "output_type": "execute_result", 
                    "data": {
                        "text/plain": "(array([[-0.05122901,  0.38559242, -0.33522014,  0.01908585, -0.85787952],\n        [-0.23121112,  0.15305459,  0.49192772, -0.81535251, -0.12776195],\n        [-0.46823065,  0.56804975, -0.47543963, -0.12051846,  0.46638182],\n        [ 0.74737936,  0.04276457, -0.43190548, -0.48526253,  0.13256402],\n        [ 0.4075551 ,  0.70949521,  0.48275189,  0.29125864,  0.11240284]]),\n array([ 12.27429577,   6.14528751,   3.53143655,   2.13355276,   0.02081603]),\n array([[-0.05122901, -0.23121112, -0.46823065,  0.74737936,  0.4075551 ],\n        [ 0.38559242,  0.15305459,  0.56804975,  0.04276457,  0.70949521],\n        [-0.33522014,  0.49192772, -0.47543963, -0.43190548,  0.48275189],\n        [ 0.01908585, -0.81535251, -0.12051846, -0.48526253,  0.29125864],\n        [-0.85787952, -0.12776195,  0.46638182,  0.13256402,  0.11240284]]))"
                    }, 
                    "execution_count": 88, 
                    "metadata": {}
                }
            ], 
            "execution_count": 88
        }
    ], 
    "metadata": {
        "kernelspec": {
            "display_name": "Python 3.5", 
            "name": "python3", 
            "language": "python"
        }, 
        "language_info": {
            "mimetype": "text/x-python", 
            "nbconvert_exporter": "python", 
            "version": "3.5.4", 
            "name": "python", 
            "file_extension": ".py", 
            "pygments_lexer": "ipython3", 
            "codemirror_mode": {
                "version": 3, 
                "name": "ipython"
            }
        }, 
        "name": "spark-python-2", 
        "notebookId": 207810616350191
    }, 
    "nbformat": 4
}