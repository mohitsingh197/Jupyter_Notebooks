{
    "nbformat_minor": 1, 
    "cells": [
        {
            "execution_count": 3, 
            "cell_type": "code", 
            "metadata": {}, 
            "outputs": [
                {
                    "output_type": "stream", 
                    "name": "stdout", 
                    "text": "/bin/sh: kaggle: command not found\r\n"
                }
            ], 
            "source": "!kaggle datasets download -d fivethirtyeight/uber-pickups-in-new-york-city"
        }, 
        {
            "execution_count": null, 
            "cell_type": "code", 
            "metadata": {}, 
            "outputs": [
                {
                    "output_type": "stream", 
                    "name": "stdout", 
                    "text": "Uninstalling kaggle-1.3.6:\r\n  /gpfs/global_fs01/sym_shared/YPProdSpark/user/s613-ce8dfc36d194a2-56b67737d6cd/.local/bin/kaggle\r\n  /gpfs/global_fs01/sym_shared/YPProdSpark/user/s613-ce8dfc36d194a2-56b67737d6cd/.local/lib/python3.5/site-packages/kaggle-1.3.6.dist-info/DESCRIPTION.rst\r\n  /gpfs/global_fs01/sym_shared/YPProdSpark/user/s613-ce8dfc36d194a2-56b67737d6cd/.local/lib/python3.5/site-packages/kaggle-1.3.6.dist-info/INSTALLER\r\n  /gpfs/global_fs01/sym_shared/YPProdSpark/user/s613-ce8dfc36d194a2-56b67737d6cd/.local/lib/python3.5/site-packages/kaggle-1.3.6.dist-info/METADATA\r\n  /gpfs/global_fs01/sym_shared/YPProdSpark/user/s613-ce8dfc36d194a2-56b67737d6cd/.local/lib/python3.5/site-packages/kaggle-1.3.6.dist-info/RECORD\r\n  /gpfs/global_fs01/sym_shared/YPProdSpark/user/s613-ce8dfc36d194a2-56b67737d6cd/.local/lib/python3.5/site-packages/kaggle-1.3.6.dist-info/WHEEL\r\n  /gpfs/global_fs01/sym_shared/YPProdSpark/user/s613-ce8dfc36d194a2-56b67737d6cd/.local/lib/python3.5/site-packages/kaggle-1.3.6.dist-info/entry_points.txt\r\n  /gpfs/global_fs01/sym_shared/YPProdSpark/user/s613-ce8dfc36d194a2-56b67737d6cd/.local/lib/python3.5/site-packages/kaggle-1.3.6.dist-info/metadata.json\r\n  /gpfs/global_fs01/sym_shared/YPProdSpark/user/s613-ce8dfc36d194a2-56b67737d6cd/.local/lib/python3.5/site-packages/kaggle-1.3.6.dist-info/top_level.txt\r\n  /gpfs/global_fs01/sym_shared/YPProdSpark/user/s613-ce8dfc36d194a2-56b67737d6cd/.local/lib/python3.5/site-packages/kaggle/__init__.py\r\n  /gpfs/global_fs01/sym_shared/YPProdSpark/user/s613-ce8dfc36d194a2-56b67737d6cd/.local/lib/python3.5/site-packages/kaggle/__pycache__/__init__.cpython-35.pyc\r\n  /gpfs/global_fs01/sym_shared/YPProdSpark/user/s613-ce8dfc36d194a2-56b67737d6cd/.local/lib/python3.5/site-packages/kaggle/__pycache__/api_client.cpython-35.pyc\r\n  /gpfs/global_fs01/sym_shared/YPProdSpark/user/s613-ce8dfc36d194a2-56b67737d6cd/.local/lib/python3.5/site-packages/kaggle/__pycache__/cli.cpython-35.pyc\r\n  /gpfs/global_fs01/sym_shared/YPProdSpark/user/s613-ce8dfc36d194a2-56b67737d6cd/.local/lib/python3.5/site-packages/kaggle/__pycache__/configuration.cpython-35.pyc\r\n  /gpfs/global_fs01/sym_shared/YPProdSpark/user/s613-ce8dfc36d194a2-56b67737d6cd/.local/lib/python3.5/site-packages/kaggle/__pycache__/rest.cpython-35.pyc\r\n  /gpfs/global_fs01/sym_shared/YPProdSpark/user/s613-ce8dfc36d194a2-56b67737d6cd/.local/lib/python3.5/site-packages/kaggle/api/__init__.py\r\n  /gpfs/global_fs01/sym_shared/YPProdSpark/user/s613-ce8dfc36d194a2-56b67737d6cd/.local/lib/python3.5/site-packages/kaggle/api/__pycache__/__init__.cpython-35.pyc\r\n  /gpfs/global_fs01/sym_shared/YPProdSpark/user/s613-ce8dfc36d194a2-56b67737d6cd/.local/lib/python3.5/site-packages/kaggle/api/__pycache__/kaggle_api.cpython-35.pyc\r\n  /gpfs/global_fs01/sym_shared/YPProdSpark/user/s613-ce8dfc36d194a2-56b67737d6cd/.local/lib/python3.5/site-packages/kaggle/api/__pycache__/kaggle_api_extended.cpython-35.pyc\r\n  /gpfs/global_fs01/sym_shared/YPProdSpark/user/s613-ce8dfc36d194a2-56b67737d6cd/.local/lib/python3.5/site-packages/kaggle/api/kaggle_api.py\r\n  /gpfs/global_fs01/sym_shared/YPProdSpark/user/s613-ce8dfc36d194a2-56b67737d6cd/.local/lib/python3.5/site-packages/kaggle/api/kaggle_api_extended.py\r\n  /gpfs/global_fs01/sym_shared/YPProdSpark/user/s613-ce8dfc36d194a2-56b67737d6cd/.local/lib/python3.5/site-packages/kaggle/api_client.py\r\n  /gpfs/global_fs01/sym_shared/YPProdSpark/user/s613-ce8dfc36d194a2-56b67737d6cd/.local/lib/python3.5/site-packages/kaggle/cli.py\r\n  /gpfs/global_fs01/sym_shared/YPProdSpark/user/s613-ce8dfc36d194a2-56b67737d6cd/.local/lib/python3.5/site-packages/kaggle/configuration.py\r\n  /gpfs/global_fs01/sym_shared/YPProdSpark/user/s613-ce8dfc36d194a2-56b67737d6cd/.local/lib/python3.5/site-packages/kaggle/models/__init__.py\r\n  /gpfs/global_fs01/sym_shared/YPProdSpark/user/s613-ce8dfc36d194a2-56b67737d6cd/.local/lib/python3.5/site-packages/kaggle/models/__pycache__/__init__.cpython-35.pyc\r\n  /gpfs/global_fs01/sym_shared/YPProdSpark/user/s613-ce8dfc36d194a2-56b67737d6cd/.local/lib/python3.5/site-packages/kaggle/models/__pycache__/dataset_column.cpython-35.pyc\r\n  /gpfs/global_fs01/sym_shared/YPProdSpark/user/s613-ce8dfc36d194a2-56b67737d6cd/.local/lib/python3.5/site-packages/kaggle/models/__pycache__/dataset_new_request.cpython-35.pyc\r\n  /gpfs/global_fs01/sym_shared/YPProdSpark/user/s613-ce8dfc36d194a2-56b67737d6cd/.local/lib/python3.5/site-packages/kaggle/models/__pycache__/dataset_new_version_request.cpython-35.pyc\r\n  /gpfs/global_fs01/sym_shared/YPProdSpark/user/s613-ce8dfc36d194a2-56b67737d6cd/.local/lib/python3.5/site-packages/kaggle/models/__pycache__/dataset_upload_file.cpython-35.pyc\r\n  /gpfs/global_fs01/sym_shared/YPProdSpark/user/s613-ce8dfc36d194a2-56b67737d6cd/.local/lib/python3.5/site-packages/kaggle/models/__pycache__/error.cpython-35.pyc\r\n  /gpfs/global_fs01/sym_shared/YPProdSpark/user/s613-ce8dfc36d194a2-56b67737d6cd/.local/lib/python3.5/site-packages/kaggle/models/__pycache__/kaggle_models_extended.cpython-35.pyc\r\n  /gpfs/global_fs01/sym_shared/YPProdSpark/user/s613-ce8dfc36d194a2-56b67737d6cd/.local/lib/python3.5/site-packages/kaggle/models/__pycache__/result.cpython-35.pyc\r\n  /gpfs/global_fs01/sym_shared/YPProdSpark/user/s613-ce8dfc36d194a2-56b67737d6cd/.local/lib/python3.5/site-packages/kaggle/models/dataset_column.py\r\n  /gpfs/global_fs01/sym_shared/YPProdSpark/user/s613-ce8dfc36d194a2-56b67737d6cd/.local/lib/python3.5/site-packages/kaggle/models/dataset_new_request.py\r\n  /gpfs/global_fs01/sym_shared/YPProdSpark/user/s613-ce8dfc36d194a2-56b67737d6cd/.local/lib/python3.5/site-packages/kaggle/models/dataset_new_version_request.py\r\n  /gpfs/global_fs01/sym_shared/YPProdSpark/user/s613-ce8dfc36d194a2-56b67737d6cd/.local/lib/python3.5/site-packages/kaggle/models/dataset_upload_file.py\r\n  /gpfs/global_fs01/sym_shared/YPProdSpark/user/s613-ce8dfc36d194a2-56b67737d6cd/.local/lib/python3.5/site-packages/kaggle/models/error.py\r\n  /gpfs/global_fs01/sym_shared/YPProdSpark/user/s613-ce8dfc36d194a2-56b67737d6cd/.local/lib/python3.5/site-packages/kaggle/models/kaggle_models_extended.py\r\n  /gpfs/global_fs01/sym_shared/YPProdSpark/user/s613-ce8dfc36d194a2-56b67737d6cd/.local/lib/python3.5/site-packages/kaggle/models/result.py\r\n  /gpfs/global_fs01/sym_shared/YPProdSpark/user/s613-ce8dfc36d194a2-56b67737d6cd/.local/lib/python3.5/site-packages/kaggle/rest.py\r\nProceed (y/n)? "
                }
            ], 
            "source": "!pip uninstall kaggle"
        }, 
        {
            "execution_count": null, 
            "cell_type": "code", 
            "metadata": {}, 
            "outputs": [], 
            "source": "!y"
        }, 
        {
            "execution_count": null, 
            "cell_type": "code", 
            "metadata": {}, 
            "outputs": [], 
            "source": ""
        }
    ], 
    "metadata": {
        "kernelspec": {
            "display_name": "Python 3.5 with Spark 2.1", 
            "name": "python3-spark21", 
            "language": "python"
        }, 
        "language_info": {
            "mimetype": "text/x-python", 
            "nbconvert_exporter": "python", 
            "version": "3.5.4", 
            "name": "python", 
            "file_extension": ".py", 
            "pygments_lexer": "ipython3", 
            "codemirror_mode": {
                "version": 3, 
                "name": "ipython"
            }
        }
    }, 
    "nbformat": 4
}